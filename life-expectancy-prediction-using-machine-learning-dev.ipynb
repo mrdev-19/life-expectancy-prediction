{
 "cells": [
  {
   "cell_type": "code",
   "execution_count": 1,
   "id": "f33730a4",
   "metadata": {
    "execution": {
     "iopub.execute_input": "2022-04-14T03:52:51.754841Z",
     "iopub.status.busy": "2022-04-14T03:52:51.754160Z",
     "iopub.status.idle": "2022-04-14T03:52:51.760338Z",
     "shell.execute_reply": "2022-04-14T03:52:51.759597Z"
    },
    "id": "O3RP1qEkqAyM",
    "papermill": {
     "duration": 0.127391,
     "end_time": "2022-04-14T03:52:51.763761",
     "exception": false,
     "start_time": "2022-04-14T03:52:51.636370",
     "status": "completed"
    },
    "tags": []
   },
   "outputs": [],
   "source": [
    "#************************************************************************************************\n",
    "#************************************************************************************************\n",
    "#Chukka Chanakya Devendra\n",
    "#Title: Life Expectancy Prediction Using Machine Learning\n",
    "#************************************************************************************************\n",
    "#************************************************************************************************"
   ]
  },
  {
   "cell_type": "code",
   "execution_count": 2,
   "id": "f8d44c2d",
   "metadata": {
    "execution": {
     "iopub.execute_input": "2022-04-14T03:52:52.000674Z",
     "iopub.status.busy": "2022-04-14T03:52:52.000365Z",
     "iopub.status.idle": "2022-04-14T03:52:53.372271Z",
     "shell.execute_reply": "2022-04-14T03:52:53.370978Z"
    },
    "id": "8f4jaKZ5qAyQ",
    "outputId": "edcf52f6-827f-41e1-d349-595895019b6a",
    "papermill": {
     "duration": 1.494003,
     "end_time": "2022-04-14T03:52:53.375412",
     "exception": false,
     "start_time": "2022-04-14T03:52:51.881409",
     "status": "completed"
    },
    "tags": []
   },
   "outputs": [
    {
     "name": "stdout",
     "output_type": "stream",
     "text": [
      "['lifeexpectancydatacsv']\n"
     ]
    }
   ],
   "source": [
    "import numpy as np\n",
    "import pandas as pd\n",
    "from sklearn.linear_model import LinearRegression\n",
    "from matplotlib import pyplot as plt\n",
    "from sklearn.model_selection import train_test_split\n",
    "import io\n",
    "\n",
    "# uploaded = files.upload()\n",
    "# df = pd.read_csv(io.BytesIO(uploaded['Life_Expectancy_Data_1.csv']))\n",
    "\n",
    "\n",
    "import os\n",
    "print(os.listdir(\"../input\"))\n"
   ]
  },
  {
   "cell_type": "code",
   "execution_count": 3,
   "id": "09b157fb",
   "metadata": {
    "execution": {
     "iopub.execute_input": "2022-04-14T03:52:53.612129Z",
     "iopub.status.busy": "2022-04-14T03:52:53.611749Z",
     "iopub.status.idle": "2022-04-14T03:52:53.650736Z",
     "shell.execute_reply": "2022-04-14T03:52:53.649752Z"
    },
    "papermill": {
     "duration": 0.160427,
     "end_time": "2022-04-14T03:52:53.653904",
     "exception": false,
     "start_time": "2022-04-14T03:52:53.493477",
     "status": "completed"
    },
    "tags": []
   },
   "outputs": [],
   "source": [
    "df = pd.read_csv(\"../input/lifeexpectancydatacsv/Life Expectancy Data.csv\",float_precision='round_trip')\n"
   ]
  },
  {
   "cell_type": "markdown",
   "id": "ff0ccdad",
   "metadata": {
    "id": "PpFg0Dl-BYDx",
    "papermill": {
     "duration": 0.117209,
     "end_time": "2022-04-14T03:52:53.889389",
     "exception": false,
     "start_time": "2022-04-14T03:52:53.772180",
     "status": "completed"
    },
    "tags": []
   },
   "source": [
    "# Basic descriptive statistics"
   ]
  },
  {
   "cell_type": "code",
   "execution_count": 4,
   "id": "20596ab9",
   "metadata": {
    "execution": {
     "iopub.execute_input": "2022-04-14T03:52:54.123398Z",
     "iopub.status.busy": "2022-04-14T03:52:54.123150Z",
     "iopub.status.idle": "2022-04-14T03:52:54.125903Z",
     "shell.execute_reply": "2022-04-14T03:52:54.125441Z"
    },
    "id": "4Zz3TyeLBXiG",
    "papermill": {
     "duration": 0.123258,
     "end_time": "2022-04-14T03:52:54.127918",
     "exception": false,
     "start_time": "2022-04-14T03:52:54.004660",
     "status": "completed"
    },
    "tags": []
   },
   "outputs": [],
   "source": [
    "# import pandas_profiling as pp\n",
    "# pp.ProfileReport(df)"
   ]
  },
  {
   "cell_type": "code",
   "execution_count": 5,
   "id": "1bfc73a3",
   "metadata": {
    "execution": {
     "iopub.execute_input": "2022-04-14T03:52:54.362706Z",
     "iopub.status.busy": "2022-04-14T03:52:54.362402Z",
     "iopub.status.idle": "2022-04-14T03:52:54.367073Z",
     "shell.execute_reply": "2022-04-14T03:52:54.366095Z"
    },
    "id": "ZkED4rFzA87y",
    "papermill": {
     "duration": 0.125289,
     "end_time": "2022-04-14T03:52:54.369486",
     "exception": false,
     "start_time": "2022-04-14T03:52:54.244197",
     "status": "completed"
    },
    "tags": []
   },
   "outputs": [],
   "source": [
    "from sklearn.preprocessing import MinMaxScaler\n",
    "from sklearn.preprocessing import StandardScaler\n",
    "scaler = MinMaxScaler() #normalization"
   ]
  },
  {
   "cell_type": "code",
   "execution_count": 6,
   "id": "a2f0bd3c",
   "metadata": {
    "execution": {
     "iopub.execute_input": "2022-04-14T03:52:54.604034Z",
     "iopub.status.busy": "2022-04-14T03:52:54.603213Z",
     "iopub.status.idle": "2022-04-14T03:52:54.606903Z",
     "shell.execute_reply": "2022-04-14T03:52:54.606425Z"
    },
    "id": "ngivJd_JuLuh",
    "papermill": {
     "duration": 0.12213,
     "end_time": "2022-04-14T03:52:54.608804",
     "exception": false,
     "start_time": "2022-04-14T03:52:54.486674",
     "status": "completed"
    },
    "tags": []
   },
   "outputs": [],
   "source": [
    "from sklearn.metrics import accuracy_score\n",
    "from sklearn.metrics import r2_score\n",
    "from sklearn.model_selection import cross_val_score\n",
    "from sklearn import metrics"
   ]
  },
  {
   "cell_type": "code",
   "execution_count": 7,
   "id": "1688251f",
   "metadata": {
    "execution": {
     "iopub.execute_input": "2022-04-14T03:52:54.841367Z",
     "iopub.status.busy": "2022-04-14T03:52:54.840963Z",
     "iopub.status.idle": "2022-04-14T03:52:54.911728Z",
     "shell.execute_reply": "2022-04-14T03:52:54.910325Z"
    },
    "id": "Qmq433ifqAyR",
    "outputId": "192777da-b4fc-49a4-dd2e-f2afdd03fc6c",
    "papermill": {
     "duration": 0.190802,
     "end_time": "2022-04-14T03:52:54.914855",
     "exception": false,
     "start_time": "2022-04-14T03:52:54.724053",
     "status": "completed"
    },
    "tags": []
   },
   "outputs": [
    {
     "name": "stdout",
     "output_type": "stream",
     "text": [
      "Orginal Dataset:\n",
      "\n"
     ]
    },
    {
     "data": {
      "text/html": [
       "<div>\n",
       "<style scoped>\n",
       "    .dataframe tbody tr th:only-of-type {\n",
       "        vertical-align: middle;\n",
       "    }\n",
       "\n",
       "    .dataframe tbody tr th {\n",
       "        vertical-align: top;\n",
       "    }\n",
       "\n",
       "    .dataframe thead th {\n",
       "        text-align: right;\n",
       "    }\n",
       "</style>\n",
       "<table border=\"1\" class=\"dataframe\">\n",
       "  <thead>\n",
       "    <tr style=\"text-align: right;\">\n",
       "      <th></th>\n",
       "      <th>Country</th>\n",
       "      <th>Year</th>\n",
       "      <th>Status</th>\n",
       "      <th>Life_expect</th>\n",
       "      <th>Adult_Mortality</th>\n",
       "      <th>infant_deaths</th>\n",
       "      <th>Alcohol</th>\n",
       "      <th>percentage_expenditure</th>\n",
       "      <th>HepatitisB</th>\n",
       "      <th>Measles</th>\n",
       "      <th>...</th>\n",
       "      <th>Polio</th>\n",
       "      <th>Total_expenditure</th>\n",
       "      <th>Diphtheria</th>\n",
       "      <th>HIV_AIDS</th>\n",
       "      <th>GDP</th>\n",
       "      <th>Population</th>\n",
       "      <th>thinness_1-19_years</th>\n",
       "      <th>thinness_5-9_years</th>\n",
       "      <th>Income_composition_of_resources</th>\n",
       "      <th>Schooling</th>\n",
       "    </tr>\n",
       "  </thead>\n",
       "  <tbody>\n",
       "    <tr>\n",
       "      <th>0</th>\n",
       "      <td>Afghanistan</td>\n",
       "      <td>2015</td>\n",
       "      <td>Developing</td>\n",
       "      <td>65.0</td>\n",
       "      <td>263.0</td>\n",
       "      <td>62</td>\n",
       "      <td>0.0</td>\n",
       "      <td>71.0</td>\n",
       "      <td>65.0</td>\n",
       "      <td>1154</td>\n",
       "      <td>...</td>\n",
       "      <td>6.0</td>\n",
       "      <td>8.0</td>\n",
       "      <td>65.0</td>\n",
       "      <td>0.0</td>\n",
       "      <td>584.0</td>\n",
       "      <td>33736494.0</td>\n",
       "      <td>17.0</td>\n",
       "      <td>17.0</td>\n",
       "      <td>0.0</td>\n",
       "      <td>10.0</td>\n",
       "    </tr>\n",
       "    <tr>\n",
       "      <th>1</th>\n",
       "      <td>Afghanistan</td>\n",
       "      <td>2014</td>\n",
       "      <td>Developing</td>\n",
       "      <td>60.0</td>\n",
       "      <td>271.0</td>\n",
       "      <td>64</td>\n",
       "      <td>0.0</td>\n",
       "      <td>74.0</td>\n",
       "      <td>62.0</td>\n",
       "      <td>492</td>\n",
       "      <td>...</td>\n",
       "      <td>58.0</td>\n",
       "      <td>8.0</td>\n",
       "      <td>62.0</td>\n",
       "      <td>0.0</td>\n",
       "      <td>613.0</td>\n",
       "      <td>327582.0</td>\n",
       "      <td>18.0</td>\n",
       "      <td>18.0</td>\n",
       "      <td>0.0</td>\n",
       "      <td>10.0</td>\n",
       "    </tr>\n",
       "    <tr>\n",
       "      <th>2</th>\n",
       "      <td>Afghanistan</td>\n",
       "      <td>2013</td>\n",
       "      <td>Developing</td>\n",
       "      <td>60.0</td>\n",
       "      <td>268.0</td>\n",
       "      <td>66</td>\n",
       "      <td>0.0</td>\n",
       "      <td>73.0</td>\n",
       "      <td>64.0</td>\n",
       "      <td>430</td>\n",
       "      <td>...</td>\n",
       "      <td>62.0</td>\n",
       "      <td>8.0</td>\n",
       "      <td>64.0</td>\n",
       "      <td>0.0</td>\n",
       "      <td>632.0</td>\n",
       "      <td>31731688.0</td>\n",
       "      <td>18.0</td>\n",
       "      <td>18.0</td>\n",
       "      <td>0.0</td>\n",
       "      <td>10.0</td>\n",
       "    </tr>\n",
       "    <tr>\n",
       "      <th>3</th>\n",
       "      <td>Afghanistan</td>\n",
       "      <td>2012</td>\n",
       "      <td>Developing</td>\n",
       "      <td>60.0</td>\n",
       "      <td>272.0</td>\n",
       "      <td>69</td>\n",
       "      <td>0.0</td>\n",
       "      <td>78.0</td>\n",
       "      <td>67.0</td>\n",
       "      <td>2787</td>\n",
       "      <td>...</td>\n",
       "      <td>67.0</td>\n",
       "      <td>9.0</td>\n",
       "      <td>67.0</td>\n",
       "      <td>0.0</td>\n",
       "      <td>670.0</td>\n",
       "      <td>3696958.0</td>\n",
       "      <td>18.0</td>\n",
       "      <td>18.0</td>\n",
       "      <td>0.0</td>\n",
       "      <td>10.0</td>\n",
       "    </tr>\n",
       "    <tr>\n",
       "      <th>4</th>\n",
       "      <td>Afghanistan</td>\n",
       "      <td>2011</td>\n",
       "      <td>Developing</td>\n",
       "      <td>59.0</td>\n",
       "      <td>275.0</td>\n",
       "      <td>71</td>\n",
       "      <td>0.0</td>\n",
       "      <td>7.0</td>\n",
       "      <td>68.0</td>\n",
       "      <td>3013</td>\n",
       "      <td>...</td>\n",
       "      <td>68.0</td>\n",
       "      <td>8.0</td>\n",
       "      <td>68.0</td>\n",
       "      <td>0.0</td>\n",
       "      <td>64.0</td>\n",
       "      <td>2978599.0</td>\n",
       "      <td>18.0</td>\n",
       "      <td>18.0</td>\n",
       "      <td>0.0</td>\n",
       "      <td>10.0</td>\n",
       "    </tr>\n",
       "    <tr>\n",
       "      <th>...</th>\n",
       "      <td>...</td>\n",
       "      <td>...</td>\n",
       "      <td>...</td>\n",
       "      <td>...</td>\n",
       "      <td>...</td>\n",
       "      <td>...</td>\n",
       "      <td>...</td>\n",
       "      <td>...</td>\n",
       "      <td>...</td>\n",
       "      <td>...</td>\n",
       "      <td>...</td>\n",
       "      <td>...</td>\n",
       "      <td>...</td>\n",
       "      <td>...</td>\n",
       "      <td>...</td>\n",
       "      <td>...</td>\n",
       "      <td>...</td>\n",
       "      <td>...</td>\n",
       "      <td>...</td>\n",
       "      <td>...</td>\n",
       "      <td>...</td>\n",
       "    </tr>\n",
       "    <tr>\n",
       "      <th>2933</th>\n",
       "      <td>Zimbabwe</td>\n",
       "      <td>2004</td>\n",
       "      <td>Developing</td>\n",
       "      <td>44.0</td>\n",
       "      <td>723.0</td>\n",
       "      <td>27</td>\n",
       "      <td>4.0</td>\n",
       "      <td>0.0</td>\n",
       "      <td>68.0</td>\n",
       "      <td>31</td>\n",
       "      <td>...</td>\n",
       "      <td>67.0</td>\n",
       "      <td>7.0</td>\n",
       "      <td>65.0</td>\n",
       "      <td>34.0</td>\n",
       "      <td>454.0</td>\n",
       "      <td>12777511.0</td>\n",
       "      <td>9.0</td>\n",
       "      <td>9.0</td>\n",
       "      <td>0.0</td>\n",
       "      <td>9.0</td>\n",
       "    </tr>\n",
       "    <tr>\n",
       "      <th>2934</th>\n",
       "      <td>Zimbabwe</td>\n",
       "      <td>2003</td>\n",
       "      <td>Developing</td>\n",
       "      <td>44.0</td>\n",
       "      <td>715.0</td>\n",
       "      <td>26</td>\n",
       "      <td>4.0</td>\n",
       "      <td>0.0</td>\n",
       "      <td>7.0</td>\n",
       "      <td>998</td>\n",
       "      <td>...</td>\n",
       "      <td>7.0</td>\n",
       "      <td>7.0</td>\n",
       "      <td>68.0</td>\n",
       "      <td>37.0</td>\n",
       "      <td>453.0</td>\n",
       "      <td>12633897.0</td>\n",
       "      <td>10.0</td>\n",
       "      <td>10.0</td>\n",
       "      <td>0.0</td>\n",
       "      <td>10.0</td>\n",
       "    </tr>\n",
       "    <tr>\n",
       "      <th>2935</th>\n",
       "      <td>Zimbabwe</td>\n",
       "      <td>2002</td>\n",
       "      <td>Developing</td>\n",
       "      <td>45.0</td>\n",
       "      <td>73.0</td>\n",
       "      <td>25</td>\n",
       "      <td>4.0</td>\n",
       "      <td>0.0</td>\n",
       "      <td>73.0</td>\n",
       "      <td>304</td>\n",
       "      <td>...</td>\n",
       "      <td>73.0</td>\n",
       "      <td>7.0</td>\n",
       "      <td>71.0</td>\n",
       "      <td>40.0</td>\n",
       "      <td>57.0</td>\n",
       "      <td>125525.0</td>\n",
       "      <td>1.0</td>\n",
       "      <td>1.0</td>\n",
       "      <td>0.0</td>\n",
       "      <td>10.0</td>\n",
       "    </tr>\n",
       "    <tr>\n",
       "      <th>2936</th>\n",
       "      <td>Zimbabwe</td>\n",
       "      <td>2001</td>\n",
       "      <td>Developing</td>\n",
       "      <td>45.0</td>\n",
       "      <td>686.0</td>\n",
       "      <td>25</td>\n",
       "      <td>2.0</td>\n",
       "      <td>0.0</td>\n",
       "      <td>76.0</td>\n",
       "      <td>529</td>\n",
       "      <td>...</td>\n",
       "      <td>76.0</td>\n",
       "      <td>6.0</td>\n",
       "      <td>75.0</td>\n",
       "      <td>42.0</td>\n",
       "      <td>549.0</td>\n",
       "      <td>12366165.0</td>\n",
       "      <td>2.0</td>\n",
       "      <td>2.0</td>\n",
       "      <td>0.0</td>\n",
       "      <td>10.0</td>\n",
       "    </tr>\n",
       "    <tr>\n",
       "      <th>2937</th>\n",
       "      <td>Zimbabwe</td>\n",
       "      <td>2000</td>\n",
       "      <td>Developing</td>\n",
       "      <td>46.0</td>\n",
       "      <td>665.0</td>\n",
       "      <td>24</td>\n",
       "      <td>2.0</td>\n",
       "      <td>0.0</td>\n",
       "      <td>79.0</td>\n",
       "      <td>1483</td>\n",
       "      <td>...</td>\n",
       "      <td>78.0</td>\n",
       "      <td>7.0</td>\n",
       "      <td>78.0</td>\n",
       "      <td>44.0</td>\n",
       "      <td>547.0</td>\n",
       "      <td>12222251.0</td>\n",
       "      <td>11.0</td>\n",
       "      <td>11.0</td>\n",
       "      <td>0.0</td>\n",
       "      <td>10.0</td>\n",
       "    </tr>\n",
       "  </tbody>\n",
       "</table>\n",
       "<p>2938 rows × 22 columns</p>\n",
       "</div>"
      ],
      "text/plain": [
       "          Country  Year      Status  Life_expect  Adult_Mortality  \\\n",
       "0     Afghanistan  2015  Developing         65.0            263.0   \n",
       "1     Afghanistan  2014  Developing         60.0            271.0   \n",
       "2     Afghanistan  2013  Developing         60.0            268.0   \n",
       "3     Afghanistan  2012  Developing         60.0            272.0   \n",
       "4     Afghanistan  2011  Developing         59.0            275.0   \n",
       "...           ...   ...         ...          ...              ...   \n",
       "2933     Zimbabwe  2004  Developing         44.0            723.0   \n",
       "2934     Zimbabwe  2003  Developing         44.0            715.0   \n",
       "2935     Zimbabwe  2002  Developing         45.0             73.0   \n",
       "2936     Zimbabwe  2001  Developing         45.0            686.0   \n",
       "2937     Zimbabwe  2000  Developing         46.0            665.0   \n",
       "\n",
       "      infant_deaths  Alcohol  percentage_expenditure  HepatitisB  Measles  \\\n",
       "0                62      0.0                    71.0        65.0     1154   \n",
       "1                64      0.0                    74.0        62.0      492   \n",
       "2                66      0.0                    73.0        64.0      430   \n",
       "3                69      0.0                    78.0        67.0     2787   \n",
       "4                71      0.0                     7.0        68.0     3013   \n",
       "...             ...      ...                     ...         ...      ...   \n",
       "2933             27      4.0                     0.0        68.0       31   \n",
       "2934             26      4.0                     0.0         7.0      998   \n",
       "2935             25      4.0                     0.0        73.0      304   \n",
       "2936             25      2.0                     0.0        76.0      529   \n",
       "2937             24      2.0                     0.0        79.0     1483   \n",
       "\n",
       "      ...  Polio  Total_expenditure  Diphtheria  HIV_AIDS    GDP  Population  \\\n",
       "0     ...    6.0                8.0        65.0       0.0  584.0  33736494.0   \n",
       "1     ...   58.0                8.0        62.0       0.0  613.0    327582.0   \n",
       "2     ...   62.0                8.0        64.0       0.0  632.0  31731688.0   \n",
       "3     ...   67.0                9.0        67.0       0.0  670.0   3696958.0   \n",
       "4     ...   68.0                8.0        68.0       0.0   64.0   2978599.0   \n",
       "...   ...    ...                ...         ...       ...    ...         ...   \n",
       "2933  ...   67.0                7.0        65.0      34.0  454.0  12777511.0   \n",
       "2934  ...    7.0                7.0        68.0      37.0  453.0  12633897.0   \n",
       "2935  ...   73.0                7.0        71.0      40.0   57.0    125525.0   \n",
       "2936  ...   76.0                6.0        75.0      42.0  549.0  12366165.0   \n",
       "2937  ...   78.0                7.0        78.0      44.0  547.0  12222251.0   \n",
       "\n",
       "      thinness_1-19_years  thinness_5-9_years  \\\n",
       "0                    17.0                17.0   \n",
       "1                    18.0                18.0   \n",
       "2                    18.0                18.0   \n",
       "3                    18.0                18.0   \n",
       "4                    18.0                18.0   \n",
       "...                   ...                 ...   \n",
       "2933                  9.0                 9.0   \n",
       "2934                 10.0                10.0   \n",
       "2935                  1.0                 1.0   \n",
       "2936                  2.0                 2.0   \n",
       "2937                 11.0                11.0   \n",
       "\n",
       "      Income_composition_of_resources  Schooling  \n",
       "0                                 0.0       10.0  \n",
       "1                                 0.0       10.0  \n",
       "2                                 0.0       10.0  \n",
       "3                                 0.0       10.0  \n",
       "4                                 0.0       10.0  \n",
       "...                               ...        ...  \n",
       "2933                              0.0        9.0  \n",
       "2934                              0.0       10.0  \n",
       "2935                              0.0       10.0  \n",
       "2936                              0.0       10.0  \n",
       "2937                              0.0       10.0  \n",
       "\n",
       "[2938 rows x 22 columns]"
      ]
     },
     "execution_count": 7,
     "metadata": {},
     "output_type": "execute_result"
    }
   ],
   "source": [
    "\n",
    "df = round(df)\n",
    "print('Orginal Dataset:')\n",
    "print('')\n",
    "df"
   ]
  },
  {
   "cell_type": "markdown",
   "id": "2073389f",
   "metadata": {
    "id": "g39w4gUpsGhF",
    "papermill": {
     "duration": 0.118866,
     "end_time": "2022-04-14T03:52:55.151869",
     "exception": false,
     "start_time": "2022-04-14T03:52:55.033003",
     "status": "completed"
    },
    "tags": []
   },
   "source": [
    "Clean Data"
   ]
  },
  {
   "cell_type": "code",
   "execution_count": 8,
   "id": "b6403bff",
   "metadata": {
    "execution": {
     "iopub.execute_input": "2022-04-14T03:52:55.389207Z",
     "iopub.status.busy": "2022-04-14T03:52:55.388804Z",
     "iopub.status.idle": "2022-04-14T03:52:55.402648Z",
     "shell.execute_reply": "2022-04-14T03:52:55.401983Z"
    },
    "id": "fJ82EHPWqAyR",
    "papermill": {
     "duration": 0.135578,
     "end_time": "2022-04-14T03:52:55.405105",
     "exception": false,
     "start_time": "2022-04-14T03:52:55.269527",
     "status": "completed"
    },
    "tags": []
   },
   "outputs": [],
   "source": [
    "#____________________________________________PREPROCESS(Clean) DATA____________________________________________\n",
    "\n",
    "#REMOVE all NaN\n",
    "df.dropna(subset = [\"Country\",\"Year\",\"Status\",\"Life_expect\",\"Adult_Mortality\"\n",
    "                       ,\"infant_deaths\",\"Alcohol\",\"percentage_expenditure\",\"HepatitisB\",\"Measles\"\n",
    "                       ,\"BMI\",\"under_five_deaths\",\"Polio\",\"Total_expenditure\",\"Diphtheria\"\n",
    "                       ,\"HIV_AIDS\",\"GDP\",\"Population\",\"thinness_1-19_years\",\"thinness_5-9_years\"\n",
    "                       ,\"Income_composition_of_resources\",\"Schooling\"], inplace=True)"
   ]
  },
  {
   "cell_type": "code",
   "execution_count": 9,
   "id": "9e8ad524",
   "metadata": {
    "execution": {
     "iopub.execute_input": "2022-04-14T03:52:55.643246Z",
     "iopub.status.busy": "2022-04-14T03:52:55.642371Z",
     "iopub.status.idle": "2022-04-14T03:52:55.648507Z",
     "shell.execute_reply": "2022-04-14T03:52:55.648033Z"
    },
    "id": "OIikJVw9qAyS",
    "papermill": {
     "duration": 0.127377,
     "end_time": "2022-04-14T03:52:55.650514",
     "exception": false,
     "start_time": "2022-04-14T03:52:55.523137",
     "status": "completed"
    },
    "tags": []
   },
   "outputs": [],
   "source": [
    "#Change Stats from Developing/Developed to 0/1\n",
    "a = 0\n",
    "tempStatus = []\n",
    "for i in df.Status:\n",
    "    if i == \"Developing\":\n",
    "        tempStatus.append(0) \n",
    "        a = a+1\n",
    "    elif i == \"Developed\":\n",
    "        tempStatus.append(1)\n",
    "        a = a+1\n",
    "\n",
    "df.Status = tempStatus"
   ]
  },
  {
   "cell_type": "code",
   "execution_count": 10,
   "id": "8539cc42",
   "metadata": {
    "execution": {
     "iopub.execute_input": "2022-04-14T03:52:55.888698Z",
     "iopub.status.busy": "2022-04-14T03:52:55.887930Z",
     "iopub.status.idle": "2022-04-14T03:52:55.893591Z",
     "shell.execute_reply": "2022-04-14T03:52:55.892533Z"
    },
    "id": "BUHxio_9qAyS",
    "papermill": {
     "duration": 0.127081,
     "end_time": "2022-04-14T03:52:55.895679",
     "exception": false,
     "start_time": "2022-04-14T03:52:55.768598",
     "status": "completed"
    },
    "tags": []
   },
   "outputs": [],
   "source": [
    "#TURN Country into number \n",
    "from sklearn import preprocessing\n",
    "le = preprocessing.LabelEncoder()\n",
    "df['Country'] = le.fit_transform(df['Country'])"
   ]
  },
  {
   "cell_type": "code",
   "execution_count": 11,
   "id": "48ddd361",
   "metadata": {
    "execution": {
     "iopub.execute_input": "2022-04-14T03:52:56.132489Z",
     "iopub.status.busy": "2022-04-14T03:52:56.131855Z",
     "iopub.status.idle": "2022-04-14T03:52:56.166170Z",
     "shell.execute_reply": "2022-04-14T03:52:56.165161Z"
    },
    "id": "I1kqykSPqAyT",
    "outputId": "dd594052-a4d9-4ee3-cee6-6b2d02b00e32",
    "papermill": {
     "duration": 0.154915,
     "end_time": "2022-04-14T03:52:56.168297",
     "exception": false,
     "start_time": "2022-04-14T03:52:56.013382",
     "status": "completed"
    },
    "tags": []
   },
   "outputs": [
    {
     "name": "stdout",
     "output_type": "stream",
     "text": [
      "Dataset after clearning:\n",
      "\n"
     ]
    },
    {
     "data": {
      "text/html": [
       "<div>\n",
       "<style scoped>\n",
       "    .dataframe tbody tr th:only-of-type {\n",
       "        vertical-align: middle;\n",
       "    }\n",
       "\n",
       "    .dataframe tbody tr th {\n",
       "        vertical-align: top;\n",
       "    }\n",
       "\n",
       "    .dataframe thead th {\n",
       "        text-align: right;\n",
       "    }\n",
       "</style>\n",
       "<table border=\"1\" class=\"dataframe\">\n",
       "  <thead>\n",
       "    <tr style=\"text-align: right;\">\n",
       "      <th></th>\n",
       "      <th>Country</th>\n",
       "      <th>Year</th>\n",
       "      <th>Status</th>\n",
       "      <th>Life_expect</th>\n",
       "      <th>Adult_Mortality</th>\n",
       "      <th>infant_deaths</th>\n",
       "      <th>Alcohol</th>\n",
       "      <th>percentage_expenditure</th>\n",
       "      <th>HepatitisB</th>\n",
       "      <th>Measles</th>\n",
       "      <th>...</th>\n",
       "      <th>Polio</th>\n",
       "      <th>Total_expenditure</th>\n",
       "      <th>Diphtheria</th>\n",
       "      <th>HIV_AIDS</th>\n",
       "      <th>GDP</th>\n",
       "      <th>Population</th>\n",
       "      <th>thinness_1-19_years</th>\n",
       "      <th>thinness_5-9_years</th>\n",
       "      <th>Income_composition_of_resources</th>\n",
       "      <th>Schooling</th>\n",
       "    </tr>\n",
       "  </thead>\n",
       "  <tbody>\n",
       "    <tr>\n",
       "      <th>0</th>\n",
       "      <td>0</td>\n",
       "      <td>2015</td>\n",
       "      <td>0</td>\n",
       "      <td>65.0</td>\n",
       "      <td>263.0</td>\n",
       "      <td>62</td>\n",
       "      <td>0.0</td>\n",
       "      <td>71.0</td>\n",
       "      <td>65.0</td>\n",
       "      <td>1154</td>\n",
       "      <td>...</td>\n",
       "      <td>6.0</td>\n",
       "      <td>8.0</td>\n",
       "      <td>65.0</td>\n",
       "      <td>0.0</td>\n",
       "      <td>584.0</td>\n",
       "      <td>33736494.0</td>\n",
       "      <td>17.0</td>\n",
       "      <td>17.0</td>\n",
       "      <td>0.0</td>\n",
       "      <td>10.0</td>\n",
       "    </tr>\n",
       "    <tr>\n",
       "      <th>1</th>\n",
       "      <td>0</td>\n",
       "      <td>2014</td>\n",
       "      <td>0</td>\n",
       "      <td>60.0</td>\n",
       "      <td>271.0</td>\n",
       "      <td>64</td>\n",
       "      <td>0.0</td>\n",
       "      <td>74.0</td>\n",
       "      <td>62.0</td>\n",
       "      <td>492</td>\n",
       "      <td>...</td>\n",
       "      <td>58.0</td>\n",
       "      <td>8.0</td>\n",
       "      <td>62.0</td>\n",
       "      <td>0.0</td>\n",
       "      <td>613.0</td>\n",
       "      <td>327582.0</td>\n",
       "      <td>18.0</td>\n",
       "      <td>18.0</td>\n",
       "      <td>0.0</td>\n",
       "      <td>10.0</td>\n",
       "    </tr>\n",
       "    <tr>\n",
       "      <th>2</th>\n",
       "      <td>0</td>\n",
       "      <td>2013</td>\n",
       "      <td>0</td>\n",
       "      <td>60.0</td>\n",
       "      <td>268.0</td>\n",
       "      <td>66</td>\n",
       "      <td>0.0</td>\n",
       "      <td>73.0</td>\n",
       "      <td>64.0</td>\n",
       "      <td>430</td>\n",
       "      <td>...</td>\n",
       "      <td>62.0</td>\n",
       "      <td>8.0</td>\n",
       "      <td>64.0</td>\n",
       "      <td>0.0</td>\n",
       "      <td>632.0</td>\n",
       "      <td>31731688.0</td>\n",
       "      <td>18.0</td>\n",
       "      <td>18.0</td>\n",
       "      <td>0.0</td>\n",
       "      <td>10.0</td>\n",
       "    </tr>\n",
       "    <tr>\n",
       "      <th>3</th>\n",
       "      <td>0</td>\n",
       "      <td>2012</td>\n",
       "      <td>0</td>\n",
       "      <td>60.0</td>\n",
       "      <td>272.0</td>\n",
       "      <td>69</td>\n",
       "      <td>0.0</td>\n",
       "      <td>78.0</td>\n",
       "      <td>67.0</td>\n",
       "      <td>2787</td>\n",
       "      <td>...</td>\n",
       "      <td>67.0</td>\n",
       "      <td>9.0</td>\n",
       "      <td>67.0</td>\n",
       "      <td>0.0</td>\n",
       "      <td>670.0</td>\n",
       "      <td>3696958.0</td>\n",
       "      <td>18.0</td>\n",
       "      <td>18.0</td>\n",
       "      <td>0.0</td>\n",
       "      <td>10.0</td>\n",
       "    </tr>\n",
       "    <tr>\n",
       "      <th>4</th>\n",
       "      <td>0</td>\n",
       "      <td>2011</td>\n",
       "      <td>0</td>\n",
       "      <td>59.0</td>\n",
       "      <td>275.0</td>\n",
       "      <td>71</td>\n",
       "      <td>0.0</td>\n",
       "      <td>7.0</td>\n",
       "      <td>68.0</td>\n",
       "      <td>3013</td>\n",
       "      <td>...</td>\n",
       "      <td>68.0</td>\n",
       "      <td>8.0</td>\n",
       "      <td>68.0</td>\n",
       "      <td>0.0</td>\n",
       "      <td>64.0</td>\n",
       "      <td>2978599.0</td>\n",
       "      <td>18.0</td>\n",
       "      <td>18.0</td>\n",
       "      <td>0.0</td>\n",
       "      <td>10.0</td>\n",
       "    </tr>\n",
       "    <tr>\n",
       "      <th>...</th>\n",
       "      <td>...</td>\n",
       "      <td>...</td>\n",
       "      <td>...</td>\n",
       "      <td>...</td>\n",
       "      <td>...</td>\n",
       "      <td>...</td>\n",
       "      <td>...</td>\n",
       "      <td>...</td>\n",
       "      <td>...</td>\n",
       "      <td>...</td>\n",
       "      <td>...</td>\n",
       "      <td>...</td>\n",
       "      <td>...</td>\n",
       "      <td>...</td>\n",
       "      <td>...</td>\n",
       "      <td>...</td>\n",
       "      <td>...</td>\n",
       "      <td>...</td>\n",
       "      <td>...</td>\n",
       "      <td>...</td>\n",
       "      <td>...</td>\n",
       "    </tr>\n",
       "    <tr>\n",
       "      <th>2933</th>\n",
       "      <td>132</td>\n",
       "      <td>2004</td>\n",
       "      <td>0</td>\n",
       "      <td>44.0</td>\n",
       "      <td>723.0</td>\n",
       "      <td>27</td>\n",
       "      <td>4.0</td>\n",
       "      <td>0.0</td>\n",
       "      <td>68.0</td>\n",
       "      <td>31</td>\n",
       "      <td>...</td>\n",
       "      <td>67.0</td>\n",
       "      <td>7.0</td>\n",
       "      <td>65.0</td>\n",
       "      <td>34.0</td>\n",
       "      <td>454.0</td>\n",
       "      <td>12777511.0</td>\n",
       "      <td>9.0</td>\n",
       "      <td>9.0</td>\n",
       "      <td>0.0</td>\n",
       "      <td>9.0</td>\n",
       "    </tr>\n",
       "    <tr>\n",
       "      <th>2934</th>\n",
       "      <td>132</td>\n",
       "      <td>2003</td>\n",
       "      <td>0</td>\n",
       "      <td>44.0</td>\n",
       "      <td>715.0</td>\n",
       "      <td>26</td>\n",
       "      <td>4.0</td>\n",
       "      <td>0.0</td>\n",
       "      <td>7.0</td>\n",
       "      <td>998</td>\n",
       "      <td>...</td>\n",
       "      <td>7.0</td>\n",
       "      <td>7.0</td>\n",
       "      <td>68.0</td>\n",
       "      <td>37.0</td>\n",
       "      <td>453.0</td>\n",
       "      <td>12633897.0</td>\n",
       "      <td>10.0</td>\n",
       "      <td>10.0</td>\n",
       "      <td>0.0</td>\n",
       "      <td>10.0</td>\n",
       "    </tr>\n",
       "    <tr>\n",
       "      <th>2935</th>\n",
       "      <td>132</td>\n",
       "      <td>2002</td>\n",
       "      <td>0</td>\n",
       "      <td>45.0</td>\n",
       "      <td>73.0</td>\n",
       "      <td>25</td>\n",
       "      <td>4.0</td>\n",
       "      <td>0.0</td>\n",
       "      <td>73.0</td>\n",
       "      <td>304</td>\n",
       "      <td>...</td>\n",
       "      <td>73.0</td>\n",
       "      <td>7.0</td>\n",
       "      <td>71.0</td>\n",
       "      <td>40.0</td>\n",
       "      <td>57.0</td>\n",
       "      <td>125525.0</td>\n",
       "      <td>1.0</td>\n",
       "      <td>1.0</td>\n",
       "      <td>0.0</td>\n",
       "      <td>10.0</td>\n",
       "    </tr>\n",
       "    <tr>\n",
       "      <th>2936</th>\n",
       "      <td>132</td>\n",
       "      <td>2001</td>\n",
       "      <td>0</td>\n",
       "      <td>45.0</td>\n",
       "      <td>686.0</td>\n",
       "      <td>25</td>\n",
       "      <td>2.0</td>\n",
       "      <td>0.0</td>\n",
       "      <td>76.0</td>\n",
       "      <td>529</td>\n",
       "      <td>...</td>\n",
       "      <td>76.0</td>\n",
       "      <td>6.0</td>\n",
       "      <td>75.0</td>\n",
       "      <td>42.0</td>\n",
       "      <td>549.0</td>\n",
       "      <td>12366165.0</td>\n",
       "      <td>2.0</td>\n",
       "      <td>2.0</td>\n",
       "      <td>0.0</td>\n",
       "      <td>10.0</td>\n",
       "    </tr>\n",
       "    <tr>\n",
       "      <th>2937</th>\n",
       "      <td>132</td>\n",
       "      <td>2000</td>\n",
       "      <td>0</td>\n",
       "      <td>46.0</td>\n",
       "      <td>665.0</td>\n",
       "      <td>24</td>\n",
       "      <td>2.0</td>\n",
       "      <td>0.0</td>\n",
       "      <td>79.0</td>\n",
       "      <td>1483</td>\n",
       "      <td>...</td>\n",
       "      <td>78.0</td>\n",
       "      <td>7.0</td>\n",
       "      <td>78.0</td>\n",
       "      <td>44.0</td>\n",
       "      <td>547.0</td>\n",
       "      <td>12222251.0</td>\n",
       "      <td>11.0</td>\n",
       "      <td>11.0</td>\n",
       "      <td>0.0</td>\n",
       "      <td>10.0</td>\n",
       "    </tr>\n",
       "  </tbody>\n",
       "</table>\n",
       "<p>1649 rows × 22 columns</p>\n",
       "</div>"
      ],
      "text/plain": [
       "      Country  Year  Status  Life_expect  Adult_Mortality  infant_deaths  \\\n",
       "0           0  2015       0         65.0            263.0             62   \n",
       "1           0  2014       0         60.0            271.0             64   \n",
       "2           0  2013       0         60.0            268.0             66   \n",
       "3           0  2012       0         60.0            272.0             69   \n",
       "4           0  2011       0         59.0            275.0             71   \n",
       "...       ...   ...     ...          ...              ...            ...   \n",
       "2933      132  2004       0         44.0            723.0             27   \n",
       "2934      132  2003       0         44.0            715.0             26   \n",
       "2935      132  2002       0         45.0             73.0             25   \n",
       "2936      132  2001       0         45.0            686.0             25   \n",
       "2937      132  2000       0         46.0            665.0             24   \n",
       "\n",
       "      Alcohol  percentage_expenditure  HepatitisB  Measles  ...  Polio  \\\n",
       "0         0.0                    71.0        65.0     1154  ...    6.0   \n",
       "1         0.0                    74.0        62.0      492  ...   58.0   \n",
       "2         0.0                    73.0        64.0      430  ...   62.0   \n",
       "3         0.0                    78.0        67.0     2787  ...   67.0   \n",
       "4         0.0                     7.0        68.0     3013  ...   68.0   \n",
       "...       ...                     ...         ...      ...  ...    ...   \n",
       "2933      4.0                     0.0        68.0       31  ...   67.0   \n",
       "2934      4.0                     0.0         7.0      998  ...    7.0   \n",
       "2935      4.0                     0.0        73.0      304  ...   73.0   \n",
       "2936      2.0                     0.0        76.0      529  ...   76.0   \n",
       "2937      2.0                     0.0        79.0     1483  ...   78.0   \n",
       "\n",
       "      Total_expenditure  Diphtheria  HIV_AIDS    GDP  Population  \\\n",
       "0                   8.0        65.0       0.0  584.0  33736494.0   \n",
       "1                   8.0        62.0       0.0  613.0    327582.0   \n",
       "2                   8.0        64.0       0.0  632.0  31731688.0   \n",
       "3                   9.0        67.0       0.0  670.0   3696958.0   \n",
       "4                   8.0        68.0       0.0   64.0   2978599.0   \n",
       "...                 ...         ...       ...    ...         ...   \n",
       "2933                7.0        65.0      34.0  454.0  12777511.0   \n",
       "2934                7.0        68.0      37.0  453.0  12633897.0   \n",
       "2935                7.0        71.0      40.0   57.0    125525.0   \n",
       "2936                6.0        75.0      42.0  549.0  12366165.0   \n",
       "2937                7.0        78.0      44.0  547.0  12222251.0   \n",
       "\n",
       "      thinness_1-19_years  thinness_5-9_years  \\\n",
       "0                    17.0                17.0   \n",
       "1                    18.0                18.0   \n",
       "2                    18.0                18.0   \n",
       "3                    18.0                18.0   \n",
       "4                    18.0                18.0   \n",
       "...                   ...                 ...   \n",
       "2933                  9.0                 9.0   \n",
       "2934                 10.0                10.0   \n",
       "2935                  1.0                 1.0   \n",
       "2936                  2.0                 2.0   \n",
       "2937                 11.0                11.0   \n",
       "\n",
       "      Income_composition_of_resources  Schooling  \n",
       "0                                 0.0       10.0  \n",
       "1                                 0.0       10.0  \n",
       "2                                 0.0       10.0  \n",
       "3                                 0.0       10.0  \n",
       "4                                 0.0       10.0  \n",
       "...                               ...        ...  \n",
       "2933                              0.0        9.0  \n",
       "2934                              0.0       10.0  \n",
       "2935                              0.0       10.0  \n",
       "2936                              0.0       10.0  \n",
       "2937                              0.0       10.0  \n",
       "\n",
       "[1649 rows x 22 columns]"
      ]
     },
     "execution_count": 11,
     "metadata": {},
     "output_type": "execute_result"
    }
   ],
   "source": [
    "#To see our dataset after formating\n",
    "print('Dataset after clearning:')\n",
    "print('')\n",
    "df\n"
   ]
  },
  {
   "cell_type": "markdown",
   "id": "27d67c23",
   "metadata": {
    "id": "cvZJMwOABi_2",
    "papermill": {
     "duration": 0.120136,
     "end_time": "2022-04-14T03:52:56.408666",
     "exception": false,
     "start_time": "2022-04-14T03:52:56.288530",
     "status": "completed"
    },
    "tags": []
   },
   "source": [
    "# Heat Map"
   ]
  },
  {
   "cell_type": "code",
   "execution_count": 12,
   "id": "f5d986fb",
   "metadata": {
    "execution": {
     "iopub.execute_input": "2022-04-14T03:52:56.650357Z",
     "iopub.status.busy": "2022-04-14T03:52:56.650078Z",
     "iopub.status.idle": "2022-04-14T03:52:56.805869Z",
     "shell.execute_reply": "2022-04-14T03:52:56.805266Z"
    },
    "id": "2skb0U40BihK",
    "outputId": "57c23b9f-7ede-404d-8849-4261a72c038b",
    "papermill": {
     "duration": 0.278666,
     "end_time": "2022-04-14T03:52:56.808660",
     "exception": false,
     "start_time": "2022-04-14T03:52:56.529994",
     "status": "completed"
    },
    "tags": []
   },
   "outputs": [
    {
     "data": {
      "text/html": [
       "<style type=\"text/css\">\n",
       "#T_6b60f_row0_col0, #T_6b60f_row1_col1, #T_6b60f_row2_col2, #T_6b60f_row3_col3, #T_6b60f_row4_col4, #T_6b60f_row4_col10, #T_6b60f_row5_col5, #T_6b60f_row6_col6, #T_6b60f_row7_col7, #T_6b60f_row8_col8, #T_6b60f_row9_col9, #T_6b60f_row10_col4, #T_6b60f_row10_col10, #T_6b60f_row11_col11, #T_6b60f_row12_col12, #T_6b60f_row13_col13, #T_6b60f_row14_col14, #T_6b60f_row15_col15, #T_6b60f_row16_col16, #T_6b60f_row17_col17, #T_6b60f_row18_col18, #T_6b60f_row19_col19, #T_6b60f_row20_col20 {\n",
       "  background-color: #b40426;\n",
       "  color: #f1f1f1;\n",
       "}\n",
       "#T_6b60f_row0_col1, #T_6b60f_row1_col0, #T_6b60f_row5_col8, #T_6b60f_row8_col7, #T_6b60f_row10_col0, #T_6b60f_row16_col0, #T_6b60f_row17_col7 {\n",
       "  background-color: #5673e0;\n",
       "  color: #f1f1f1;\n",
       "}\n",
       "#T_6b60f_row0_col2 {\n",
       "  background-color: #7295f4;\n",
       "  color: #f1f1f1;\n",
       "}\n",
       "#T_6b60f_row0_col3, #T_6b60f_row1_col18, #T_6b60f_row5_col13, #T_6b60f_row7_col5, #T_6b60f_row17_col16, #T_6b60f_row20_col7 {\n",
       "  background-color: #b5cdfa;\n",
       "  color: #000000;\n",
       "}\n",
       "#T_6b60f_row0_col4, #T_6b60f_row6_col1 {\n",
       "  background-color: #7093f3;\n",
       "  color: #f1f1f1;\n",
       "}\n",
       "#T_6b60f_row0_col5, #T_6b60f_row1_col2, #T_6b60f_row4_col5, #T_6b60f_row6_col7, #T_6b60f_row8_col14, #T_6b60f_row14_col10, #T_6b60f_row16_col2, #T_6b60f_row19_col12 {\n",
       "  background-color: #7ea1fa;\n",
       "  color: #f1f1f1;\n",
       "}\n",
       "#T_6b60f_row0_col6, #T_6b60f_row0_col8, #T_6b60f_row2_col3, #T_6b60f_row2_col4, #T_6b60f_row5_col4 {\n",
       "  background-color: #5a78e4;\n",
       "  color: #f1f1f1;\n",
       "}\n",
       "#T_6b60f_row0_col7, #T_6b60f_row1_col5, #T_6b60f_row1_col10, #T_6b60f_row4_col9 {\n",
       "  background-color: #7da0f9;\n",
       "  color: #f1f1f1;\n",
       "}\n",
       "#T_6b60f_row0_col9, #T_6b60f_row7_col2, #T_6b60f_row10_col3, #T_6b60f_row13_col15 {\n",
       "  background-color: #adc9fd;\n",
       "  color: #000000;\n",
       "}\n",
       "#T_6b60f_row0_col10, #T_6b60f_row0_col11, #T_6b60f_row5_col3, #T_6b60f_row10_col20, #T_6b60f_row15_col17, #T_6b60f_row15_col18 {\n",
       "  background-color: #7396f5;\n",
       "  color: #f1f1f1;\n",
       "}\n",
       "#T_6b60f_row0_col12, #T_6b60f_row2_col17, #T_6b60f_row2_col18, #T_6b60f_row11_col3, #T_6b60f_row19_col18 {\n",
       "  background-color: #6c8ff1;\n",
       "  color: #f1f1f1;\n",
       "}\n",
       "#T_6b60f_row0_col13, #T_6b60f_row3_col8, #T_6b60f_row3_col9, #T_6b60f_row4_col6, #T_6b60f_row6_col3, #T_6b60f_row14_col8, #T_6b60f_row14_col15, #T_6b60f_row17_col1, #T_6b60f_row19_col1, #T_6b60f_row19_col10 {\n",
       "  background-color: #6384eb;\n",
       "  color: #f1f1f1;\n",
       "}\n",
       "#T_6b60f_row0_col14, #T_6b60f_row2_col13 {\n",
       "  background-color: #a9c6fd;\n",
       "  color: #000000;\n",
       "}\n",
       "#T_6b60f_row0_col15, #T_6b60f_row19_col8 {\n",
       "  background-color: #6180e9;\n",
       "  color: #f1f1f1;\n",
       "}\n",
       "#T_6b60f_row0_col16, #T_6b60f_row3_col16, #T_6b60f_row6_col16 {\n",
       "  background-color: #5977e3;\n",
       "  color: #f1f1f1;\n",
       "}\n",
       "#T_6b60f_row0_col17, #T_6b60f_row11_col15 {\n",
       "  background-color: #abc8fd;\n",
       "  color: #000000;\n",
       "}\n",
       "#T_6b60f_row0_col18, #T_6b60f_row18_col14, #T_6b60f_row18_col16 {\n",
       "  background-color: #b2ccfb;\n",
       "  color: #000000;\n",
       "}\n",
       "#T_6b60f_row0_col19, #T_6b60f_row1_col7, #T_6b60f_row16_col3 {\n",
       "  background-color: #9abbff;\n",
       "  color: #000000;\n",
       "}\n",
       "#T_6b60f_row0_col20, #T_6b60f_row8_col3, #T_6b60f_row15_col13 {\n",
       "  background-color: #9dbdff;\n",
       "  color: #000000;\n",
       "}\n",
       "#T_6b60f_row1_col3, #T_6b60f_row7_col17, #T_6b60f_row7_col18, #T_6b60f_row11_col12 {\n",
       "  background-color: #94b6ff;\n",
       "  color: #000000;\n",
       "}\n",
       "#T_6b60f_row1_col4, #T_6b60f_row15_col1 {\n",
       "  background-color: #7a9df8;\n",
       "  color: #f1f1f1;\n",
       "}\n",
       "#T_6b60f_row1_col6, #T_6b60f_row8_col9 {\n",
       "  background-color: #8fb1fe;\n",
       "  color: #000000;\n",
       "}\n",
       "#T_6b60f_row1_col8, #T_6b60f_row5_col16, #T_6b60f_row8_col12, #T_6b60f_row9_col0, #T_6b60f_row12_col0, #T_6b60f_row14_col16, #T_6b60f_row16_col7, #T_6b60f_row18_col7 {\n",
       "  background-color: #5572df;\n",
       "  color: #f1f1f1;\n",
       "}\n",
       "#T_6b60f_row1_col9, #T_6b60f_row19_col6 {\n",
       "  background-color: #b3cdfb;\n",
       "  color: #000000;\n",
       "}\n",
       "#T_6b60f_row1_col11 {\n",
       "  background-color: #6b8df0;\n",
       "  color: #f1f1f1;\n",
       "}\n",
       "#T_6b60f_row1_col12, #T_6b60f_row3_col4, #T_6b60f_row7_col3, #T_6b60f_row10_col14, #T_6b60f_row12_col17 {\n",
       "  background-color: #84a7fc;\n",
       "  color: #f1f1f1;\n",
       "}\n",
       "#T_6b60f_row1_col13, #T_6b60f_row4_col20, #T_6b60f_row20_col1 {\n",
       "  background-color: #7699f6;\n",
       "  color: #f1f1f1;\n",
       "}\n",
       "#T_6b60f_row1_col14, #T_6b60f_row4_col1, #T_6b60f_row6_col4, #T_6b60f_row9_col1, #T_6b60f_row15_col10 {\n",
       "  background-color: #5e7de7;\n",
       "  color: #f1f1f1;\n",
       "}\n",
       "#T_6b60f_row1_col15, #T_6b60f_row8_col19, #T_6b60f_row17_col8 {\n",
       "  background-color: #9bbcff;\n",
       "  color: #000000;\n",
       "}\n",
       "#T_6b60f_row1_col16, #T_6b60f_row10_col6, #T_6b60f_row11_col14, #T_6b60f_row14_col6, #T_6b60f_row15_col14, #T_6b60f_row16_col11, #T_6b60f_row16_col13 {\n",
       "  background-color: #6282ea;\n",
       "  color: #f1f1f1;\n",
       "}\n",
       "#T_6b60f_row1_col17, #T_6b60f_row5_col11 {\n",
       "  background-color: #b6cefa;\n",
       "  color: #000000;\n",
       "}\n",
       "#T_6b60f_row1_col19 {\n",
       "  background-color: #a3c2fe;\n",
       "  color: #000000;\n",
       "}\n",
       "#T_6b60f_row1_col20 {\n",
       "  background-color: #bbd1f8;\n",
       "  color: #000000;\n",
       "}\n",
       "#T_6b60f_row2_col0, #T_6b60f_row4_col11, #T_6b60f_row20_col8, #T_6b60f_row20_col17 {\n",
       "  background-color: #455cce;\n",
       "  color: #f1f1f1;\n",
       "}\n",
       "#T_6b60f_row2_col1, #T_6b60f_row6_col8, #T_6b60f_row13_col16, #T_6b60f_row18_col19, #T_6b60f_row20_col16 {\n",
       "  background-color: #536edd;\n",
       "  color: #f1f1f1;\n",
       "}\n",
       "#T_6b60f_row2_col5 {\n",
       "  background-color: #f7a688;\n",
       "  color: #000000;\n",
       "}\n",
       "#T_6b60f_row2_col6, #T_6b60f_row11_col7, #T_6b60f_row17_col10, #T_6b60f_row18_col10 {\n",
       "  background-color: #edd2c3;\n",
       "  color: #000000;\n",
       "}\n",
       "#T_6b60f_row2_col7 {\n",
       "  background-color: #a1c0ff;\n",
       "  color: #000000;\n",
       "}\n",
       "#T_6b60f_row2_col8 {\n",
       "  background-color: #506bda;\n",
       "  color: #f1f1f1;\n",
       "}\n",
       "#T_6b60f_row2_col9 {\n",
       "  background-color: #e9d5cb;\n",
       "  color: #000000;\n",
       "}\n",
       "#T_6b60f_row2_col10, #T_6b60f_row3_col7, #T_6b60f_row3_col12, #T_6b60f_row5_col18, #T_6b60f_row16_col12 {\n",
       "  background-color: #5b7ae5;\n",
       "  color: #f1f1f1;\n",
       "}\n",
       "#T_6b60f_row2_col11, #T_6b60f_row16_col19 {\n",
       "  background-color: #aac7fd;\n",
       "  color: #000000;\n",
       "}\n",
       "#T_6b60f_row2_col12, #T_6b60f_row4_col3, #T_6b60f_row9_col12, #T_6b60f_row12_col19 {\n",
       "  background-color: #a7c5fe;\n",
       "  color: #000000;\n",
       "}\n",
       "#T_6b60f_row2_col14, #T_6b60f_row5_col10, #T_6b60f_row8_col13, #T_6b60f_row14_col19, #T_6b60f_row15_col4, #T_6b60f_row18_col0 {\n",
       "  background-color: #5d7ce6;\n",
       "  color: #f1f1f1;\n",
       "}\n",
       "#T_6b60f_row2_col15, #T_6b60f_row4_col8 {\n",
       "  background-color: #f1ccb8;\n",
       "  color: #000000;\n",
       "}\n",
       "#T_6b60f_row2_col16, #T_6b60f_row4_col0, #T_6b60f_row11_col8, #T_6b60f_row13_col8, #T_6b60f_row17_col0 {\n",
       "  background-color: #5470de;\n",
       "  color: #f1f1f1;\n",
       "}\n",
       "#T_6b60f_row2_col19, #T_6b60f_row11_col5, #T_6b60f_row20_col11 {\n",
       "  background-color: #d2dbe8;\n",
       "  color: #000000;\n",
       "}\n",
       "#T_6b60f_row2_col20, #T_6b60f_row13_col7 {\n",
       "  background-color: #f7b79b;\n",
       "  color: #000000;\n",
       "}\n",
       "#T_6b60f_row3_col0, #T_6b60f_row5_col14, #T_6b60f_row6_col17, #T_6b60f_row6_col18, #T_6b60f_row14_col4 {\n",
       "  background-color: #799cf8;\n",
       "  color: #f1f1f1;\n",
       "}\n",
       "#T_6b60f_row3_col1, #T_6b60f_row8_col0, #T_6b60f_row11_col16, #T_6b60f_row12_col10, #T_6b60f_row13_col0, #T_6b60f_row14_col11, #T_6b60f_row15_col8 {\n",
       "  background-color: #516ddb;\n",
       "  color: #f1f1f1;\n",
       "}\n",
       "#T_6b60f_row3_col2, #T_6b60f_row18_col11 {\n",
       "  background-color: #4055c8;\n",
       "  color: #f1f1f1;\n",
       "}\n",
       "#T_6b60f_row3_col5, #T_6b60f_row13_col3, #T_6b60f_row19_col16 {\n",
       "  background-color: #6e90f2;\n",
       "  color: #f1f1f1;\n",
       "}\n",
       "#T_6b60f_row3_col6, #T_6b60f_row5_col0, #T_6b60f_row18_col20, #T_6b60f_row20_col10 {\n",
       "  background-color: #3e51c5;\n",
       "  color: #f1f1f1;\n",
       "}\n",
       "#T_6b60f_row3_col10, #T_6b60f_row11_col18 {\n",
       "  background-color: #8badfd;\n",
       "  color: #000000;\n",
       "}\n",
       "#T_6b60f_row3_col11, #T_6b60f_row3_col13, #T_6b60f_row3_col19, #T_6b60f_row6_col0, #T_6b60f_row7_col4, #T_6b60f_row7_col10, #T_6b60f_row7_col16, #T_6b60f_row9_col4, #T_6b60f_row9_col8, #T_6b60f_row9_col10, #T_6b60f_row9_col17, #T_6b60f_row9_col18, #T_6b60f_row10_col7, #T_6b60f_row14_col1, #T_6b60f_row15_col0, #T_6b60f_row17_col2, #T_6b60f_row17_col5, #T_6b60f_row17_col6, #T_6b60f_row17_col9, #T_6b60f_row17_col15, #T_6b60f_row17_col20, #T_6b60f_row18_col2, #T_6b60f_row18_col6, #T_6b60f_row18_col9, #T_6b60f_row18_col12, #T_6b60f_row18_col15, #T_6b60f_row19_col3, #T_6b60f_row19_col14 {\n",
       "  background-color: #3b4cc0;\n",
       "  color: #f1f1f1;\n",
       "}\n",
       "#T_6b60f_row3_col14 {\n",
       "  background-color: #f6bea4;\n",
       "  color: #000000;\n",
       "}\n",
       "#T_6b60f_row3_col15, #T_6b60f_row20_col4 {\n",
       "  background-color: #3f53c6;\n",
       "  color: #f1f1f1;\n",
       "}\n",
       "#T_6b60f_row3_col17, #T_6b60f_row15_col9 {\n",
       "  background-color: #e4d9d2;\n",
       "  color: #000000;\n",
       "}\n",
       "#T_6b60f_row3_col18, #T_6b60f_row20_col6 {\n",
       "  background-color: #e7d7ce;\n",
       "  color: #000000;\n",
       "}\n",
       "#T_6b60f_row3_col20 {\n",
       "  background-color: #4961d2;\n",
       "  color: #f1f1f1;\n",
       "}\n",
       "#T_6b60f_row4_col2, #T_6b60f_row8_col6, #T_6b60f_row10_col2 {\n",
       "  background-color: #6a8bef;\n",
       "  color: #f1f1f1;\n",
       "}\n",
       "#T_6b60f_row4_col7, #T_6b60f_row17_col13, #T_6b60f_row20_col3 {\n",
       "  background-color: #3c4ec2;\n",
       "  color: #f1f1f1;\n",
       "}\n",
       "#T_6b60f_row4_col12, #T_6b60f_row9_col3, #T_6b60f_row10_col12, #T_6b60f_row13_col10, #T_6b60f_row20_col18 {\n",
       "  background-color: #4a63d3;\n",
       "  color: #f1f1f1;\n",
       "}\n",
       "#T_6b60f_row4_col13, #T_6b60f_row7_col8, #T_6b60f_row10_col11 {\n",
       "  background-color: #4257c9;\n",
       "  color: #f1f1f1;\n",
       "}\n",
       "#T_6b60f_row4_col14, #T_6b60f_row7_col6 {\n",
       "  background-color: #81a4fb;\n",
       "  color: #f1f1f1;\n",
       "}\n",
       "#T_6b60f_row4_col15, #T_6b60f_row10_col15 {\n",
       "  background-color: #6687ed;\n",
       "  color: #f1f1f1;\n",
       "}\n",
       "#T_6b60f_row4_col16, #T_6b60f_row20_col9 {\n",
       "  background-color: #f7a98b;\n",
       "  color: #000000;\n",
       "}\n",
       "#T_6b60f_row4_col17, #T_6b60f_row4_col18, #T_6b60f_row7_col13, #T_6b60f_row10_col17, #T_6b60f_row10_col18, #T_6b60f_row19_col9 {\n",
       "  background-color: #f7bca1;\n",
       "  color: #000000;\n",
       "}\n",
       "#T_6b60f_row4_col19 {\n",
       "  background-color: #90b2fe;\n",
       "  color: #000000;\n",
       "}\n",
       "#T_6b60f_row5_col1, #T_6b60f_row10_col13, #T_6b60f_row17_col12, #T_6b60f_row18_col5, #T_6b60f_row18_col13 {\n",
       "  background-color: #3d50c3;\n",
       "  color: #f1f1f1;\n",
       "}\n",
       "#T_6b60f_row5_col2, #T_6b60f_row9_col20, #T_6b60f_row10_col16 {\n",
       "  background-color: #f7ad90;\n",
       "  color: #000000;\n",
       "}\n",
       "#T_6b60f_row5_col6, #T_6b60f_row16_col18 {\n",
       "  background-color: #e5d8d1;\n",
       "  color: #000000;\n",
       "}\n",
       "#T_6b60f_row5_col7, #T_6b60f_row12_col7, #T_6b60f_row13_col12, #T_6b60f_row18_col8 {\n",
       "  background-color: #98b9ff;\n",
       "  color: #000000;\n",
       "}\n",
       "#T_6b60f_row5_col9, #T_6b60f_row20_col15 {\n",
       "  background-color: #efcebd;\n",
       "  color: #000000;\n",
       "}\n",
       "#T_6b60f_row5_col12, #T_6b60f_row17_col14 {\n",
       "  background-color: #afcafc;\n",
       "  color: #000000;\n",
       "}\n",
       "#T_6b60f_row5_col15 {\n",
       "  background-color: #ebd3c6;\n",
       "  color: #000000;\n",
       "}\n",
       "#T_6b60f_row5_col17, #T_6b60f_row11_col1, #T_6b60f_row15_col16, #T_6b60f_row19_col0 {\n",
       "  background-color: #5875e1;\n",
       "  color: #f1f1f1;\n",
       "}\n",
       "#T_6b60f_row5_col19 {\n",
       "  background-color: #e8d6cc;\n",
       "  color: #000000;\n",
       "}\n",
       "#T_6b60f_row5_col20 {\n",
       "  background-color: #f59d7e;\n",
       "  color: #000000;\n",
       "}\n",
       "#T_6b60f_row6_col2 {\n",
       "  background-color: #f0cdbb;\n",
       "  color: #000000;\n",
       "}\n",
       "#T_6b60f_row6_col5, #T_6b60f_row10_col8 {\n",
       "  background-color: #efcfbf;\n",
       "  color: #000000;\n",
       "}\n",
       "#T_6b60f_row6_col9 {\n",
       "  background-color: #e0dbd8;\n",
       "  color: #000000;\n",
       "}\n",
       "#T_6b60f_row6_col10, #T_6b60f_row7_col0, #T_6b60f_row8_col11, #T_6b60f_row10_col1, #T_6b60f_row11_col0, #T_6b60f_row13_col14, #T_6b60f_row14_col7, #T_6b60f_row15_col3, #T_6b60f_row16_col1, #T_6b60f_row18_col1 {\n",
       "  background-color: #5f7fe8;\n",
       "  color: #f1f1f1;\n",
       "}\n",
       "#T_6b60f_row6_col11, #T_6b60f_row6_col13 {\n",
       "  background-color: #96b7ff;\n",
       "  color: #000000;\n",
       "}\n",
       "#T_6b60f_row6_col12, #T_6b60f_row9_col11 {\n",
       "  background-color: #a6c4fe;\n",
       "  color: #000000;\n",
       "}\n",
       "#T_6b60f_row6_col14, #T_6b60f_row7_col14, #T_6b60f_row13_col1, #T_6b60f_row14_col2, #T_6b60f_row19_col17 {\n",
       "  background-color: #6485ec;\n",
       "  color: #f1f1f1;\n",
       "}\n",
       "#T_6b60f_row6_col15, #T_6b60f_row15_col6 {\n",
       "  background-color: #c0282f;\n",
       "  color: #f1f1f1;\n",
       "}\n",
       "#T_6b60f_row6_col19, #T_6b60f_row12_col5 {\n",
       "  background-color: #ccd9ed;\n",
       "  color: #000000;\n",
       "}\n",
       "#T_6b60f_row6_col20, #T_6b60f_row8_col10 {\n",
       "  background-color: #f3c8b2;\n",
       "  color: #000000;\n",
       "}\n",
       "#T_6b60f_row7_col1, #T_6b60f_row10_col5, #T_6b60f_row14_col12 {\n",
       "  background-color: #80a3fa;\n",
       "  color: #f1f1f1;\n",
       "}\n",
       "#T_6b60f_row7_col9, #T_6b60f_row19_col13 {\n",
       "  background-color: #cedaeb;\n",
       "  color: #000000;\n",
       "}\n",
       "#T_6b60f_row7_col11 {\n",
       "  background-color: #ead5c9;\n",
       "  color: #000000;\n",
       "}\n",
       "#T_6b60f_row7_col12, #T_6b60f_row12_col13, #T_6b60f_row14_col5 {\n",
       "  background-color: #93b5fe;\n",
       "  color: #000000;\n",
       "}\n",
       "#T_6b60f_row7_col15, #T_6b60f_row11_col17, #T_6b60f_row12_col14 {\n",
       "  background-color: #8caffe;\n",
       "  color: #000000;\n",
       "}\n",
       "#T_6b60f_row7_col19, #T_6b60f_row20_col13 {\n",
       "  background-color: #d1dae9;\n",
       "  color: #000000;\n",
       "}\n",
       "#T_6b60f_row7_col20, #T_6b60f_row8_col17, #T_6b60f_row8_col18, #T_6b60f_row13_col9 {\n",
       "  background-color: #d5dbe5;\n",
       "  color: #000000;\n",
       "}\n",
       "#T_6b60f_row8_col1, #T_6b60f_row13_col4, #T_6b60f_row14_col13, #T_6b60f_row17_col19 {\n",
       "  background-color: #4c66d6;\n",
       "  color: #f1f1f1;\n",
       "}\n",
       "#T_6b60f_row8_col2 {\n",
       "  background-color: #7597f6;\n",
       "  color: #f1f1f1;\n",
       "}\n",
       "#T_6b60f_row8_col4, #T_6b60f_row9_col19 {\n",
       "  background-color: #f4c5ad;\n",
       "  color: #000000;\n",
       "}\n",
       "#T_6b60f_row8_col5, #T_6b60f_row8_col20 {\n",
       "  background-color: #8db0fe;\n",
       "  color: #000000;\n",
       "}\n",
       "#T_6b60f_row8_col15, #T_6b60f_row12_col1 {\n",
       "  background-color: #6f92f3;\n",
       "  color: #f1f1f1;\n",
       "}\n",
       "#T_6b60f_row8_col16, #T_6b60f_row19_col15 {\n",
       "  background-color: #c0d4f5;\n",
       "  color: #000000;\n",
       "}\n",
       "#T_6b60f_row9_col2, #T_6b60f_row13_col5, #T_6b60f_row15_col19 {\n",
       "  background-color: #d3dbe7;\n",
       "  color: #000000;\n",
       "}\n",
       "#T_6b60f_row9_col5, #T_6b60f_row13_col19, #T_6b60f_row16_col17, #T_6b60f_row19_col5 {\n",
       "  background-color: #e6d7cf;\n",
       "  color: #000000;\n",
       "}\n",
       "#T_6b60f_row9_col6 {\n",
       "  background-color: #bfd3f6;\n",
       "  color: #000000;\n",
       "}\n",
       "#T_6b60f_row9_col7, #T_6b60f_row9_col13, #T_6b60f_row13_col6 {\n",
       "  background-color: #a2c1ff;\n",
       "  color: #000000;\n",
       "}\n",
       "#T_6b60f_row9_col14, #T_6b60f_row20_col14 {\n",
       "  background-color: #485fd1;\n",
       "  color: #f1f1f1;\n",
       "}\n",
       "#T_6b60f_row9_col15 {\n",
       "  background-color: #c7d7f0;\n",
       "  color: #000000;\n",
       "}\n",
       "#T_6b60f_row9_col16, #T_6b60f_row12_col8, #T_6b60f_row12_col16 {\n",
       "  background-color: #465ecf;\n",
       "  color: #f1f1f1;\n",
       "}\n",
       "#T_6b60f_row10_col9, #T_6b60f_row16_col15 {\n",
       "  background-color: #7b9ff9;\n",
       "  color: #f1f1f1;\n",
       "}\n",
       "#T_6b60f_row10_col19, #T_6b60f_row12_col3, #T_6b60f_row13_col18, #T_6b60f_row14_col0 {\n",
       "  background-color: #89acfd;\n",
       "  color: #000000;\n",
       "}\n",
       "#T_6b60f_row11_col2, #T_6b60f_row13_col2 {\n",
       "  background-color: #bcd2f7;\n",
       "  color: #000000;\n",
       "}\n",
       "#T_6b60f_row11_col4, #T_6b60f_row20_col0 {\n",
       "  background-color: #4e68d8;\n",
       "  color: #f1f1f1;\n",
       "}\n",
       "#T_6b60f_row11_col6, #T_6b60f_row16_col9, #T_6b60f_row16_col20 {\n",
       "  background-color: #9fbfff;\n",
       "  color: #000000;\n",
       "}\n",
       "#T_6b60f_row11_col9, #T_6b60f_row12_col9, #T_6b60f_row14_col18 {\n",
       "  background-color: #d6dce4;\n",
       "  color: #000000;\n",
       "}\n",
       "#T_6b60f_row11_col10 {\n",
       "  background-color: #4b64d5;\n",
       "  color: #f1f1f1;\n",
       "}\n",
       "#T_6b60f_row11_col13, #T_6b60f_row13_col11 {\n",
       "  background-color: #f7b599;\n",
       "  color: #000000;\n",
       "}\n",
       "#T_6b60f_row11_col19 {\n",
       "  background-color: #e1dad6;\n",
       "  color: #000000;\n",
       "}\n",
       "#T_6b60f_row11_col20, #T_6b60f_row13_col20, #T_6b60f_row17_col4, #T_6b60f_row18_col4 {\n",
       "  background-color: #ecd3c5;\n",
       "  color: #000000;\n",
       "}\n",
       "#T_6b60f_row12_col2, #T_6b60f_row20_col12 {\n",
       "  background-color: #b9d0f9;\n",
       "  color: #000000;\n",
       "}\n",
       "#T_6b60f_row12_col4 {\n",
       "  background-color: #4f69d9;\n",
       "  color: #f1f1f1;\n",
       "}\n",
       "#T_6b60f_row12_col6 {\n",
       "  background-color: #aec9fc;\n",
       "  color: #000000;\n",
       "}\n",
       "#T_6b60f_row12_col11, #T_6b60f_row16_col5 {\n",
       "  background-color: #92b4fe;\n",
       "  color: #000000;\n",
       "}\n",
       "#T_6b60f_row12_col15 {\n",
       "  background-color: #b1cbfc;\n",
       "  color: #000000;\n",
       "}\n",
       "#T_6b60f_row12_col18, #T_6b60f_row14_col9 {\n",
       "  background-color: #82a6fb;\n",
       "  color: #f1f1f1;\n",
       "}\n",
       "#T_6b60f_row12_col20 {\n",
       "  background-color: #dbdcde;\n",
       "  color: #000000;\n",
       "}\n",
       "#T_6b60f_row13_col17 {\n",
       "  background-color: #86a9fc;\n",
       "  color: #f1f1f1;\n",
       "}\n",
       "#T_6b60f_row14_col3 {\n",
       "  background-color: #f7b194;\n",
       "  color: #000000;\n",
       "}\n",
       "#T_6b60f_row14_col17 {\n",
       "  background-color: #d4dbe6;\n",
       "  color: #000000;\n",
       "}\n",
       "#T_6b60f_row14_col20, #T_6b60f_row16_col6, #T_6b60f_row16_col14 {\n",
       "  background-color: #779af7;\n",
       "  color: #f1f1f1;\n",
       "}\n",
       "#T_6b60f_row15_col2 {\n",
       "  background-color: #f2c9b4;\n",
       "  color: #000000;\n",
       "}\n",
       "#T_6b60f_row15_col5 {\n",
       "  background-color: #f2cbb7;\n",
       "  color: #000000;\n",
       "}\n",
       "#T_6b60f_row15_col7 {\n",
       "  background-color: #85a8fc;\n",
       "  color: #f1f1f1;\n",
       "}\n",
       "#T_6b60f_row15_col11 {\n",
       "  background-color: #9ebeff;\n",
       "  color: #000000;\n",
       "}\n",
       "#T_6b60f_row15_col12 {\n",
       "  background-color: #a5c3fe;\n",
       "  color: #000000;\n",
       "}\n",
       "#T_6b60f_row15_col20 {\n",
       "  background-color: #f6bfa6;\n",
       "  color: #000000;\n",
       "}\n",
       "#T_6b60f_row16_col4 {\n",
       "  background-color: #f5a081;\n",
       "  color: #000000;\n",
       "}\n",
       "#T_6b60f_row16_col8, #T_6b60f_row19_col2 {\n",
       "  background-color: #c4d5f3;\n",
       "  color: #000000;\n",
       "}\n",
       "#T_6b60f_row16_col10 {\n",
       "  background-color: #f6a385;\n",
       "  color: #000000;\n",
       "}\n",
       "#T_6b60f_row17_col3 {\n",
       "  background-color: #dadce0;\n",
       "  color: #000000;\n",
       "}\n",
       "#T_6b60f_row17_col11 {\n",
       "  background-color: #4358cb;\n",
       "  color: #f1f1f1;\n",
       "}\n",
       "#T_6b60f_row17_col18, #T_6b60f_row18_col17 {\n",
       "  background-color: #c53334;\n",
       "  color: #f1f1f1;\n",
       "}\n",
       "#T_6b60f_row18_col3 {\n",
       "  background-color: #dcdddd;\n",
       "  color: #000000;\n",
       "}\n",
       "#T_6b60f_row19_col4 {\n",
       "  background-color: #6788ee;\n",
       "  color: #f1f1f1;\n",
       "}\n",
       "#T_6b60f_row19_col7 {\n",
       "  background-color: #b7cff9;\n",
       "  color: #000000;\n",
       "}\n",
       "#T_6b60f_row19_col11 {\n",
       "  background-color: #c9d7f0;\n",
       "  color: #000000;\n",
       "}\n",
       "#T_6b60f_row19_col20 {\n",
       "  background-color: #f29274;\n",
       "  color: #f1f1f1;\n",
       "}\n",
       "#T_6b60f_row20_col2 {\n",
       "  background-color: #f5c4ac;\n",
       "  color: #000000;\n",
       "}\n",
       "#T_6b60f_row20_col5 {\n",
       "  background-color: #f6a586;\n",
       "  color: #000000;\n",
       "}\n",
       "#T_6b60f_row20_col19 {\n",
       "  background-color: #f39778;\n",
       "  color: #000000;\n",
       "}\n",
       "</style>\n",
       "<table id=\"T_6b60f_\">\n",
       "  <thead>\n",
       "    <tr>\n",
       "      <th class=\"blank level0\" >&nbsp;</th>\n",
       "      <th class=\"col_heading level0 col0\" >Country</th>\n",
       "      <th class=\"col_heading level0 col1\" >Year</th>\n",
       "      <th class=\"col_heading level0 col2\" >Status</th>\n",
       "      <th class=\"col_heading level0 col3\" >Adult_Mortality</th>\n",
       "      <th class=\"col_heading level0 col4\" >infant_deaths</th>\n",
       "      <th class=\"col_heading level0 col5\" >Alcohol</th>\n",
       "      <th class=\"col_heading level0 col6\" >percentage_expenditure</th>\n",
       "      <th class=\"col_heading level0 col7\" >HepatitisB</th>\n",
       "      <th class=\"col_heading level0 col8\" >Measles</th>\n",
       "      <th class=\"col_heading level0 col9\" >BMI</th>\n",
       "      <th class=\"col_heading level0 col10\" >under_five_deaths</th>\n",
       "      <th class=\"col_heading level0 col11\" >Polio</th>\n",
       "      <th class=\"col_heading level0 col12\" >Total_expenditure</th>\n",
       "      <th class=\"col_heading level0 col13\" >Diphtheria</th>\n",
       "      <th class=\"col_heading level0 col14\" >HIV_AIDS</th>\n",
       "      <th class=\"col_heading level0 col15\" >GDP</th>\n",
       "      <th class=\"col_heading level0 col16\" >Population</th>\n",
       "      <th class=\"col_heading level0 col17\" >thinness_1-19_years</th>\n",
       "      <th class=\"col_heading level0 col18\" >thinness_5-9_years</th>\n",
       "      <th class=\"col_heading level0 col19\" >Income_composition_of_resources</th>\n",
       "      <th class=\"col_heading level0 col20\" >Schooling</th>\n",
       "    </tr>\n",
       "  </thead>\n",
       "  <tbody>\n",
       "    <tr>\n",
       "      <th id=\"T_6b60f_level0_row0\" class=\"row_heading level0 row0\" >Country</th>\n",
       "      <td id=\"T_6b60f_row0_col0\" class=\"data row0 col0\" >1.000000</td>\n",
       "      <td id=\"T_6b60f_row0_col1\" class=\"data row0 col1\" >-0.018344</td>\n",
       "      <td id=\"T_6b60f_row0_col2\" class=\"data row0 col2\" >-0.079464</td>\n",
       "      <td id=\"T_6b60f_row0_col3\" class=\"data row0 col3\" >0.096978</td>\n",
       "      <td id=\"T_6b60f_row0_col4\" class=\"data row0 col4\" >-0.026246</td>\n",
       "      <td id=\"T_6b60f_row0_col5\" class=\"data row0 col5\" >-0.108226</td>\n",
       "      <td id=\"T_6b60f_row0_col6\" class=\"data row0 col6\" >-0.122092</td>\n",
       "      <td id=\"T_6b60f_row0_col7\" class=\"data row0 col7\" >0.013179</td>\n",
       "      <td id=\"T_6b60f_row0_col8\" class=\"data row0 col8\" >-0.035006</td>\n",
       "      <td id=\"T_6b60f_row0_col9\" class=\"data row0 col9\" >-0.022682</td>\n",
       "      <td id=\"T_6b60f_row0_col10\" class=\"data row0 col10\" >-0.020630</td>\n",
       "      <td id=\"T_6b60f_row0_col11\" class=\"data row0 col11\" >0.011280</td>\n",
       "      <td id=\"T_6b60f_row0_col12\" class=\"data row0 col12\" >-0.022621</td>\n",
       "      <td id=\"T_6b60f_row0_col13\" class=\"data row0 col13\" >-0.036725</td>\n",
       "      <td id=\"T_6b60f_row0_col14\" class=\"data row0 col14\" >0.148609</td>\n",
       "      <td id=\"T_6b60f_row0_col15\" class=\"data row0 col15\" >-0.118019</td>\n",
       "      <td id=\"T_6b60f_row0_col16\" class=\"data row0 col16\" >-0.018489</td>\n",
       "      <td id=\"T_6b60f_row0_col17\" class=\"data row0 col17\" >-0.026689</td>\n",
       "      <td id=\"T_6b60f_row0_col18\" class=\"data row0 col18\" >0.004386</td>\n",
       "      <td id=\"T_6b60f_row0_col19\" class=\"data row0 col19\" >-0.016205</td>\n",
       "      <td id=\"T_6b60f_row0_col20\" class=\"data row0 col20\" >-0.050765</td>\n",
       "    </tr>\n",
       "    <tr>\n",
       "      <th id=\"T_6b60f_level0_row1\" class=\"row_heading level0 row1\" >Year</th>\n",
       "      <td id=\"T_6b60f_row1_col0\" class=\"data row1 col0\" >-0.018344</td>\n",
       "      <td id=\"T_6b60f_row1_col1\" class=\"data row1 col1\" >1.000000</td>\n",
       "      <td id=\"T_6b60f_row1_col2\" class=\"data row1 col2\" >-0.034138</td>\n",
       "      <td id=\"T_6b60f_row1_col3\" class=\"data row1 col3\" >-0.037092</td>\n",
       "      <td id=\"T_6b60f_row1_col4\" class=\"data row1 col4\" >0.008029</td>\n",
       "      <td id=\"T_6b60f_row1_col5\" class=\"data row1 col5\" >-0.112899</td>\n",
       "      <td id=\"T_6b60f_row1_col6\" class=\"data row1 col6\" >0.069562</td>\n",
       "      <td id=\"T_6b60f_row1_col7\" class=\"data row1 col7\" >0.114897</td>\n",
       "      <td id=\"T_6b60f_row1_col8\" class=\"data row1 col8\" >-0.053822</td>\n",
       "      <td id=\"T_6b60f_row1_col9\" class=\"data row1 col9\" >0.005589</td>\n",
       "      <td id=\"T_6b60f_row1_col10\" class=\"data row1 col10\" >0.010479</td>\n",
       "      <td id=\"T_6b60f_row1_col11\" class=\"data row1 col11\" >-0.016699</td>\n",
       "      <td id=\"T_6b60f_row1_col12\" class=\"data row1 col12\" >0.061894</td>\n",
       "      <td id=\"T_6b60f_row1_col13\" class=\"data row1 col13\" >0.029641</td>\n",
       "      <td id=\"T_6b60f_row1_col14\" class=\"data row1 col14\" >-0.123475</td>\n",
       "      <td id=\"T_6b60f_row1_col15\" class=\"data row1 col15\" >0.096421</td>\n",
       "      <td id=\"T_6b60f_row1_col16\" class=\"data row1 col16\" >0.012567</td>\n",
       "      <td id=\"T_6b60f_row1_col17\" class=\"data row1 col17\" >0.023287</td>\n",
       "      <td id=\"T_6b60f_row1_col18\" class=\"data row1 col18\" >0.012403</td>\n",
       "      <td id=\"T_6b60f_row1_col19\" class=\"data row1 col19\" >0.021958</td>\n",
       "      <td id=\"T_6b60f_row1_col20\" class=\"data row1 col20\" >0.083280</td>\n",
       "    </tr>\n",
       "    <tr>\n",
       "      <th id=\"T_6b60f_level0_row2\" class=\"row_heading level0 row2\" >Status</th>\n",
       "      <td id=\"T_6b60f_row2_col0\" class=\"data row2 col0\" >-0.079464</td>\n",
       "      <td id=\"T_6b60f_row2_col1\" class=\"data row2 col1\" >-0.034138</td>\n",
       "      <td id=\"T_6b60f_row2_col2\" class=\"data row2 col2\" >1.000000</td>\n",
       "      <td id=\"T_6b60f_row2_col3\" class=\"data row2 col3\" >-0.278173</td>\n",
       "      <td id=\"T_6b60f_row2_col4\" class=\"data row2 col4\" >-0.108757</td>\n",
       "      <td id=\"T_6b60f_row2_col5\" class=\"data row2 col5\" >0.603650</td>\n",
       "      <td id=\"T_6b60f_row2_col6\" class=\"data row2 col6\" >0.461684</td>\n",
       "      <td id=\"T_6b60f_row2_col7\" class=\"data row2 col7\" >0.140351</td>\n",
       "      <td id=\"T_6b60f_row2_col8\" class=\"data row2 col8\" >-0.071963</td>\n",
       "      <td id=\"T_6b60f_row2_col9\" class=\"data row2 col9\" >0.298155</td>\n",
       "      <td id=\"T_6b60f_row2_col10\" class=\"data row2 col10\" >-0.109847</td>\n",
       "      <td id=\"T_6b60f_row2_col11\" class=\"data row2 col11\" >0.201917</td>\n",
       "      <td id=\"T_6b60f_row2_col12\" class=\"data row2 col12\" >0.184183</td>\n",
       "      <td id=\"T_6b60f_row2_col13\" class=\"data row2 col13\" >0.201654</td>\n",
       "      <td id=\"T_6b60f_row2_col14\" class=\"data row2 col14\" >-0.129347</td>\n",
       "      <td id=\"T_6b60f_row2_col15\" class=\"data row2 col15\" >0.484801</td>\n",
       "      <td id=\"T_6b60f_row2_col16\" class=\"data row2 col16\" >-0.034790</td>\n",
       "      <td id=\"T_6b60f_row2_col17\" class=\"data row2 col17\" >-0.303958</td>\n",
       "      <td id=\"T_6b60f_row2_col18\" class=\"data row2 col18\" >-0.307720</td>\n",
       "      <td id=\"T_6b60f_row2_col19\" class=\"data row2 col19\" >0.228885</td>\n",
       "      <td id=\"T_6b60f_row2_col20\" class=\"data row2 col20\" >0.510937</td>\n",
       "    </tr>\n",
       "    <tr>\n",
       "      <th id=\"T_6b60f_level0_row3\" class=\"row_heading level0 row3\" >Adult_Mortality</th>\n",
       "      <td id=\"T_6b60f_row3_col0\" class=\"data row3 col0\" >0.096978</td>\n",
       "      <td id=\"T_6b60f_row3_col1\" class=\"data row3 col1\" >-0.037092</td>\n",
       "      <td id=\"T_6b60f_row3_col2\" class=\"data row3 col2\" >-0.278173</td>\n",
       "      <td id=\"T_6b60f_row3_col3\" class=\"data row3 col3\" >1.000000</td>\n",
       "      <td id=\"T_6b60f_row3_col4\" class=\"data row3 col4\" >0.042450</td>\n",
       "      <td id=\"T_6b60f_row3_col5\" class=\"data row3 col5\" >-0.172450</td>\n",
       "      <td id=\"T_6b60f_row3_col6\" class=\"data row3 col6\" >-0.237605</td>\n",
       "      <td id=\"T_6b60f_row3_col7\" class=\"data row3 col7\" >-0.105225</td>\n",
       "      <td id=\"T_6b60f_row3_col8\" class=\"data row3 col8\" >-0.003967</td>\n",
       "      <td id=\"T_6b60f_row3_col9\" class=\"data row3 col9\" >-0.351086</td>\n",
       "      <td id=\"T_6b60f_row3_col10\" class=\"data row3 col10\" >0.060365</td>\n",
       "      <td id=\"T_6b60f_row3_col11\" class=\"data row3 col11\" >-0.199853</td>\n",
       "      <td id=\"T_6b60f_row3_col12\" class=\"data row3 col12\" >-0.080473</td>\n",
       "      <td id=\"T_6b60f_row3_col13\" class=\"data row3 col13\" >-0.191429</td>\n",
       "      <td id=\"T_6b60f_row3_col14\" class=\"data row3 col14\" >0.552159</td>\n",
       "      <td id=\"T_6b60f_row3_col15\" class=\"data row3 col15\" >-0.255034</td>\n",
       "      <td id=\"T_6b60f_row3_col16\" class=\"data row3 col16\" >-0.015012</td>\n",
       "      <td id=\"T_6b60f_row3_col17\" class=\"data row3 col17\" >0.272172</td>\n",
       "      <td id=\"T_6b60f_row3_col18\" class=\"data row3 col18\" >0.284619</td>\n",
       "      <td id=\"T_6b60f_row3_col19\" class=\"data row3 col19\" >-0.425121</td>\n",
       "      <td id=\"T_6b60f_row3_col20\" class=\"data row3 col20\" >-0.417721</td>\n",
       "    </tr>\n",
       "    <tr>\n",
       "      <th id=\"T_6b60f_level0_row4\" class=\"row_heading level0 row4\" >infant_deaths</th>\n",
       "      <td id=\"T_6b60f_row4_col0\" class=\"data row4 col0\" >-0.026246</td>\n",
       "      <td id=\"T_6b60f_row4_col1\" class=\"data row4 col1\" >0.008029</td>\n",
       "      <td id=\"T_6b60f_row4_col2\" class=\"data row4 col2\" >-0.108757</td>\n",
       "      <td id=\"T_6b60f_row4_col3\" class=\"data row4 col3\" >0.042450</td>\n",
       "      <td id=\"T_6b60f_row4_col4\" class=\"data row4 col4\" >1.000000</td>\n",
       "      <td id=\"T_6b60f_row4_col5\" class=\"data row4 col5\" >-0.106805</td>\n",
       "      <td id=\"T_6b60f_row4_col6\" class=\"data row4 col6\" >-0.090760</td>\n",
       "      <td id=\"T_6b60f_row4_col7\" class=\"data row4 col7\" >-0.231769</td>\n",
       "      <td id=\"T_6b60f_row4_col8\" class=\"data row4 col8\" >0.532680</td>\n",
       "      <td id=\"T_6b60f_row4_col9\" class=\"data row4 col9\" >-0.234428</td>\n",
       "      <td id=\"T_6b60f_row4_col10\" class=\"data row4 col10\" >0.996906</td>\n",
       "      <td id=\"T_6b60f_row4_col11\" class=\"data row4 col11\" >-0.156929</td>\n",
       "      <td id=\"T_6b60f_row4_col12\" class=\"data row4 col12\" >-0.148666</td>\n",
       "      <td id=\"T_6b60f_row4_col13\" class=\"data row4 col13\" >-0.161871</td>\n",
       "      <td id=\"T_6b60f_row4_col14\" class=\"data row4 col14\" >0.006401</td>\n",
       "      <td id=\"T_6b60f_row4_col15\" class=\"data row4 col15\" >-0.098093</td>\n",
       "      <td id=\"T_6b60f_row4_col16\" class=\"data row4 col16\" >0.671758</td>\n",
       "      <td id=\"T_6b60f_row4_col17\" class=\"data row4 col17\" >0.463200</td>\n",
       "      <td id=\"T_6b60f_row4_col18\" class=\"data row4 col18\" >0.462339</td>\n",
       "      <td id=\"T_6b60f_row4_col19\" class=\"data row4 col19\" >-0.056825</td>\n",
       "      <td id=\"T_6b60f_row4_col20\" class=\"data row4 col20\" >-0.211643</td>\n",
       "    </tr>\n",
       "    <tr>\n",
       "      <th id=\"T_6b60f_level0_row5\" class=\"row_heading level0 row5\" >Alcohol</th>\n",
       "      <td id=\"T_6b60f_row5_col0\" class=\"data row5 col0\" >-0.108226</td>\n",
       "      <td id=\"T_6b60f_row5_col1\" class=\"data row5 col1\" >-0.112899</td>\n",
       "      <td id=\"T_6b60f_row5_col2\" class=\"data row5 col2\" >0.603650</td>\n",
       "      <td id=\"T_6b60f_row5_col3\" class=\"data row5 col3\" >-0.172450</td>\n",
       "      <td id=\"T_6b60f_row5_col4\" class=\"data row5 col4\" >-0.106805</td>\n",
       "      <td id=\"T_6b60f_row5_col5\" class=\"data row5 col5\" >1.000000</td>\n",
       "      <td id=\"T_6b60f_row5_col6\" class=\"data row5 col6\" >0.414026</td>\n",
       "      <td id=\"T_6b60f_row5_col7\" class=\"data row5 col7\" >0.112269</td>\n",
       "      <td id=\"T_6b60f_row5_col8\" class=\"data row5 col8\" >-0.049617</td>\n",
       "      <td id=\"T_6b60f_row5_col9\" class=\"data row5 col9\" >0.353508</td>\n",
       "      <td id=\"T_6b60f_row5_col10\" class=\"data row5 col10\" >-0.101441</td>\n",
       "      <td id=\"T_6b60f_row5_col11\" class=\"data row5 col11\" >0.240872</td>\n",
       "      <td id=\"T_6b60f_row5_col12\" class=\"data row5 col12\" >0.212133</td>\n",
       "      <td id=\"T_6b60f_row5_col13\" class=\"data row5 col13\" >0.244308</td>\n",
       "      <td id=\"T_6b60f_row5_col14\" class=\"data row5 col14\" >-0.024821</td>\n",
       "      <td id=\"T_6b60f_row5_col15\" class=\"data row5 col15\" >0.441285</td>\n",
       "      <td id=\"T_6b60f_row5_col16\" class=\"data row5 col16\" >-0.030891</td>\n",
       "      <td id=\"T_6b60f_row5_col17\" class=\"data row5 col17\" >-0.401871</td>\n",
       "      <td id=\"T_6b60f_row5_col18\" class=\"data row5 col18\" >-0.387176</td>\n",
       "      <td id=\"T_6b60f_row5_col19\" class=\"data row5 col19\" >0.350776</td>\n",
       "      <td id=\"T_6b60f_row5_col20\" class=\"data row5 col20\" >0.610711</td>\n",
       "    </tr>\n",
       "    <tr>\n",
       "      <th id=\"T_6b60f_level0_row6\" class=\"row_heading level0 row6\" >percentage_expenditure</th>\n",
       "      <td id=\"T_6b60f_row6_col0\" class=\"data row6 col0\" >-0.122092</td>\n",
       "      <td id=\"T_6b60f_row6_col1\" class=\"data row6 col1\" >0.069562</td>\n",
       "      <td id=\"T_6b60f_row6_col2\" class=\"data row6 col2\" >0.461684</td>\n",
       "      <td id=\"T_6b60f_row6_col3\" class=\"data row6 col3\" >-0.237605</td>\n",
       "      <td id=\"T_6b60f_row6_col4\" class=\"data row6 col4\" >-0.090760</td>\n",
       "      <td id=\"T_6b60f_row6_col5\" class=\"data row6 col5\" >0.414026</td>\n",
       "      <td id=\"T_6b60f_row6_col6\" class=\"data row6 col6\" >1.000000</td>\n",
       "      <td id=\"T_6b60f_row6_col7\" class=\"data row6 col7\" >0.016759</td>\n",
       "      <td id=\"T_6b60f_row6_col8\" class=\"data row6 col8\" >-0.063069</td>\n",
       "      <td id=\"T_6b60f_row6_col9\" class=\"data row6 col9\" >0.242560</td>\n",
       "      <td id=\"T_6b60f_row6_col10\" class=\"data row6 col10\" >-0.092153</td>\n",
       "      <td id=\"T_6b60f_row6_col11\" class=\"data row6 col11\" >0.128624</td>\n",
       "      <td id=\"T_6b60f_row6_col12\" class=\"data row6 col12\" >0.179368</td>\n",
       "      <td id=\"T_6b60f_row6_col13\" class=\"data row6 col13\" >0.134810</td>\n",
       "      <td id=\"T_6b60f_row6_col14\" class=\"data row6 col14\" >-0.095237</td>\n",
       "      <td id=\"T_6b60f_row6_col15\" class=\"data row6 col15\" >0.959300</td>\n",
       "      <td id=\"T_6b60f_row6_col16\" class=\"data row6 col16\" >-0.016786</td>\n",
       "      <td id=\"T_6b60f_row6_col17\" class=\"data row6 col17\" >-0.251035</td>\n",
       "      <td id=\"T_6b60f_row6_col18\" class=\"data row6 col18\" >-0.252789</td>\n",
       "      <td id=\"T_6b60f_row6_col19\" class=\"data row6 col19\" >0.199307</td>\n",
       "      <td id=\"T_6b60f_row6_col20\" class=\"data row6 col20\" >0.423599</td>\n",
       "    </tr>\n",
       "    <tr>\n",
       "      <th id=\"T_6b60f_level0_row7\" class=\"row_heading level0 row7\" >HepatitisB</th>\n",
       "      <td id=\"T_6b60f_row7_col0\" class=\"data row7 col0\" >0.013179</td>\n",
       "      <td id=\"T_6b60f_row7_col1\" class=\"data row7 col1\" >0.114897</td>\n",
       "      <td id=\"T_6b60f_row7_col2\" class=\"data row7 col2\" >0.140351</td>\n",
       "      <td id=\"T_6b60f_row7_col3\" class=\"data row7 col3\" >-0.105225</td>\n",
       "      <td id=\"T_6b60f_row7_col4\" class=\"data row7 col4\" >-0.231769</td>\n",
       "      <td id=\"T_6b60f_row7_col5\" class=\"data row7 col5\" >0.112269</td>\n",
       "      <td id=\"T_6b60f_row7_col6\" class=\"data row7 col6\" >0.016759</td>\n",
       "      <td id=\"T_6b60f_row7_col7\" class=\"data row7 col7\" >1.000000</td>\n",
       "      <td id=\"T_6b60f_row7_col8\" class=\"data row7 col8\" >-0.124800</td>\n",
       "      <td id=\"T_6b60f_row7_col9\" class=\"data row7 col9\" >0.143377</td>\n",
       "      <td id=\"T_6b60f_row7_col10\" class=\"data row7 col10\" >-0.240766</td>\n",
       "      <td id=\"T_6b60f_row7_col11\" class=\"data row7 col11\" >0.463331</td>\n",
       "      <td id=\"T_6b60f_row7_col12\" class=\"data row7 col12\" >0.110089</td>\n",
       "      <td id=\"T_6b60f_row7_col13\" class=\"data row7 col13\" >0.588990</td>\n",
       "      <td id=\"T_6b60f_row7_col14\" class=\"data row7 col14\" >-0.095331</td>\n",
       "      <td id=\"T_6b60f_row7_col15\" class=\"data row7 col15\" >0.041850</td>\n",
       "      <td id=\"T_6b60f_row7_col16\" class=\"data row7 col16\" >-0.129723</td>\n",
       "      <td id=\"T_6b60f_row7_col17\" class=\"data row7 col17\" >-0.128217</td>\n",
       "      <td id=\"T_6b60f_row7_col18\" class=\"data row7 col18\" >-0.133512</td>\n",
       "      <td id=\"T_6b60f_row7_col19\" class=\"data row7 col19\" >0.223944</td>\n",
       "      <td id=\"T_6b60f_row7_col20\" class=\"data row7 col20\" >0.212167</td>\n",
       "    </tr>\n",
       "    <tr>\n",
       "      <th id=\"T_6b60f_level0_row8\" class=\"row_heading level0 row8\" >Measles</th>\n",
       "      <td id=\"T_6b60f_row8_col0\" class=\"data row8 col0\" >-0.035006</td>\n",
       "      <td id=\"T_6b60f_row8_col1\" class=\"data row8 col1\" >-0.053822</td>\n",
       "      <td id=\"T_6b60f_row8_col2\" class=\"data row8 col2\" >-0.071963</td>\n",
       "      <td id=\"T_6b60f_row8_col3\" class=\"data row8 col3\" >-0.003967</td>\n",
       "      <td id=\"T_6b60f_row8_col4\" class=\"data row8 col4\" >0.532680</td>\n",
       "      <td id=\"T_6b60f_row8_col5\" class=\"data row8 col5\" >-0.049617</td>\n",
       "      <td id=\"T_6b60f_row8_col6\" class=\"data row8 col6\" >-0.063069</td>\n",
       "      <td id=\"T_6b60f_row8_col7\" class=\"data row8 col7\" >-0.124800</td>\n",
       "      <td id=\"T_6b60f_row8_col8\" class=\"data row8 col8\" >1.000000</td>\n",
       "      <td id=\"T_6b60f_row8_col9\" class=\"data row8 col9\" >-0.153435</td>\n",
       "      <td id=\"T_6b60f_row8_col10\" class=\"data row8 col10\" >0.517506</td>\n",
       "      <td id=\"T_6b60f_row8_col11\" class=\"data row8 col11\" >-0.057850</td>\n",
       "      <td id=\"T_6b60f_row8_col12\" class=\"data row8 col12\" >-0.106421</td>\n",
       "      <td id=\"T_6b60f_row8_col13\" class=\"data row8 col13\" >-0.058606</td>\n",
       "      <td id=\"T_6b60f_row8_col14\" class=\"data row8 col14\" >-0.003564</td>\n",
       "      <td id=\"T_6b60f_row8_col15\" class=\"data row8 col15\" >-0.064768</td>\n",
       "      <td id=\"T_6b60f_row8_col16\" class=\"data row8 col16\" >0.321946</td>\n",
       "      <td id=\"T_6b60f_row8_col17\" class=\"data row8 col17\" >0.180785</td>\n",
       "      <td id=\"T_6b60f_row8_col18\" class=\"data row8 col18\" >0.174918</td>\n",
       "      <td id=\"T_6b60f_row8_col19\" class=\"data row8 col19\" >-0.010798</td>\n",
       "      <td id=\"T_6b60f_row8_col20\" class=\"data row8 col20\" >-0.112327</td>\n",
       "    </tr>\n",
       "    <tr>\n",
       "      <th id=\"T_6b60f_level0_row9\" class=\"row_heading level0 row9\" >BMI</th>\n",
       "      <td id=\"T_6b60f_row9_col0\" class=\"data row9 col0\" >-0.022682</td>\n",
       "      <td id=\"T_6b60f_row9_col1\" class=\"data row9 col1\" >0.005589</td>\n",
       "      <td id=\"T_6b60f_row9_col2\" class=\"data row9 col2\" >0.298155</td>\n",
       "      <td id=\"T_6b60f_row9_col3\" class=\"data row9 col3\" >-0.351086</td>\n",
       "      <td id=\"T_6b60f_row9_col4\" class=\"data row9 col4\" >-0.234428</td>\n",
       "      <td id=\"T_6b60f_row9_col5\" class=\"data row9 col5\" >0.353508</td>\n",
       "      <td id=\"T_6b60f_row9_col6\" class=\"data row9 col6\" >0.242560</td>\n",
       "      <td id=\"T_6b60f_row9_col7\" class=\"data row9 col7\" >0.143377</td>\n",
       "      <td id=\"T_6b60f_row9_col8\" class=\"data row9 col8\" >-0.153435</td>\n",
       "      <td id=\"T_6b60f_row9_col9\" class=\"data row9 col9\" >1.000000</td>\n",
       "      <td id=\"T_6b60f_row9_col10\" class=\"data row9 col10\" >-0.242127</td>\n",
       "      <td id=\"T_6b60f_row9_col11\" class=\"data row9 col11\" >0.186606</td>\n",
       "      <td id=\"T_6b60f_row9_col12\" class=\"data row9 col12\" >0.183288</td>\n",
       "      <td id=\"T_6b60f_row9_col13\" class=\"data row9 col13\" >0.176463</td>\n",
       "      <td id=\"T_6b60f_row9_col14\" class=\"data row9 col14\" >-0.212926</td>\n",
       "      <td id=\"T_6b60f_row9_col15\" class=\"data row9 col15\" >0.265945</td>\n",
       "      <td id=\"T_6b60f_row9_col16\" class=\"data row9 col16\" >-0.081323</td>\n",
       "      <td id=\"T_6b60f_row9_col17\" class=\"data row9 col17\" >-0.547977</td>\n",
       "      <td id=\"T_6b60f_row9_col18\" class=\"data row9 col18\" >-0.553837</td>\n",
       "      <td id=\"T_6b60f_row9_col19\" class=\"data row9 col19\" >0.461031</td>\n",
       "      <td id=\"T_6b60f_row9_col20\" class=\"data row9 col20\" >0.550287</td>\n",
       "    </tr>\n",
       "    <tr>\n",
       "      <th id=\"T_6b60f_level0_row10\" class=\"row_heading level0 row10\" >under_five_deaths</th>\n",
       "      <td id=\"T_6b60f_row10_col0\" class=\"data row10 col0\" >-0.020630</td>\n",
       "      <td id=\"T_6b60f_row10_col1\" class=\"data row10 col1\" >0.010479</td>\n",
       "      <td id=\"T_6b60f_row10_col2\" class=\"data row10 col2\" >-0.109847</td>\n",
       "      <td id=\"T_6b60f_row10_col3\" class=\"data row10 col3\" >0.060365</td>\n",
       "      <td id=\"T_6b60f_row10_col4\" class=\"data row10 col4\" >0.996906</td>\n",
       "      <td id=\"T_6b60f_row10_col5\" class=\"data row10 col5\" >-0.101441</td>\n",
       "      <td id=\"T_6b60f_row10_col6\" class=\"data row10 col6\" >-0.092153</td>\n",
       "      <td id=\"T_6b60f_row10_col7\" class=\"data row10 col7\" >-0.240766</td>\n",
       "      <td id=\"T_6b60f_row10_col8\" class=\"data row10 col8\" >0.517506</td>\n",
       "      <td id=\"T_6b60f_row10_col9\" class=\"data row10 col9\" >-0.242127</td>\n",
       "      <td id=\"T_6b60f_row10_col10\" class=\"data row10 col10\" >1.000000</td>\n",
       "      <td id=\"T_6b60f_row10_col11\" class=\"data row10 col11\" >-0.171164</td>\n",
       "      <td id=\"T_6b60f_row10_col12\" class=\"data row10 col12\" >-0.147799</td>\n",
       "      <td id=\"T_6b60f_row10_col13\" class=\"data row10 col13\" >-0.178448</td>\n",
       "      <td id=\"T_6b60f_row10_col14\" class=\"data row10 col14\" >0.018366</td>\n",
       "      <td id=\"T_6b60f_row10_col15\" class=\"data row10 col15\" >-0.100332</td>\n",
       "      <td id=\"T_6b60f_row10_col16\" class=\"data row10 col16\" >0.658680</td>\n",
       "      <td id=\"T_6b60f_row10_col17\" class=\"data row10 col17\" >0.464639</td>\n",
       "      <td id=\"T_6b60f_row10_col18\" class=\"data row10 col18\" >0.462819</td>\n",
       "      <td id=\"T_6b60f_row10_col19\" class=\"data row10 col19\" >-0.080696</td>\n",
       "      <td id=\"T_6b60f_row10_col20\" class=\"data row10 col20\" >-0.223278</td>\n",
       "    </tr>\n",
       "    <tr>\n",
       "      <th id=\"T_6b60f_level0_row11\" class=\"row_heading level0 row11\" >Polio</th>\n",
       "      <td id=\"T_6b60f_row11_col0\" class=\"data row11 col0\" >0.011280</td>\n",
       "      <td id=\"T_6b60f_row11_col1\" class=\"data row11 col1\" >-0.016699</td>\n",
       "      <td id=\"T_6b60f_row11_col2\" class=\"data row11 col2\" >0.201917</td>\n",
       "      <td id=\"T_6b60f_row11_col3\" class=\"data row11 col3\" >-0.199853</td>\n",
       "      <td id=\"T_6b60f_row11_col4\" class=\"data row11 col4\" >-0.156929</td>\n",
       "      <td id=\"T_6b60f_row11_col5\" class=\"data row11 col5\" >0.240872</td>\n",
       "      <td id=\"T_6b60f_row11_col6\" class=\"data row11 col6\" >0.128624</td>\n",
       "      <td id=\"T_6b60f_row11_col7\" class=\"data row11 col7\" >0.463331</td>\n",
       "      <td id=\"T_6b60f_row11_col8\" class=\"data row11 col8\" >-0.057850</td>\n",
       "      <td id=\"T_6b60f_row11_col9\" class=\"data row11 col9\" >0.186606</td>\n",
       "      <td id=\"T_6b60f_row11_col10\" class=\"data row11 col10\" >-0.171164</td>\n",
       "      <td id=\"T_6b60f_row11_col11\" class=\"data row11 col11\" >1.000000</td>\n",
       "      <td id=\"T_6b60f_row11_col12\" class=\"data row11 col12\" >0.116567</td>\n",
       "      <td id=\"T_6b60f_row11_col13\" class=\"data row11 col13\" >0.609245</td>\n",
       "      <td id=\"T_6b60f_row11_col14\" class=\"data row11 col14\" >-0.109332</td>\n",
       "      <td id=\"T_6b60f_row11_col15\" class=\"data row11 col15\" >0.156808</td>\n",
       "      <td id=\"T_6b60f_row11_col16\" class=\"data row11 col16\" >-0.045387</td>\n",
       "      <td id=\"T_6b60f_row11_col17\" class=\"data row11 col17\" >-0.164392</td>\n",
       "      <td id=\"T_6b60f_row11_col18\" class=\"data row11 col18\" >-0.173823</td>\n",
       "      <td id=\"T_6b60f_row11_col19\" class=\"data row11 col19\" >0.311648</td>\n",
       "      <td id=\"T_6b60f_row11_col20\" class=\"data row11 col20\" >0.349920</td>\n",
       "    </tr>\n",
       "    <tr>\n",
       "      <th id=\"T_6b60f_level0_row12\" class=\"row_heading level0 row12\" >Total_expenditure</th>\n",
       "      <td id=\"T_6b60f_row12_col0\" class=\"data row12 col0\" >-0.022621</td>\n",
       "      <td id=\"T_6b60f_row12_col1\" class=\"data row12 col1\" >0.061894</td>\n",
       "      <td id=\"T_6b60f_row12_col2\" class=\"data row12 col2\" >0.184183</td>\n",
       "      <td id=\"T_6b60f_row12_col3\" class=\"data row12 col3\" >-0.080473</td>\n",
       "      <td id=\"T_6b60f_row12_col4\" class=\"data row12 col4\" >-0.148666</td>\n",
       "      <td id=\"T_6b60f_row12_col5\" class=\"data row12 col5\" >0.212133</td>\n",
       "      <td id=\"T_6b60f_row12_col6\" class=\"data row12 col6\" >0.179368</td>\n",
       "      <td id=\"T_6b60f_row12_col7\" class=\"data row12 col7\" >0.110089</td>\n",
       "      <td id=\"T_6b60f_row12_col8\" class=\"data row12 col8\" >-0.106421</td>\n",
       "      <td id=\"T_6b60f_row12_col9\" class=\"data row12 col9\" >0.183288</td>\n",
       "      <td id=\"T_6b60f_row12_col10\" class=\"data row12 col10\" >-0.147799</td>\n",
       "      <td id=\"T_6b60f_row12_col11\" class=\"data row12 col11\" >0.116567</td>\n",
       "      <td id=\"T_6b60f_row12_col12\" class=\"data row12 col12\" >1.000000</td>\n",
       "      <td id=\"T_6b60f_row12_col13\" class=\"data row12 col13\" >0.129333</td>\n",
       "      <td id=\"T_6b60f_row12_col14\" class=\"data row12 col14\" >0.046494</td>\n",
       "      <td id=\"T_6b60f_row12_col15\" class=\"data row12 col15\" >0.174231</td>\n",
       "      <td id=\"T_6b60f_row12_col16\" class=\"data row12 col16\" >-0.082800</td>\n",
       "      <td id=\"T_6b60f_row12_col17\" class=\"data row12 col17\" >-0.200769</td>\n",
       "      <td id=\"T_6b60f_row12_col18\" class=\"data row12 col18\" >-0.212890</td>\n",
       "      <td id=\"T_6b60f_row12_col19\" class=\"data row12 col19\" >0.041750</td>\n",
       "      <td id=\"T_6b60f_row12_col20\" class=\"data row12 col20\" >0.243800</td>\n",
       "    </tr>\n",
       "    <tr>\n",
       "      <th id=\"T_6b60f_level0_row13\" class=\"row_heading level0 row13\" >Diphtheria</th>\n",
       "      <td id=\"T_6b60f_row13_col0\" class=\"data row13 col0\" >-0.036725</td>\n",
       "      <td id=\"T_6b60f_row13_col1\" class=\"data row13 col1\" >0.029641</td>\n",
       "      <td id=\"T_6b60f_row13_col2\" class=\"data row13 col2\" >0.201654</td>\n",
       "      <td id=\"T_6b60f_row13_col3\" class=\"data row13 col3\" >-0.191429</td>\n",
       "      <td id=\"T_6b60f_row13_col4\" class=\"data row13 col4\" >-0.161871</td>\n",
       "      <td id=\"T_6b60f_row13_col5\" class=\"data row13 col5\" >0.244308</td>\n",
       "      <td id=\"T_6b60f_row13_col6\" class=\"data row13 col6\" >0.134810</td>\n",
       "      <td id=\"T_6b60f_row13_col7\" class=\"data row13 col7\" >0.588990</td>\n",
       "      <td id=\"T_6b60f_row13_col8\" class=\"data row13 col8\" >-0.058606</td>\n",
       "      <td id=\"T_6b60f_row13_col9\" class=\"data row13 col9\" >0.176463</td>\n",
       "      <td id=\"T_6b60f_row13_col10\" class=\"data row13 col10\" >-0.178448</td>\n",
       "      <td id=\"T_6b60f_row13_col11\" class=\"data row13 col11\" >0.609245</td>\n",
       "      <td id=\"T_6b60f_row13_col12\" class=\"data row13 col12\" >0.129333</td>\n",
       "      <td id=\"T_6b60f_row13_col13\" class=\"data row13 col13\" >1.000000</td>\n",
       "      <td id=\"T_6b60f_row13_col14\" class=\"data row13 col14\" >-0.117659</td>\n",
       "      <td id=\"T_6b60f_row13_col15\" class=\"data row13 col15\" >0.158438</td>\n",
       "      <td id=\"T_6b60f_row13_col16\" class=\"data row13 col16\" >-0.039898</td>\n",
       "      <td id=\"T_6b60f_row13_col17\" class=\"data row13 col17\" >-0.185594</td>\n",
       "      <td id=\"T_6b60f_row13_col18\" class=\"data row13 col18\" >-0.180062</td>\n",
       "      <td id=\"T_6b60f_row13_col19\" class=\"data row13 col19\" >0.342333</td>\n",
       "      <td id=\"T_6b60f_row13_col20\" class=\"data row13 col20\" >0.350542</td>\n",
       "    </tr>\n",
       "    <tr>\n",
       "      <th id=\"T_6b60f_level0_row14\" class=\"row_heading level0 row14\" >HIV_AIDS</th>\n",
       "      <td id=\"T_6b60f_row14_col0\" class=\"data row14 col0\" >0.148609</td>\n",
       "      <td id=\"T_6b60f_row14_col1\" class=\"data row14 col1\" >-0.123475</td>\n",
       "      <td id=\"T_6b60f_row14_col2\" class=\"data row14 col2\" >-0.129347</td>\n",
       "      <td id=\"T_6b60f_row14_col3\" class=\"data row14 col3\" >0.552159</td>\n",
       "      <td id=\"T_6b60f_row14_col4\" class=\"data row14 col4\" >0.006401</td>\n",
       "      <td id=\"T_6b60f_row14_col5\" class=\"data row14 col5\" >-0.024821</td>\n",
       "      <td id=\"T_6b60f_row14_col6\" class=\"data row14 col6\" >-0.095237</td>\n",
       "      <td id=\"T_6b60f_row14_col7\" class=\"data row14 col7\" >-0.095331</td>\n",
       "      <td id=\"T_6b60f_row14_col8\" class=\"data row14 col8\" >-0.003564</td>\n",
       "      <td id=\"T_6b60f_row14_col9\" class=\"data row14 col9\" >-0.212926</td>\n",
       "      <td id=\"T_6b60f_row14_col10\" class=\"data row14 col10\" >0.018366</td>\n",
       "      <td id=\"T_6b60f_row14_col11\" class=\"data row14 col11\" >-0.109332</td>\n",
       "      <td id=\"T_6b60f_row14_col12\" class=\"data row14 col12\" >0.046494</td>\n",
       "      <td id=\"T_6b60f_row14_col13\" class=\"data row14 col13\" >-0.117659</td>\n",
       "      <td id=\"T_6b60f_row14_col14\" class=\"data row14 col14\" >1.000000</td>\n",
       "      <td id=\"T_6b60f_row14_col15\" class=\"data row14 col15\" >-0.108311</td>\n",
       "      <td id=\"T_6b60f_row14_col16\" class=\"data row14 col16\" >-0.029883</td>\n",
       "      <td id=\"T_6b60f_row14_col17\" class=\"data row14 col17\" >0.174323</td>\n",
       "      <td id=\"T_6b60f_row14_col18\" class=\"data row14 col18\" >0.184619</td>\n",
       "      <td id=\"T_6b60f_row14_col19\" class=\"data row14 col19\" >-0.268660</td>\n",
       "      <td id=\"T_6b60f_row14_col20\" class=\"data row14 col20\" >-0.210091</td>\n",
       "    </tr>\n",
       "    <tr>\n",
       "      <th id=\"T_6b60f_level0_row15\" class=\"row_heading level0 row15\" >GDP</th>\n",
       "      <td id=\"T_6b60f_row15_col0\" class=\"data row15 col0\" >-0.118019</td>\n",
       "      <td id=\"T_6b60f_row15_col1\" class=\"data row15 col1\" >0.096421</td>\n",
       "      <td id=\"T_6b60f_row15_col2\" class=\"data row15 col2\" >0.484801</td>\n",
       "      <td id=\"T_6b60f_row15_col3\" class=\"data row15 col3\" >-0.255034</td>\n",
       "      <td id=\"T_6b60f_row15_col4\" class=\"data row15 col4\" >-0.098093</td>\n",
       "      <td id=\"T_6b60f_row15_col5\" class=\"data row15 col5\" >0.441285</td>\n",
       "      <td id=\"T_6b60f_row15_col6\" class=\"data row15 col6\" >0.959300</td>\n",
       "      <td id=\"T_6b60f_row15_col7\" class=\"data row15 col7\" >0.041850</td>\n",
       "      <td id=\"T_6b60f_row15_col8\" class=\"data row15 col8\" >-0.064768</td>\n",
       "      <td id=\"T_6b60f_row15_col9\" class=\"data row15 col9\" >0.265945</td>\n",
       "      <td id=\"T_6b60f_row15_col10\" class=\"data row15 col10\" >-0.100332</td>\n",
       "      <td id=\"T_6b60f_row15_col11\" class=\"data row15 col11\" >0.156808</td>\n",
       "      <td id=\"T_6b60f_row15_col12\" class=\"data row15 col12\" >0.174231</td>\n",
       "      <td id=\"T_6b60f_row15_col13\" class=\"data row15 col13\" >0.158438</td>\n",
       "      <td id=\"T_6b60f_row15_col14\" class=\"data row15 col14\" >-0.108311</td>\n",
       "      <td id=\"T_6b60f_row15_col15\" class=\"data row15 col15\" >1.000000</td>\n",
       "      <td id=\"T_6b60f_row15_col16\" class=\"data row15 col16\" >-0.020370</td>\n",
       "      <td id=\"T_6b60f_row15_col17\" class=\"data row15 col17\" >-0.273584</td>\n",
       "      <td id=\"T_6b60f_row15_col18\" class=\"data row15 col18\" >-0.275432</td>\n",
       "      <td id=\"T_6b60f_row15_col19\" class=\"data row15 col19\" >0.234919</td>\n",
       "      <td id=\"T_6b60f_row15_col20\" class=\"data row15 col20\" >0.467755</td>\n",
       "    </tr>\n",
       "    <tr>\n",
       "      <th id=\"T_6b60f_level0_row16\" class=\"row_heading level0 row16\" >Population</th>\n",
       "      <td id=\"T_6b60f_row16_col0\" class=\"data row16 col0\" >-0.018489</td>\n",
       "      <td id=\"T_6b60f_row16_col1\" class=\"data row16 col1\" >0.012567</td>\n",
       "      <td id=\"T_6b60f_row16_col2\" class=\"data row16 col2\" >-0.034790</td>\n",
       "      <td id=\"T_6b60f_row16_col3\" class=\"data row16 col3\" >-0.015012</td>\n",
       "      <td id=\"T_6b60f_row16_col4\" class=\"data row16 col4\" >0.671758</td>\n",
       "      <td id=\"T_6b60f_row16_col5\" class=\"data row16 col5\" >-0.030891</td>\n",
       "      <td id=\"T_6b60f_row16_col6\" class=\"data row16 col6\" >-0.016786</td>\n",
       "      <td id=\"T_6b60f_row16_col7\" class=\"data row16 col7\" >-0.129723</td>\n",
       "      <td id=\"T_6b60f_row16_col8\" class=\"data row16 col8\" >0.321946</td>\n",
       "      <td id=\"T_6b60f_row16_col9\" class=\"data row16 col9\" >-0.081323</td>\n",
       "      <td id=\"T_6b60f_row16_col10\" class=\"data row16 col10\" >0.658680</td>\n",
       "      <td id=\"T_6b60f_row16_col11\" class=\"data row16 col11\" >-0.045387</td>\n",
       "      <td id=\"T_6b60f_row16_col12\" class=\"data row16 col12\" >-0.082800</td>\n",
       "      <td id=\"T_6b60f_row16_col13\" class=\"data row16 col13\" >-0.039898</td>\n",
       "      <td id=\"T_6b60f_row16_col14\" class=\"data row16 col14\" >-0.029883</td>\n",
       "      <td id=\"T_6b60f_row16_col15\" class=\"data row16 col15\" >-0.020370</td>\n",
       "      <td id=\"T_6b60f_row16_col16\" class=\"data row16 col16\" >1.000000</td>\n",
       "      <td id=\"T_6b60f_row16_col17\" class=\"data row16 col17\" >0.281607</td>\n",
       "      <td id=\"T_6b60f_row16_col18\" class=\"data row16 col18\" >0.275388</td>\n",
       "      <td id=\"T_6b60f_row16_col19\" class=\"data row16 col19\" >0.053316</td>\n",
       "      <td id=\"T_6b60f_row16_col20\" class=\"data row16 col20\" >-0.038347</td>\n",
       "    </tr>\n",
       "    <tr>\n",
       "      <th id=\"T_6b60f_level0_row17\" class=\"row_heading level0 row17\" >thinness_1-19_years</th>\n",
       "      <td id=\"T_6b60f_row17_col0\" class=\"data row17 col0\" >-0.026689</td>\n",
       "      <td id=\"T_6b60f_row17_col1\" class=\"data row17 col1\" >0.023287</td>\n",
       "      <td id=\"T_6b60f_row17_col2\" class=\"data row17 col2\" >-0.303958</td>\n",
       "      <td id=\"T_6b60f_row17_col3\" class=\"data row17 col3\" >0.272172</td>\n",
       "      <td id=\"T_6b60f_row17_col4\" class=\"data row17 col4\" >0.463200</td>\n",
       "      <td id=\"T_6b60f_row17_col5\" class=\"data row17 col5\" >-0.401871</td>\n",
       "      <td id=\"T_6b60f_row17_col6\" class=\"data row17 col6\" >-0.251035</td>\n",
       "      <td id=\"T_6b60f_row17_col7\" class=\"data row17 col7\" >-0.128217</td>\n",
       "      <td id=\"T_6b60f_row17_col8\" class=\"data row17 col8\" >0.180785</td>\n",
       "      <td id=\"T_6b60f_row17_col9\" class=\"data row17 col9\" >-0.547977</td>\n",
       "      <td id=\"T_6b60f_row17_col10\" class=\"data row17 col10\" >0.464639</td>\n",
       "      <td id=\"T_6b60f_row17_col11\" class=\"data row17 col11\" >-0.164392</td>\n",
       "      <td id=\"T_6b60f_row17_col12\" class=\"data row17 col12\" >-0.200769</td>\n",
       "      <td id=\"T_6b60f_row17_col13\" class=\"data row17 col13\" >-0.185594</td>\n",
       "      <td id=\"T_6b60f_row17_col14\" class=\"data row17 col14\" >0.174323</td>\n",
       "      <td id=\"T_6b60f_row17_col15\" class=\"data row17 col15\" >-0.273584</td>\n",
       "      <td id=\"T_6b60f_row17_col16\" class=\"data row17 col16\" >0.281607</td>\n",
       "      <td id=\"T_6b60f_row17_col17\" class=\"data row17 col17\" >1.000000</td>\n",
       "      <td id=\"T_6b60f_row17_col18\" class=\"data row17 col18\" >0.924159</td>\n",
       "      <td id=\"T_6b60f_row17_col19\" class=\"data row17 col19\" >-0.341346</td>\n",
       "      <td id=\"T_6b60f_row17_col20\" class=\"data row17 col20\" >-0.490466</td>\n",
       "    </tr>\n",
       "    <tr>\n",
       "      <th id=\"T_6b60f_level0_row18\" class=\"row_heading level0 row18\" >thinness_5-9_years</th>\n",
       "      <td id=\"T_6b60f_row18_col0\" class=\"data row18 col0\" >0.004386</td>\n",
       "      <td id=\"T_6b60f_row18_col1\" class=\"data row18 col1\" >0.012403</td>\n",
       "      <td id=\"T_6b60f_row18_col2\" class=\"data row18 col2\" >-0.307720</td>\n",
       "      <td id=\"T_6b60f_row18_col3\" class=\"data row18 col3\" >0.284619</td>\n",
       "      <td id=\"T_6b60f_row18_col4\" class=\"data row18 col4\" >0.462339</td>\n",
       "      <td id=\"T_6b60f_row18_col5\" class=\"data row18 col5\" >-0.387176</td>\n",
       "      <td id=\"T_6b60f_row18_col6\" class=\"data row18 col6\" >-0.252789</td>\n",
       "      <td id=\"T_6b60f_row18_col7\" class=\"data row18 col7\" >-0.133512</td>\n",
       "      <td id=\"T_6b60f_row18_col8\" class=\"data row18 col8\" >0.174918</td>\n",
       "      <td id=\"T_6b60f_row18_col9\" class=\"data row18 col9\" >-0.553837</td>\n",
       "      <td id=\"T_6b60f_row18_col10\" class=\"data row18 col10\" >0.462819</td>\n",
       "      <td id=\"T_6b60f_row18_col11\" class=\"data row18 col11\" >-0.173823</td>\n",
       "      <td id=\"T_6b60f_row18_col12\" class=\"data row18 col12\" >-0.212890</td>\n",
       "      <td id=\"T_6b60f_row18_col13\" class=\"data row18 col13\" >-0.180062</td>\n",
       "      <td id=\"T_6b60f_row18_col14\" class=\"data row18 col14\" >0.184619</td>\n",
       "      <td id=\"T_6b60f_row18_col15\" class=\"data row18 col15\" >-0.275432</td>\n",
       "      <td id=\"T_6b60f_row18_col16\" class=\"data row18 col16\" >0.275388</td>\n",
       "      <td id=\"T_6b60f_row18_col17\" class=\"data row18 col17\" >0.924159</td>\n",
       "      <td id=\"T_6b60f_row18_col18\" class=\"data row18 col18\" >1.000000</td>\n",
       "      <td id=\"T_6b60f_row18_col19\" class=\"data row18 col19\" >-0.309095</td>\n",
       "      <td id=\"T_6b60f_row18_col20\" class=\"data row18 col20\" >-0.470953</td>\n",
       "    </tr>\n",
       "    <tr>\n",
       "      <th id=\"T_6b60f_level0_row19\" class=\"row_heading level0 row19\" >Income_composition_of_resources</th>\n",
       "      <td id=\"T_6b60f_row19_col0\" class=\"data row19 col0\" >-0.016205</td>\n",
       "      <td id=\"T_6b60f_row19_col1\" class=\"data row19 col1\" >0.021958</td>\n",
       "      <td id=\"T_6b60f_row19_col2\" class=\"data row19 col2\" >0.228885</td>\n",
       "      <td id=\"T_6b60f_row19_col3\" class=\"data row19 col3\" >-0.425121</td>\n",
       "      <td id=\"T_6b60f_row19_col4\" class=\"data row19 col4\" >-0.056825</td>\n",
       "      <td id=\"T_6b60f_row19_col5\" class=\"data row19 col5\" >0.350776</td>\n",
       "      <td id=\"T_6b60f_row19_col6\" class=\"data row19 col6\" >0.199307</td>\n",
       "      <td id=\"T_6b60f_row19_col7\" class=\"data row19 col7\" >0.223944</td>\n",
       "      <td id=\"T_6b60f_row19_col8\" class=\"data row19 col8\" >-0.010798</td>\n",
       "      <td id=\"T_6b60f_row19_col9\" class=\"data row19 col9\" >0.461031</td>\n",
       "      <td id=\"T_6b60f_row19_col10\" class=\"data row19 col10\" >-0.080696</td>\n",
       "      <td id=\"T_6b60f_row19_col11\" class=\"data row19 col11\" >0.311648</td>\n",
       "      <td id=\"T_6b60f_row19_col12\" class=\"data row19 col12\" >0.041750</td>\n",
       "      <td id=\"T_6b60f_row19_col13\" class=\"data row19 col13\" >0.342333</td>\n",
       "      <td id=\"T_6b60f_row19_col14\" class=\"data row19 col14\" >-0.268660</td>\n",
       "      <td id=\"T_6b60f_row19_col15\" class=\"data row19 col15\" >0.234919</td>\n",
       "      <td id=\"T_6b60f_row19_col16\" class=\"data row19 col16\" >0.053316</td>\n",
       "      <td id=\"T_6b60f_row19_col17\" class=\"data row19 col17\" >-0.341346</td>\n",
       "      <td id=\"T_6b60f_row19_col18\" class=\"data row19 col18\" >-0.309095</td>\n",
       "      <td id=\"T_6b60f_row19_col19\" class=\"data row19 col19\" >1.000000</td>\n",
       "      <td id=\"T_6b60f_row19_col20\" class=\"data row19 col20\" >0.654503</td>\n",
       "    </tr>\n",
       "    <tr>\n",
       "      <th id=\"T_6b60f_level0_row20\" class=\"row_heading level0 row20\" >Schooling</th>\n",
       "      <td id=\"T_6b60f_row20_col0\" class=\"data row20 col0\" >-0.050765</td>\n",
       "      <td id=\"T_6b60f_row20_col1\" class=\"data row20 col1\" >0.083280</td>\n",
       "      <td id=\"T_6b60f_row20_col2\" class=\"data row20 col2\" >0.510937</td>\n",
       "      <td id=\"T_6b60f_row20_col3\" class=\"data row20 col3\" >-0.417721</td>\n",
       "      <td id=\"T_6b60f_row20_col4\" class=\"data row20 col4\" >-0.211643</td>\n",
       "      <td id=\"T_6b60f_row20_col5\" class=\"data row20 col5\" >0.610711</td>\n",
       "      <td id=\"T_6b60f_row20_col6\" class=\"data row20 col6\" >0.423599</td>\n",
       "      <td id=\"T_6b60f_row20_col7\" class=\"data row20 col7\" >0.212167</td>\n",
       "      <td id=\"T_6b60f_row20_col8\" class=\"data row20 col8\" >-0.112327</td>\n",
       "      <td id=\"T_6b60f_row20_col9\" class=\"data row20 col9\" >0.550287</td>\n",
       "      <td id=\"T_6b60f_row20_col10\" class=\"data row20 col10\" >-0.223278</td>\n",
       "      <td id=\"T_6b60f_row20_col11\" class=\"data row20 col11\" >0.349920</td>\n",
       "      <td id=\"T_6b60f_row20_col12\" class=\"data row20 col12\" >0.243800</td>\n",
       "      <td id=\"T_6b60f_row20_col13\" class=\"data row20 col13\" >0.350542</td>\n",
       "      <td id=\"T_6b60f_row20_col14\" class=\"data row20 col14\" >-0.210091</td>\n",
       "      <td id=\"T_6b60f_row20_col15\" class=\"data row20 col15\" >0.467755</td>\n",
       "      <td id=\"T_6b60f_row20_col16\" class=\"data row20 col16\" >-0.038347</td>\n",
       "      <td id=\"T_6b60f_row20_col17\" class=\"data row20 col17\" >-0.490466</td>\n",
       "      <td id=\"T_6b60f_row20_col18\" class=\"data row20 col18\" >-0.470953</td>\n",
       "      <td id=\"T_6b60f_row20_col19\" class=\"data row20 col19\" >0.654503</td>\n",
       "      <td id=\"T_6b60f_row20_col20\" class=\"data row20 col20\" >1.000000</td>\n",
       "    </tr>\n",
       "  </tbody>\n",
       "</table>\n"
      ],
      "text/plain": [
       "<pandas.io.formats.style.Styler at 0x7f25fdf66910>"
      ]
     },
     "execution_count": 12,
     "metadata": {},
     "output_type": "execute_result"
    }
   ],
   "source": [
    "corr = pd.DataFrame(df.drop('Life_expect', axis=1)).corr() #axis 1 = columns\n",
    "corr.style.background_gradient(cmap='coolwarm')"
   ]
  },
  {
   "cell_type": "markdown",
   "id": "58b5709b",
   "metadata": {
    "id": "sNbAxX3PVVw-",
    "papermill": {
     "duration": 0.129365,
     "end_time": "2022-04-14T03:52:57.065897",
     "exception": false,
     "start_time": "2022-04-14T03:52:56.936532",
     "status": "completed"
    },
    "tags": []
   },
   "source": [
    "# Feature relation Graph"
   ]
  },
  {
   "cell_type": "code",
   "execution_count": 13,
   "id": "de4ee2a1",
   "metadata": {
    "execution": {
     "iopub.execute_input": "2022-04-14T03:52:57.263985Z",
     "iopub.status.busy": "2022-04-14T03:52:57.263699Z",
     "iopub.status.idle": "2022-04-14T03:52:57.271594Z",
     "shell.execute_reply": "2022-04-14T03:52:57.271051Z"
    },
    "id": "eoHdRrWmi2y-",
    "papermill": {
     "duration": 0.096931,
     "end_time": "2022-04-14T03:52:57.276610",
     "exception": false,
     "start_time": "2022-04-14T03:52:57.179679",
     "status": "completed"
    },
    "tags": []
   },
   "outputs": [],
   "source": [
    "X = df[[\"Country\",\"Year\",\"Status\",\"Life_expect\",\"Adult_Mortality\"\n",
    "                       ,\"infant_deaths\",\"Alcohol\",\"percentage_expenditure\",\"HepatitisB\",\"Measles\"\n",
    "                       ,\"BMI\",\"under_five_deaths\",\"Polio\",\"Total_expenditure\",\"Diphtheria\"\n",
    "                       ,\"HIV_AIDS\",\"GDP\",\"Population\",\"thinness_1-19_years\",\"thinness_5-9_years\"\n",
    "                       ,\"Income_composition_of_resources\",\"Schooling\"]]\n",
    "y = df.Life_expect\n",
    "\n",
    "X_temp = np.array(X).reshape(-1,22)\n",
    "y_temp = np.array(y).reshape(-1,1)"
   ]
  },
  {
   "cell_type": "code",
   "execution_count": 14,
   "id": "2f121f26",
   "metadata": {
    "execution": {
     "iopub.execute_input": "2022-04-14T03:52:57.446293Z",
     "iopub.status.busy": "2022-04-14T03:52:57.446070Z",
     "iopub.status.idle": "2022-04-14T03:52:57.450099Z",
     "shell.execute_reply": "2022-04-14T03:52:57.449470Z"
    },
    "id": "C1W53kPcjv0A",
    "papermill": {
     "duration": 0.087372,
     "end_time": "2022-04-14T03:52:57.451610",
     "exception": false,
     "start_time": "2022-04-14T03:52:57.364238",
     "status": "completed"
    },
    "tags": []
   },
   "outputs": [],
   "source": [
    "X_train, X_test, y_train, y_test = train_test_split(X_temp, y_temp, test_size=0.2)"
   ]
  },
  {
   "cell_type": "code",
   "execution_count": 15,
   "id": "0e6443dc",
   "metadata": {
    "execution": {
     "iopub.execute_input": "2022-04-14T03:52:57.611354Z",
     "iopub.status.busy": "2022-04-14T03:52:57.610694Z",
     "iopub.status.idle": "2022-04-14T03:53:00.598373Z",
     "shell.execute_reply": "2022-04-14T03:53:00.597542Z"
    },
    "id": "Yva1YdtoeTwa",
    "outputId": "32c0e7f3-204c-42bb-aa95-305296955bcd",
    "papermill": {
     "duration": 3.074063,
     "end_time": "2022-04-14T03:53:00.604381",
     "exception": false,
     "start_time": "2022-04-14T03:52:57.530318",
     "status": "completed"
    },
    "tags": []
   },
   "outputs": [
    {
     "data": {
      "image/png": "[encoded data removed]",
      "text/plain": [
       "<Figure size 1440x2160 with 22 Axes>"
      ]
     },
     "metadata": {
      "needs_background": "light"
     },
     "output_type": "display_data"
    }
   ],
   "source": [
    "plt_name = [\"Country\",\"Year\",\"Status\",\"Life_expect\",\"Adult_Mortality\"\n",
    "                       ,\"infant_deaths\",\"Alcohol\",\"percentage_expenditure\",\"HepatitisB\",\"Measles\"\n",
    "                       ,\"BMI\",\"under_five_deaths\",\"Polio\",\"Total_expenditure\",\"Diphtheria\"\n",
    "                       ,\"HIV_AIDS\",\"GDP\",\"Population\",\"thinness_1-19_years\",\"thinness_5-9_years\"\n",
    "                       ,\"Income_composition_of_resources\",\"Schooling\"]\n",
    "plt.figure(figsize=(20,30))\n",
    "for i in range(0,22):\n",
    "  plt.subplot(8,3,i+1)\n",
    "  # plt.title(plt_name[i]+'vs Life Extendency')\n",
    "  plt.xlabel(plt_name[i])\n",
    "  plt.ylabel('Life Extendency')\n",
    "  plt.scatter(X_test[:,i],y_test,c=y_test,label='data')\n",
    "  # plt.scatter(X_test[:,i],y_pred,color='black',label = 'pred')\n",
    "plt.show()"
   ]
  },
  {
   "cell_type": "markdown",
   "id": "518d972a",
   "metadata": {
    "id": "Nx017KEHVfRm",
    "papermill": {
     "duration": 0.130491,
     "end_time": "2022-04-14T03:53:00.864711",
     "exception": false,
     "start_time": "2022-04-14T03:53:00.734220",
     "status": "completed"
    },
    "tags": []
   },
   "source": [
    "# Feature Relevant Score"
   ]
  },
  {
   "cell_type": "code",
   "execution_count": 16,
   "id": "804cf7ca",
   "metadata": {
    "execution": {
     "iopub.execute_input": "2022-04-14T03:53:01.130797Z",
     "iopub.status.busy": "2022-04-14T03:53:01.130300Z",
     "iopub.status.idle": "2022-04-14T03:53:02.094551Z",
     "shell.execute_reply": "2022-04-14T03:53:02.093421Z"
    },
    "id": "8oSkKagSqAyU",
    "outputId": "c4d9f421-ff15-4f07-e224-caa601240fb2",
    "papermill": {
     "duration": 1.099928,
     "end_time": "2022-04-14T03:53:02.097093",
     "exception": false,
     "start_time": "2022-04-14T03:53:00.997165",
     "status": "completed"
    },
    "tags": []
   },
   "outputs": [
    {
     "name": "stdout",
     "output_type": "stream",
     "text": [
      "Feature importance score:\n",
      "\n",
      "[0.03694366 0.05250863 0.0082493  0.23996173 0.06318006 0.03623978\n",
      " 0.03844501 0.04009069 0.034039   0.03041231 0.04444292 0.03894933\n",
      " 0.03324658 0.03786912 0.03365611 0.02460384 0.04099868 0.03388453\n",
      " 0.03644756 0.03761844 0.01247115 0.04574159]\n"
     ]
    },
    {
     "data": {
      "image/png": "[encoded data removed]",
      "text/plain": [
       "<Figure size 432x288 with 1 Axes>"
      ]
     },
     "metadata": {
      "needs_background": "light"
     },
     "output_type": "display_data"
    }
   ],
   "source": [
    "#____________________________________________SEE WHICH FEATURE IS MORE RELEVANT____________________________________________\n",
    "\n",
    "print('Feature importance score:')\n",
    "print('')\n",
    "\n",
    "X = df.iloc[:,0:22]         #columns\n",
    "y = df.iloc[:,3]            #target column\n",
    "\n",
    "from sklearn.ensemble import ExtraTreesClassifier\n",
    "import matplotlib.pyplot as plt\n",
    "model = ExtraTreesClassifier()\n",
    "model.fit(X,y)\n",
    "print(model.feature_importances_) \n",
    "feat_importances = pd.Series(model.feature_importances_, index=X.columns)\n",
    "feat_importances.nlargest(22).plot(kind='barh')\n",
    "plt.show()"
   ]
  },
  {
   "cell_type": "markdown",
   "id": "ac43e2d5",
   "metadata": {
    "id": "J9oRU0kdU-Hb",
    "papermill": {
     "duration": 0.134315,
     "end_time": "2022-04-14T03:53:02.363842",
     "exception": false,
     "start_time": "2022-04-14T03:53:02.229527",
     "status": "completed"
    },
    "tags": []
   },
   "source": [
    "# Fitness Score"
   ]
  },
  {
   "cell_type": "code",
   "execution_count": 17,
   "id": "4d7af0db",
   "metadata": {
    "execution": {
     "iopub.execute_input": "2022-04-14T03:53:02.629665Z",
     "iopub.status.busy": "2022-04-14T03:53:02.629369Z",
     "iopub.status.idle": "2022-04-14T03:53:02.671659Z",
     "shell.execute_reply": "2022-04-14T03:53:02.671041Z"
    },
    "id": "qhs5qiWcqAyU",
    "outputId": "a9a77009-04c5-4bc1-fafe-5d94767f23a5",
    "papermill": {
     "duration": 0.180112,
     "end_time": "2022-04-14T03:53:02.676067",
     "exception": false,
     "start_time": "2022-04-14T03:53:02.495955",
     "status": "completed"
    },
    "tags": []
   },
   "outputs": [
    {
     "name": "stdout",
     "output_type": "stream",
     "text": [
      "Feature fitness score:\n",
      "\n",
      "                            Feature         Score\n",
      "17                       Population  2.158103e+10\n",
      "16                              GDP  1.776961e+07\n",
      "9                           Measles  3.496988e+06\n",
      "7            percentage_expenditure  3.182847e+06\n",
      "11                under_five_deaths  8.446130e+04\n",
      "4                   Adult_Mortality  8.224754e+04\n",
      "5                     infant_deaths  5.775827e+04\n",
      "15                         HIV_AIDS  2.268890e+04\n",
      "10                              BMI  5.747871e+03\n",
      "0                           Country  2.370820e+03\n",
      "19               thinness_5-9_years  1.939629e+03\n",
      "6                           Alcohol  1.884580e+03\n",
      "18              thinness_1-19_years  1.867492e+03\n",
      "3                       Life_expect  1.842903e+03\n",
      "12                            Polio  1.462188e+03\n",
      "14                       Diphtheria  1.375944e+03\n",
      "8                        HepatitisB  1.137094e+03\n",
      "21                        Schooling  6.593116e+02\n",
      "2                            Status  5.443758e+02\n",
      "13                Total_expenditure  2.249093e+02\n",
      "20  Income_composition_of_resources  2.171469e+02\n",
      "1                              Year  2.189255e+00\n"
     ]
    }
   ],
   "source": [
    "#____________________________________________SEE WHICH FEATURE HAVE BEST FITNESS____________________________________________\n",
    "print('Feature fitness score:')\n",
    "print('')\n",
    "\n",
    "from sklearn.feature_selection import SelectKBest\n",
    "from sklearn.feature_selection import chi2\n",
    "\n",
    "X = df.iloc[:,0:22]            #columns\n",
    "y = df.iloc[:,3]               #target column\n",
    "\n",
    "bestfeatures = SelectKBest(score_func=chi2, k=22)\n",
    "fit = bestfeatures.fit(X,y)\n",
    "dfscores = pd.DataFrame(fit.scores_)\n",
    "dfcolumns = pd.DataFrame(X.columns)\n",
    "\n",
    "#connect both data\n",
    "featureScores = pd.concat([dfcolumns,dfscores],axis=1)\n",
    "featureScores.columns = ['Feature','Score']  \n",
    "print(featureScores.nlargest(22,'Score'))\n"
   ]
  },
  {
   "cell_type": "markdown",
   "id": "1a88122c",
   "metadata": {
    "id": "mJml2YOMsaK6",
    "papermill": {
     "duration": 0.133231,
     "end_time": "2022-04-14T03:53:02.959855",
     "exception": false,
     "start_time": "2022-04-14T03:53:02.826624",
     "status": "completed"
    },
    "tags": []
   },
   "source": [
    "Prepared data"
   ]
  },
  {
   "cell_type": "code",
   "execution_count": 18,
   "id": "7cf37e8c",
   "metadata": {
    "execution": {
     "iopub.execute_input": "2022-04-14T03:53:03.226244Z",
     "iopub.status.busy": "2022-04-14T03:53:03.225964Z",
     "iopub.status.idle": "2022-04-14T03:53:03.234511Z",
     "shell.execute_reply": "2022-04-14T03:53:03.233862Z"
    },
    "id": "Wi-ZkfP2sYWO",
    "papermill": {
     "duration": 0.144332,
     "end_time": "2022-04-14T03:53:03.236488",
     "exception": false,
     "start_time": "2022-04-14T03:53:03.092156",
     "status": "completed"
    },
    "tags": []
   },
   "outputs": [],
   "source": [
    "hf_X = df[['Status','Adult_Mortality','infant_deaths','percentage_expenditure','Measles','BMI','under_five_deaths','Total_expenditure','HIV_AIDS','GDP','Income_composition_of_resources','Schooling']]\n",
    "lf_X = df[[\"Country\",\"Year\",\"Status\",\"Adult_Mortality\"\n",
    "                       ,\"infant_deaths\",\"Alcohol\",\"percentage_expenditure\",\"HepatitisB\",\"Measles\"\n",
    "                       ,\"BMI\",\"under_five_deaths\",\"Polio\",\"Total_expenditure\",\"Diphtheria\"\n",
    "                       ,\"HIV_AIDS\",\"GDP\",\"Population\",\"thinness_1-19_years\",\"thinness_5-9_years\"\n",
    "                       ,\"Income_composition_of_resources\",\"Schooling\"]]\n",
    "\n",
    "yd = df.Life_expect\n",
    "\n",
    "\n",
    "hf_X = np.array(hf_X).reshape(-1,12)\n",
    "lf_X = np.array(lf_X).reshape(-1,21)\n",
    "yd = np.array(yd).reshape(-1,1)\n",
    "\n"
   ]
  },
  {
   "cell_type": "markdown",
   "id": "ccdf6138",
   "metadata": {
    "id": "iKQ0BRSVqMoI",
    "papermill": {
     "duration": 0.132271,
     "end_time": "2022-04-14T03:53:03.501144",
     "exception": false,
     "start_time": "2022-04-14T03:53:03.368873",
     "status": "completed"
    },
    "tags": []
   },
   "source": [
    "# Principal Component Analysis (PCA)\n",
    "Dimensionality Reduction"
   ]
  },
  {
   "cell_type": "code",
   "execution_count": 19,
   "id": "8698f637",
   "metadata": {
    "execution": {
     "iopub.execute_input": "2022-04-14T03:53:03.771531Z",
     "iopub.status.busy": "2022-04-14T03:53:03.771258Z",
     "iopub.status.idle": "2022-04-14T03:53:03.775094Z",
     "shell.execute_reply": "2022-04-14T03:53:03.774128Z"
    },
    "id": "cIo9B0plPa9p",
    "papermill": {
     "duration": 0.141378,
     "end_time": "2022-04-14T03:53:03.777191",
     "exception": false,
     "start_time": "2022-04-14T03:53:03.635813",
     "status": "completed"
    },
    "tags": []
   },
   "outputs": [],
   "source": [
    "from sklearn.decomposition import PCA"
   ]
  },
  {
   "cell_type": "code",
   "execution_count": 20,
   "id": "56b810dd",
   "metadata": {
    "execution": {
     "iopub.execute_input": "2022-04-14T03:53:04.046821Z",
     "iopub.status.busy": "2022-04-14T03:53:04.046167Z",
     "iopub.status.idle": "2022-04-14T03:53:04.050625Z",
     "shell.execute_reply": "2022-04-14T03:53:04.049500Z"
    },
    "id": "6rewUblDPdq2",
    "papermill": {
     "duration": 0.14127,
     "end_time": "2022-04-14T03:53:04.052454",
     "exception": false,
     "start_time": "2022-04-14T03:53:03.911184",
     "status": "completed"
    },
    "tags": []
   },
   "outputs": [],
   "source": [
    "X = hf_X\n",
    "y = yd\n"
   ]
  },
  {
   "cell_type": "code",
   "execution_count": 21,
   "id": "3f9e257d",
   "metadata": {
    "execution": {
     "iopub.execute_input": "2022-04-14T03:53:04.231419Z",
     "iopub.status.busy": "2022-04-14T03:53:04.230197Z",
     "iopub.status.idle": "2022-04-14T03:53:04.235929Z",
     "shell.execute_reply": "2022-04-14T03:53:04.235063Z"
    },
    "id": "ES70yMppfz5P",
    "papermill": {
     "duration": 0.097263,
     "end_time": "2022-04-14T03:53:04.238354",
     "exception": false,
     "start_time": "2022-04-14T03:53:04.141091",
     "status": "completed"
    },
    "tags": []
   },
   "outputs": [],
   "source": [
    "X = StandardScaler().fit_transform(X)"
   ]
  },
  {
   "cell_type": "code",
   "execution_count": 22,
   "id": "ec0f692c",
   "metadata": {
    "execution": {
     "iopub.execute_input": "2022-04-14T03:53:04.417791Z",
     "iopub.status.busy": "2022-04-14T03:53:04.417338Z",
     "iopub.status.idle": "2022-04-14T03:53:04.666288Z",
     "shell.execute_reply": "2022-04-14T03:53:04.665078Z"
    },
    "id": "G_9yWRk-Pft6",
    "outputId": "f1a02356-098d-4b24-d149-bce4fb2a0112",
    "papermill": {
     "duration": 0.34204,
     "end_time": "2022-04-14T03:53:04.668810",
     "exception": false,
     "start_time": "2022-04-14T03:53:04.326770",
     "status": "completed"
    },
    "tags": []
   },
   "outputs": [
    {
     "data": {
      "image/png": "[encoded data removed]",
      "text/plain": [
       "<Figure size 864x360 with 1 Axes>"
      ]
     },
     "metadata": {
      "needs_background": "light"
     },
     "output_type": "display_data"
    }
   ],
   "source": [
    "pca = PCA(n_components=2)\n",
    "pca.fit(X)\n",
    "X_PCA = pca.transform(X)\n",
    "\n",
    "plt.figure(figsize=(12,5))\n",
    "plt.title('Principal Component Relation graph 2D')\n",
    "plt.xlabel(\"Principal Component 1\")\n",
    "plt.xlabel(\"Principal Component 2\")\n",
    "plt.scatter(X_PCA[:,0],X_PCA[:,1],c = y,label='data')\n",
    "# plt.scatter(X_test[:,i],y_pred,color='black',label = 'pred')\n",
    "plt.show()"
   ]
  },
  {
   "cell_type": "code",
   "execution_count": 23,
   "id": "e2478866",
   "metadata": {
    "execution": {
     "iopub.execute_input": "2022-04-14T03:53:04.944776Z",
     "iopub.status.busy": "2022-04-14T03:53:04.944234Z",
     "iopub.status.idle": "2022-04-14T03:53:04.952725Z",
     "shell.execute_reply": "2022-04-14T03:53:04.950603Z"
    },
    "id": "6MCiJZ5M2Ks2",
    "outputId": "1340e894-6095-4497-f5bd-99acf1edd2a7",
    "papermill": {
     "duration": 0.147265,
     "end_time": "2022-04-14T03:53:04.955101",
     "exception": false,
     "start_time": "2022-04-14T03:53:04.807836",
     "status": "completed"
    },
    "tags": []
   },
   "outputs": [
    {
     "name": "stdout",
     "output_type": "stream",
     "text": [
      "[0.31907947 0.18914477]\n",
      "[[ 0.32211015 -0.29022951 -0.22290339  0.34610743 -0.14923631  0.33465263\n",
      "  -0.22847856  0.16175369 -0.1811508   0.36060224  0.30603742  0.4164091 ]\n",
      " [ 0.11783452 -0.19915442  0.56570613  0.1618389   0.43898908  0.00139086\n",
      "   0.55776714 -0.07515427 -0.16798706  0.16599707  0.16165038  0.09415976]]\n",
      "[-3.01625176e-17 -7.75607595e-17 -4.30893108e-18 -8.61786217e-18\n",
      " -4.30893108e-18  1.72357243e-17 -2.58535865e-17 -6.46339663e-17\n",
      "  4.30893108e-17  8.61786217e-18 -8.61786217e-17  1.55121519e-16]\n"
     ]
    }
   ],
   "source": [
    "print(pca.explained_variance_ratio_)\n",
    "print(pca.components_)\n",
    "print(pca.mean_)"
   ]
  },
  {
   "cell_type": "code",
   "execution_count": 24,
   "id": "fe1c035c",
   "metadata": {
    "execution": {
     "iopub.execute_input": "2022-04-14T03:53:05.137754Z",
     "iopub.status.busy": "2022-04-14T03:53:05.137263Z",
     "iopub.status.idle": "2022-04-14T03:53:05.470557Z",
     "shell.execute_reply": "2022-04-14T03:53:05.469572Z"
    },
    "id": "LVXw4Iysm_iC",
    "outputId": "6824e21a-86ef-45f0-cd95-d69aa2f2aa10",
    "papermill": {
     "duration": 0.425756,
     "end_time": "2022-04-14T03:53:05.472297",
     "exception": false,
     "start_time": "2022-04-14T03:53:05.046541",
     "status": "completed"
    },
    "tags": []
   },
   "outputs": [
    {
     "data": {
      "text/plain": [
       "<mpl_toolkits.mplot3d.art3d.Path3DCollection at 0x7f25f94b9e90>"
      ]
     },
     "execution_count": 24,
     "metadata": {},
     "output_type": "execute_result"
    },
    {
     "data": {
      "image/png": "[encoded data removed]",
      "text/plain": [
       "<Figure size 864x360 with 1 Axes>"
      ]
     },
     "metadata": {
      "needs_background": "light"
     },
     "output_type": "display_data"
    }
   ],
   "source": [
    "pca = PCA(n_components=3)\n",
    "pca.fit(X)\n",
    "X_PCA = pca.transform(X)\n",
    "\n",
    "plt.figure(figsize=(12,5))\n",
    "ax = plt.axes(projection='3d')\n",
    "plt.title('Principal Component Relation graph 3D')\n",
    "ax.set_xlabel(\"Principal Component 1\")\n",
    "ax.set_ylabel(\"Principal Component 2\")\n",
    "ax.set_zlabel(\"Principal Component 3\")\n",
    "ax.scatter3D(X_PCA[:,0], X_PCA[:,1], X_PCA[:,2], c=y)"
   ]
  },
  {
   "cell_type": "markdown",
   "id": "81422322",
   "metadata": {
    "id": "XAPKXSe2exkv",
    "papermill": {
     "duration": 0.092079,
     "end_time": "2022-04-14T03:53:05.657139",
     "exception": false,
     "start_time": "2022-04-14T03:53:05.565060",
     "status": "completed"
    },
    "tags": []
   },
   "source": [
    "# Linear Regression"
   ]
  },
  {
   "cell_type": "markdown",
   "id": "cc2ba93e",
   "metadata": {
    "id": "iXePBI4staAL",
    "papermill": {
     "duration": 0.091219,
     "end_time": "2022-04-14T03:53:05.840851",
     "exception": false,
     "start_time": "2022-04-14T03:53:05.749632",
     "status": "completed"
    },
    "tags": []
   },
   "source": [
    "high fitness"
   ]
  },
  {
   "cell_type": "code",
   "execution_count": 25,
   "id": "d24c7cf4",
   "metadata": {
    "execution": {
     "iopub.execute_input": "2022-04-14T03:53:06.061808Z",
     "iopub.status.busy": "2022-04-14T03:53:06.061472Z",
     "iopub.status.idle": "2022-04-14T03:53:06.067306Z",
     "shell.execute_reply": "2022-04-14T03:53:06.066545Z"
    },
    "id": "xHu-E8raW19N",
    "papermill": {
     "duration": 0.136332,
     "end_time": "2022-04-14T03:53:06.069299",
     "exception": false,
     "start_time": "2022-04-14T03:53:05.932967",
     "status": "completed"
    },
    "tags": []
   },
   "outputs": [],
   "source": [
    "X = hf_X\n",
    "y = yd\n",
    "\n",
    "X_train, X_test, y_train, y_test = train_test_split(X, y, test_size=0.2)"
   ]
  },
  {
   "cell_type": "code",
   "execution_count": 26,
   "id": "dbeb2456",
   "metadata": {
    "execution": {
     "iopub.execute_input": "2022-04-14T03:53:06.346220Z",
     "iopub.status.busy": "2022-04-14T03:53:06.345809Z",
     "iopub.status.idle": "2022-04-14T03:53:06.349983Z",
     "shell.execute_reply": "2022-04-14T03:53:06.349500Z"
    },
    "id": "euvvtF0wVQ89",
    "papermill": {
     "duration": 0.14409,
     "end_time": "2022-04-14T03:53:06.351780",
     "exception": false,
     "start_time": "2022-04-14T03:53:06.207690",
     "status": "completed"
    },
    "tags": []
   },
   "outputs": [],
   "source": [
    "temp_X_train = X_train\n",
    "scaler.fit(X_train)\n",
    "X_train = scaler.transform(X_train)\n",
    "X_test = scaler.transform(X_test)"
   ]
  },
  {
   "cell_type": "code",
   "execution_count": 27,
   "id": "a971cefb",
   "metadata": {
    "execution": {
     "iopub.execute_input": "2022-04-14T03:53:06.629831Z",
     "iopub.status.busy": "2022-04-14T03:53:06.629340Z",
     "iopub.status.idle": "2022-04-14T03:53:06.648987Z",
     "shell.execute_reply": "2022-04-14T03:53:06.648321Z"
    },
    "id": "X3UshfzRqAyV",
    "papermill": {
     "duration": 0.161557,
     "end_time": "2022-04-14T03:53:06.651494",
     "exception": false,
     "start_time": "2022-04-14T03:53:06.489937",
     "status": "completed"
    },
    "tags": []
   },
   "outputs": [],
   "source": [
    "#****Set Train****\n",
    "reg = LinearRegression()\n",
    "reg.fit(X_train,y_train)\n",
    "y_pred = reg.predict(X_test)"
   ]
  },
  {
   "cell_type": "code",
   "execution_count": 28,
   "id": "d1dd99e0",
   "metadata": {
    "execution": {
     "iopub.execute_input": "2022-04-14T03:53:06.950439Z",
     "iopub.status.busy": "2022-04-14T03:53:06.949940Z",
     "iopub.status.idle": "2022-04-14T03:53:06.957899Z",
     "shell.execute_reply": "2022-04-14T03:53:06.956880Z"
    },
    "id": "o_UsFfBrUkN1",
    "outputId": "4e267dc8-fc71-49fb-bc1c-35ed79ff0139",
    "papermill": {
     "duration": 0.152931,
     "end_time": "2022-04-14T03:53:06.960526",
     "exception": false,
     "start_time": "2022-04-14T03:53:06.807595",
     "status": "completed"
    },
    "tags": []
   },
   "outputs": [
    {
     "name": "stdout",
     "output_type": "stream",
     "text": [
      "This is regration accuracy score:\n"
     ]
    },
    {
     "data": {
      "text/plain": [
       "0.7667006948432299"
      ]
     },
     "execution_count": 28,
     "metadata": {},
     "output_type": "execute_result"
    }
   ],
   "source": [
    "print('This is regration accuracy score:')\n",
    "r2_score(y_pred, y_test)"
   ]
  },
  {
   "cell_type": "code",
   "execution_count": 29,
   "id": "b2281adb",
   "metadata": {
    "execution": {
     "iopub.execute_input": "2022-04-14T03:53:07.242835Z",
     "iopub.status.busy": "2022-04-14T03:53:07.242267Z",
     "iopub.status.idle": "2022-04-14T03:53:07.252843Z",
     "shell.execute_reply": "2022-04-14T03:53:07.252356Z"
    },
    "id": "DdXAFHBrQE31",
    "papermill": {
     "duration": 0.155258,
     "end_time": "2022-04-14T03:53:07.254951",
     "exception": false,
     "start_time": "2022-04-14T03:53:07.099693",
     "status": "completed"
    },
    "tags": []
   },
   "outputs": [],
   "source": [
    "scores = cross_val_score(reg, X_test, y_test, cv=5,scoring= 'r2')"
   ]
  },
  {
   "cell_type": "code",
   "execution_count": 30,
   "id": "be204bf2",
   "metadata": {
    "execution": {
     "iopub.execute_input": "2022-04-14T03:53:07.444193Z",
     "iopub.status.busy": "2022-04-14T03:53:07.443722Z",
     "iopub.status.idle": "2022-04-14T03:53:07.448632Z",
     "shell.execute_reply": "2022-04-14T03:53:07.448137Z"
    },
    "id": "WFdf8N5FQE32",
    "outputId": "0028a0de-0b29-4683-aae7-c568e321d5a4",
    "papermill": {
     "duration": 0.101256,
     "end_time": "2022-04-14T03:53:07.450144",
     "exception": false,
     "start_time": "2022-04-14T03:53:07.348888",
     "status": "completed"
    },
    "tags": []
   },
   "outputs": [
    {
     "data": {
      "text/plain": [
       "array([0.79688098, 0.72040945, 0.78475367, 0.77351861, 0.85454246])"
      ]
     },
     "execution_count": 30,
     "metadata": {},
     "output_type": "execute_result"
    }
   ],
   "source": [
    "scores"
   ]
  },
  {
   "cell_type": "code",
   "execution_count": 31,
   "id": "15ebe985",
   "metadata": {
    "execution": {
     "iopub.execute_input": "2022-04-14T03:53:07.640601Z",
     "iopub.status.busy": "2022-04-14T03:53:07.640086Z",
     "iopub.status.idle": "2022-04-14T03:53:07.645355Z",
     "shell.execute_reply": "2022-04-14T03:53:07.644484Z"
    },
    "id": "1JsQtS0qQE32",
    "outputId": "7365a215-8af0-44a9-91bf-a8c12bfb8b15",
    "papermill": {
     "duration": 0.103646,
     "end_time": "2022-04-14T03:53:07.647090",
     "exception": false,
     "start_time": "2022-04-14T03:53:07.543444",
     "status": "completed"
    },
    "tags": []
   },
   "outputs": [
    {
     "name": "stdout",
     "output_type": "stream",
     "text": [
      "0.79 r2 accuracy with a standard deviation of 0.04\n"
     ]
    }
   ],
   "source": [
    "print(\"%0.2f r2 accuracy with a standard deviation of %0.2f\" % (scores.mean(), scores.std()))\n"
   ]
  },
  {
   "cell_type": "code",
   "execution_count": 32,
   "id": "50911eae",
   "metadata": {
    "execution": {
     "iopub.execute_input": "2022-04-14T03:53:07.838814Z",
     "iopub.status.busy": "2022-04-14T03:53:07.838438Z",
     "iopub.status.idle": "2022-04-14T03:53:07.854300Z",
     "shell.execute_reply": "2022-04-14T03:53:07.853646Z"
    },
    "id": "SJih3klZqAyW",
    "papermill": {
     "duration": 0.115055,
     "end_time": "2022-04-14T03:53:07.857163",
     "exception": false,
     "start_time": "2022-04-14T03:53:07.742108",
     "status": "completed"
    },
    "tags": []
   },
   "outputs": [],
   "source": [
    "#____________________________________________Display Data in Lineat Regression____________________________________________\n",
    "pca = PCA(n_components=1)\n",
    "pca.fit(X)\n",
    "X_PCA = pca.transform(X_train)\n",
    "X_test_PCA = pca.transform(X_test)"
   ]
  },
  {
   "cell_type": "code",
   "execution_count": 33,
   "id": "65b78409",
   "metadata": {
    "execution": {
     "iopub.execute_input": "2022-04-14T03:53:08.120735Z",
     "iopub.status.busy": "2022-04-14T03:53:08.120423Z",
     "iopub.status.idle": "2022-04-14T03:53:08.359801Z",
     "shell.execute_reply": "2022-04-14T03:53:08.358364Z"
    },
    "id": "P51zf7YE49il",
    "outputId": "b3afa1a6-b420-47f9-d746-97735610b61e",
    "papermill": {
     "duration": 0.335388,
     "end_time": "2022-04-14T03:53:08.361684",
     "exception": false,
     "start_time": "2022-04-14T03:53:08.026296",
     "status": "completed"
    },
    "tags": []
   },
   "outputs": [
    {
     "data": {
      "image/png": "[encoded data removed]",
      "text/plain": [
       "<Figure size 720x360 with 1 Axes>"
      ]
     },
     "metadata": {
      "needs_background": "light"
     },
     "output_type": "display_data"
    }
   ],
   "source": [
    "plt.figure(figsize=(10,5))\n",
    "plt.scatter(X_PCA,y_train,c=y_train,label='data')\n",
    "\n",
    "X_test_PCA = np.array(X_test_PCA).reshape(-1)\n",
    "m, b = np.polyfit(X_test_PCA, y_pred, 1)\n",
    "plt.plot(X_test_PCA, m*X_test_PCA + b)\n",
    "# plt.plot(X_test_PCA,y_pred,color='black',label = 'pred')\n",
    "plt.legend()\n",
    "plt.show()"
   ]
  },
  {
   "cell_type": "code",
   "execution_count": 34,
   "id": "1479d194",
   "metadata": {
    "execution": {
     "iopub.execute_input": "2022-04-14T03:53:08.556307Z",
     "iopub.status.busy": "2022-04-14T03:53:08.555940Z",
     "iopub.status.idle": "2022-04-14T03:53:08.565254Z",
     "shell.execute_reply": "2022-04-14T03:53:08.563706Z"
    },
    "id": "rMqU-zRVqAyW",
    "outputId": "9bb3e919-d623-44a9-f143-ba92ab3c9269",
    "papermill": {
     "duration": 0.108605,
     "end_time": "2022-04-14T03:53:08.566996",
     "exception": false,
     "start_time": "2022-04-14T03:53:08.458391",
     "status": "completed"
    },
    "tags": []
   },
   "outputs": [
    {
     "name": "stdout",
     "output_type": "stream",
     "text": [
      "Prediction of life expectancy:\n",
      "[[64.49514424]]\n"
     ]
    }
   ],
   "source": [
    "#____________________________________________Linear Regration Predict 01____________________________________________\n",
    "print('Prediction of life expectancy:')\n",
    "temp_data = [[0,263,62,71.27962,1154,19.1,83,8.16,0.1,584.2592,0.479,10.1]]\n",
    "scaler.fit(temp_X_train)\n",
    "temp_data = scaler.transform(temp_data)\n",
    "abc = reg.predict(temp_data)\n",
    "print(abc)\n",
    "#the correct life expectancy is 65"
   ]
  },
  {
   "cell_type": "code",
   "execution_count": 35,
   "id": "24f0b5ae",
   "metadata": {
    "execution": {
     "iopub.execute_input": "2022-04-14T03:53:08.759628Z",
     "iopub.status.busy": "2022-04-14T03:53:08.758942Z",
     "iopub.status.idle": "2022-04-14T03:53:08.768548Z",
     "shell.execute_reply": "2022-04-14T03:53:08.766907Z"
    },
    "id": "CXcFihRgqAyX",
    "outputId": "98f1d43c-d5f2-4978-aaea-f79bd758400c",
    "papermill": {
     "duration": 0.10814,
     "end_time": "2022-04-14T03:53:08.770368",
     "exception": false,
     "start_time": "2022-04-14T03:53:08.662228",
     "status": "completed"
    },
    "tags": []
   },
   "outputs": [
    {
     "name": "stdout",
     "output_type": "stream",
     "text": [
      "Prediction of life expectancy:\n",
      "[[62.88453791]]\n"
     ]
    }
   ],
   "source": [
    "#____________________________________________Linear Regration Predict 02____________________________________________\n",
    "print('Prediction of life expectancy:')\n",
    "temp_data = [[0,281,77,56.76221682,2861,16.2,106,9.42,0.1,445.8932979,0.434,8.9]]\n",
    "scaler.fit(temp_X_train)\n",
    "temp_data = scaler.transform(temp_data)\n",
    "abc = reg.predict(temp_data)\n",
    "print(abc)\n",
    "#the correct life expectancy is 58.6"
   ]
  },
  {
   "cell_type": "code",
   "execution_count": 36,
   "id": "df149fac",
   "metadata": {
    "execution": {
     "iopub.execute_input": "2022-04-14T03:53:08.961184Z",
     "iopub.status.busy": "2022-04-14T03:53:08.960837Z",
     "iopub.status.idle": "2022-04-14T03:53:08.969373Z",
     "shell.execute_reply": "2022-04-14T03:53:08.968138Z"
    },
    "id": "Dsp-p-fZqAyX",
    "outputId": "62758aeb-d08e-40c6-9711-dd7b3eac7960",
    "papermill": {
     "duration": 0.106391,
     "end_time": "2022-04-14T03:53:08.971127",
     "exception": false,
     "start_time": "2022-04-14T03:53:08.864736",
     "status": "completed"
    },
    "tags": []
   },
   "outputs": [
    {
     "name": "stdout",
     "output_type": "stream",
     "text": [
      "Prediction of life expectancy:\n",
      "[[60.05126725]]\n"
     ]
    }
   ],
   "source": [
    "#____________________________________________Linear Regration Predict 03____________________________________________\n",
    "print('Prediction of life expectancy:')\n",
    "temp_data = [[0,295,87,11.08905273,798,13.4,122,8.82,0.1,198.7285436,0.373,6.5]]\n",
    "scaler.fit(temp_X_train)\n",
    "abc =reg.predict(temp_data)\n",
    "temp_data = scaler.transform(temp_data)\n",
    "abc = reg.predict(temp_data)\n",
    "print(abc)\n",
    "#the correct life expectancy is 56.7"
   ]
  },
  {
   "cell_type": "markdown",
   "id": "30f2a02f",
   "metadata": {
    "id": "BBXBqacofAZr",
    "papermill": {
     "duration": 0.096397,
     "end_time": "2022-04-14T03:53:09.163477",
     "exception": false,
     "start_time": "2022-04-14T03:53:09.067080",
     "status": "completed"
    },
    "tags": []
   },
   "source": [
    "Low fitness"
   ]
  },
  {
   "cell_type": "code",
   "execution_count": 37,
   "id": "f4a511eb",
   "metadata": {
    "execution": {
     "iopub.execute_input": "2022-04-14T03:53:09.358739Z",
     "iopub.status.busy": "2022-04-14T03:53:09.358428Z",
     "iopub.status.idle": "2022-04-14T03:53:09.363695Z",
     "shell.execute_reply": "2022-04-14T03:53:09.363073Z"
    },
    "id": "5oWhE7aYe_yZ",
    "papermill": {
     "duration": 0.105654,
     "end_time": "2022-04-14T03:53:09.365211",
     "exception": false,
     "start_time": "2022-04-14T03:53:09.259557",
     "status": "completed"
    },
    "tags": []
   },
   "outputs": [],
   "source": [
    "X = lf_X\n",
    "y = yd\n",
    "\n",
    "X_train, X_test, y_train, y_test = train_test_split(X, y, test_size=0.2)\n"
   ]
  },
  {
   "cell_type": "code",
   "execution_count": 38,
   "id": "0015ccf3",
   "metadata": {
    "execution": {
     "iopub.execute_input": "2022-04-14T03:53:09.558047Z",
     "iopub.status.busy": "2022-04-14T03:53:09.557271Z",
     "iopub.status.idle": "2022-04-14T03:53:09.562406Z",
     "shell.execute_reply": "2022-04-14T03:53:09.561819Z"
    },
    "id": "bVNBa5w2Gg6d",
    "papermill": {
     "duration": 0.103927,
     "end_time": "2022-04-14T03:53:09.563920",
     "exception": false,
     "start_time": "2022-04-14T03:53:09.459993",
     "status": "completed"
    },
    "tags": []
   },
   "outputs": [],
   "source": [
    "#Normalization\n",
    "temp_X_train = X_train\n",
    "scaler.fit(X_train)\n",
    "X_train = scaler.transform(X_train)\n",
    "X_test = scaler.transform(X_test)"
   ]
  },
  {
   "cell_type": "code",
   "execution_count": 39,
   "id": "2b1eada7",
   "metadata": {
    "execution": {
     "iopub.execute_input": "2022-04-14T03:53:09.757425Z",
     "iopub.status.busy": "2022-04-14T03:53:09.756468Z",
     "iopub.status.idle": "2022-04-14T03:53:09.763341Z",
     "shell.execute_reply": "2022-04-14T03:53:09.762734Z"
    },
    "id": "JfoTFiBXfF3Z",
    "papermill": {
     "duration": 0.105938,
     "end_time": "2022-04-14T03:53:09.765723",
     "exception": false,
     "start_time": "2022-04-14T03:53:09.659785",
     "status": "completed"
    },
    "tags": []
   },
   "outputs": [],
   "source": [
    "#****Set Train****\n",
    "reg = LinearRegression()\n",
    "reg.fit(X_train,y_train)\n",
    "y_pred = reg.predict(X_test)"
   ]
  },
  {
   "cell_type": "code",
   "execution_count": 40,
   "id": "bdab1021",
   "metadata": {
    "execution": {
     "iopub.execute_input": "2022-04-14T03:53:09.987394Z",
     "iopub.status.busy": "2022-04-14T03:53:09.987155Z",
     "iopub.status.idle": "2022-04-14T03:53:09.992630Z",
     "shell.execute_reply": "2022-04-14T03:53:09.992144Z"
    },
    "id": "onnb9MLvfGZZ",
    "outputId": "05d5fbd6-fc46-4d9e-e9f3-4f9f645059a1",
    "papermill": {
     "duration": 0.107578,
     "end_time": "2022-04-14T03:53:09.996974",
     "exception": false,
     "start_time": "2022-04-14T03:53:09.889396",
     "status": "completed"
    },
    "tags": []
   },
   "outputs": [
    {
     "name": "stdout",
     "output_type": "stream",
     "text": [
      "This is regration accuracy score:\n"
     ]
    },
    {
     "data": {
      "text/plain": [
       "0.7849463100626917"
      ]
     },
     "execution_count": 40,
     "metadata": {},
     "output_type": "execute_result"
    }
   ],
   "source": [
    "#____________________________________________SEE THE ACCURACY SCORE____________________________________________\n",
    "print('This is regration accuracy score:')\n",
    "r2_score(y_pred, y_test)"
   ]
  },
  {
   "cell_type": "code",
   "execution_count": 41,
   "id": "b566c1ad",
   "metadata": {
    "execution": {
     "iopub.execute_input": "2022-04-14T03:53:10.285093Z",
     "iopub.status.busy": "2022-04-14T03:53:10.284665Z",
     "iopub.status.idle": "2022-04-14T03:53:10.294850Z",
     "shell.execute_reply": "2022-04-14T03:53:10.294395Z"
    },
    "id": "u-2fGAR5PmJS",
    "papermill": {
     "duration": 0.155762,
     "end_time": "2022-04-14T03:53:10.296760",
     "exception": false,
     "start_time": "2022-04-14T03:53:10.140998",
     "status": "completed"
    },
    "tags": []
   },
   "outputs": [],
   "source": [
    "scores = cross_val_score(reg, X_test, y_test, cv=5,scoring= 'r2')"
   ]
  },
  {
   "cell_type": "code",
   "execution_count": 42,
   "id": "5b91f979",
   "metadata": {
    "execution": {
     "iopub.execute_input": "2022-04-14T03:53:10.586465Z",
     "iopub.status.busy": "2022-04-14T03:53:10.586060Z",
     "iopub.status.idle": "2022-04-14T03:53:10.590297Z",
     "shell.execute_reply": "2022-04-14T03:53:10.589849Z"
    },
    "id": "_W0kf6v7PmJT",
    "outputId": "36a61908-5603-49ec-a922-951d0f28f9a0",
    "papermill": {
     "duration": 0.152923,
     "end_time": "2022-04-14T03:53:10.593003",
     "exception": false,
     "start_time": "2022-04-14T03:53:10.440080",
     "status": "completed"
    },
    "tags": []
   },
   "outputs": [
    {
     "data": {
      "text/plain": [
       "array([0.77081908, 0.73994502, 0.78346844, 0.84092541, 0.7651394 ])"
      ]
     },
     "execution_count": 42,
     "metadata": {},
     "output_type": "execute_result"
    }
   ],
   "source": [
    "scores"
   ]
  },
  {
   "cell_type": "code",
   "execution_count": 43,
   "id": "008aced0",
   "metadata": {
    "execution": {
     "iopub.execute_input": "2022-04-14T03:53:10.895369Z",
     "iopub.status.busy": "2022-04-14T03:53:10.894934Z",
     "iopub.status.idle": "2022-04-14T03:53:10.900861Z",
     "shell.execute_reply": "2022-04-14T03:53:10.899976Z"
    },
    "id": "LITOHxQFPmJT",
    "outputId": "db8a36d4-44da-4b3c-e630-b1b6aa98580b",
    "papermill": {
     "duration": 0.165752,
     "end_time": "2022-04-14T03:53:10.905964",
     "exception": false,
     "start_time": "2022-04-14T03:53:10.740212",
     "status": "completed"
    },
    "tags": []
   },
   "outputs": [
    {
     "name": "stdout",
     "output_type": "stream",
     "text": [
      "0.78 r2 accuracy with a standard deviation of 0.03\n"
     ]
    }
   ],
   "source": [
    "print(\"%0.2f r2 accuracy with a standard deviation of %0.2f\" % (scores.mean(), scores.std()))\n"
   ]
  },
  {
   "cell_type": "code",
   "execution_count": 44,
   "id": "571e2bc6",
   "metadata": {
    "execution": {
     "iopub.execute_input": "2022-04-14T03:53:11.205325Z",
     "iopub.status.busy": "2022-04-14T03:53:11.205057Z",
     "iopub.status.idle": "2022-04-14T03:53:11.242369Z",
     "shell.execute_reply": "2022-04-14T03:53:11.241274Z"
    },
    "id": "kdYSMOmnFVLt",
    "papermill": {
     "duration": 0.18563,
     "end_time": "2022-04-14T03:53:11.244955",
     "exception": false,
     "start_time": "2022-04-14T03:53:11.059325",
     "status": "completed"
    },
    "tags": []
   },
   "outputs": [],
   "source": [
    "\n",
    "pca = PCA(n_components=1)\n",
    "pca.fit(X)\n",
    "X_PCA = pca.transform(X_train)\n",
    "X_test_PCA = pca.transform(X_test)"
   ]
  },
  {
   "cell_type": "code",
   "execution_count": 45,
   "id": "e5bda74e",
   "metadata": {
    "execution": {
     "iopub.execute_input": "2022-04-14T03:53:11.600259Z",
     "iopub.status.busy": "2022-04-14T03:53:11.599975Z",
     "iopub.status.idle": "2022-04-14T03:53:11.788222Z",
     "shell.execute_reply": "2022-04-14T03:53:11.786936Z"
    },
    "id": "BSGpMzzzFYFU",
    "outputId": "28448aad-fd8c-4680-88fa-97e81fc4cdb3",
    "papermill": {
     "duration": 0.339521,
     "end_time": "2022-04-14T03:53:11.790736",
     "exception": false,
     "start_time": "2022-04-14T03:53:11.451215",
     "status": "completed"
    },
    "tags": []
   },
   "outputs": [
    {
     "data": {
      "image/png": "[encoded data removed]",
      "text/plain": [
       "<Figure size 720x360 with 1 Axes>"
      ]
     },
     "metadata": {
      "needs_background": "light"
     },
     "output_type": "display_data"
    }
   ],
   "source": [
    "plt.figure(figsize=(10,5))\n",
    "plt.scatter(X_PCA,y_train,c=y_train,label='data')\n",
    "\n",
    "X_test_PCA = np.array(X_test_PCA).reshape(-1)\n",
    "m, b = np.polyfit(X_test_PCA, y_pred, 1)\n",
    "plt.plot(X_test_PCA, m*X_test_PCA + b)\n",
    "# plt.plot(X_test_PCA,y_pred,color='black',label = 'pred')\n",
    "plt.legend()\n",
    "plt.show()"
   ]
  },
  {
   "cell_type": "code",
   "execution_count": 46,
   "id": "7f654d84",
   "metadata": {
    "execution": {
     "iopub.execute_input": "2022-04-14T03:53:12.091354Z",
     "iopub.status.busy": "2022-04-14T03:53:12.090774Z",
     "iopub.status.idle": "2022-04-14T03:53:12.098815Z",
     "shell.execute_reply": "2022-04-14T03:53:12.096904Z"
    },
    "id": "W3UGKLs9wDb9",
    "outputId": "affa75a6-68c1-48ac-e97e-51a27f23c0b9",
    "papermill": {
     "duration": 0.161589,
     "end_time": "2022-04-14T03:53:12.101060",
     "exception": false,
     "start_time": "2022-04-14T03:53:11.939471",
     "status": "completed"
    },
    "tags": []
   },
   "outputs": [
    {
     "name": "stdout",
     "output_type": "stream",
     "text": [
      "Prediction of life expectancy:\n",
      "[[63.24171156]]\n"
     ]
    }
   ],
   "source": [
    "print('Prediction of life expectancy:')\n",
    "temp_data = [[0,2015,0,263,62,0.01,71.27962362,65,1154,19.1,83,6,8.16,65,0.1,584.25921,33736494,17.2,17.3,0.479,10.1]]\n",
    "scaler.fit(temp_X_train)\n",
    "temp_data = scaler.transform(temp_data)\n",
    "abc = reg.predict(temp_data)\n",
    "print(abc)\n",
    "# the correct life expectancy is 65"
   ]
  },
  {
   "cell_type": "code",
   "execution_count": 47,
   "id": "18244277",
   "metadata": {
    "execution": {
     "iopub.execute_input": "2022-04-14T03:53:12.299796Z",
     "iopub.status.busy": "2022-04-14T03:53:12.299448Z",
     "iopub.status.idle": "2022-04-14T03:53:12.310027Z",
     "shell.execute_reply": "2022-04-14T03:53:12.309233Z"
    },
    "id": "DjZAxHqh6EEi",
    "outputId": "1960f52e-29f8-4f99-f4fd-230c291b0cd1",
    "papermill": {
     "duration": 0.112233,
     "end_time": "2022-04-14T03:53:12.311614",
     "exception": false,
     "start_time": "2022-04-14T03:53:12.199381",
     "status": "completed"
    },
    "tags": []
   },
   "outputs": [
    {
     "name": "stdout",
     "output_type": "stream",
     "text": [
      "Prediction of life expectancy:\n",
      "[[62.09791116]]\n"
     ]
    }
   ],
   "source": [
    "#____________________________________________Linear Regration Predict 02____________________________________________\n",
    "print('Prediction of life expectancy:')\n",
    "temp_data = [[0,2009,0,281,77,0.01,56.76221682,63,2861,16.2,106,63,9.42,63,0.1,445.8932979,284331,18.6,18.7,0.434,8.9]]\n",
    "scaler.fit(temp_X_train)\n",
    "temp_data = scaler.transform(temp_data)\n",
    "abc = reg.predict(temp_data)\n",
    "print(abc)\n",
    "#the correct life expectancy is 58.6"
   ]
  },
  {
   "cell_type": "code",
   "execution_count": 48,
   "id": "99ab0f74",
   "metadata": {
    "execution": {
     "iopub.execute_input": "2022-04-14T03:53:12.509561Z",
     "iopub.status.busy": "2022-04-14T03:53:12.508882Z",
     "iopub.status.idle": "2022-04-14T03:53:12.517073Z",
     "shell.execute_reply": "2022-04-14T03:53:12.515830Z"
    },
    "id": "_e-U_CHW6FX7",
    "outputId": "4443f784-d20f-46a7-b12c-408665cce108",
    "papermill": {
     "duration": 0.108376,
     "end_time": "2022-04-14T03:53:12.518722",
     "exception": false,
     "start_time": "2022-04-14T03:53:12.410346",
     "status": "completed"
    },
    "tags": []
   },
   "outputs": [
    {
     "name": "stdout",
     "output_type": "stream",
     "text": [
      "Prediction of life expectancy:\n",
      "[[58.98071447]]\n"
     ]
    }
   ],
   "source": [
    "#____________________________________________Linear Regration Predict 03____________________________________________\n",
    "print('Prediction of life expectancy:')\n",
    "temp_data = [[0,2003,0,295,87,0.01,11.08905273,65,798,13.4,122,41,8.82,41,0.1,198.7285436,2364851,19.7,19.9,0.373,6.5]]\n",
    "scaler.fit(temp_X_train)\n",
    "abc =reg.predict(temp_data)\n",
    "temp_data = scaler.transform(temp_data)\n",
    "abc = reg.predict(temp_data)\n",
    "print(abc)\n",
    "#the correct life expectancy is 56.7"
   ]
  },
  {
   "cell_type": "markdown",
   "id": "27a671f8",
   "metadata": {
    "id": "rw6mqkPHtee6",
    "papermill": {
     "duration": 0.099132,
     "end_time": "2022-04-14T03:53:12.714674",
     "exception": false,
     "start_time": "2022-04-14T03:53:12.615542",
     "status": "completed"
    },
    "tags": []
   },
   "source": [
    "# SVR"
   ]
  },
  {
   "cell_type": "code",
   "execution_count": 49,
   "id": "f735e1f0",
   "metadata": {
    "execution": {
     "iopub.execute_input": "2022-04-14T03:53:12.917929Z",
     "iopub.status.busy": "2022-04-14T03:53:12.917397Z",
     "iopub.status.idle": "2022-04-14T03:53:12.920993Z",
     "shell.execute_reply": "2022-04-14T03:53:12.920416Z"
    },
    "id": "WXCC3Q3cqAyR",
    "papermill": {
     "duration": 0.10791,
     "end_time": "2022-04-14T03:53:12.923088",
     "exception": false,
     "start_time": "2022-04-14T03:53:12.815178",
     "status": "completed"
    },
    "tags": []
   },
   "outputs": [],
   "source": [
    "from sklearn.svm import SVR #SVR for Regression, SVC for Classicif"
   ]
  },
  {
   "cell_type": "code",
   "execution_count": 50,
   "id": "35775caf",
   "metadata": {
    "execution": {
     "iopub.execute_input": "2022-04-14T03:53:13.126233Z",
     "iopub.status.busy": "2022-04-14T03:53:13.125665Z",
     "iopub.status.idle": "2022-04-14T03:53:13.132359Z",
     "shell.execute_reply": "2022-04-14T03:53:13.131309Z"
    },
    "id": "Hi5jnyLAtf4q",
    "papermill": {
     "duration": 0.109978,
     "end_time": "2022-04-14T03:53:13.134521",
     "exception": false,
     "start_time": "2022-04-14T03:53:13.024543",
     "status": "completed"
    },
    "tags": []
   },
   "outputs": [],
   "source": [
    "X = hf_X\n",
    "y = df.Life_expect\n",
    "\n",
    "X_train, X_test, y_train, y_test = train_test_split(X, y, test_size=0.2)\n",
    "# temp_X_train= X_train\n"
   ]
  },
  {
   "cell_type": "code",
   "execution_count": 51,
   "id": "a9b138ab",
   "metadata": {
    "execution": {
     "iopub.execute_input": "2022-04-14T03:53:13.335531Z",
     "iopub.status.busy": "2022-04-14T03:53:13.334605Z",
     "iopub.status.idle": "2022-04-14T03:53:13.340680Z",
     "shell.execute_reply": "2022-04-14T03:53:13.340060Z"
    },
    "id": "KZRLXWIdfbLO",
    "papermill": {
     "duration": 0.10941,
     "end_time": "2022-04-14T03:53:13.342795",
     "exception": false,
     "start_time": "2022-04-14T03:53:13.233385",
     "status": "completed"
    },
    "tags": []
   },
   "outputs": [],
   "source": [
    "#Normalization\n",
    "temp_X_train = X_train\n",
    "scaler.fit(X_train)\n",
    "X_train = scaler.transform(X_train)\n",
    "X_test = scaler.transform(X_test)"
   ]
  },
  {
   "cell_type": "code",
   "execution_count": 52,
   "id": "ba36f064",
   "metadata": {
    "execution": {
     "iopub.execute_input": "2022-04-14T03:53:13.545336Z",
     "iopub.status.busy": "2022-04-14T03:53:13.544922Z",
     "iopub.status.idle": "2022-04-14T03:53:13.803909Z",
     "shell.execute_reply": "2022-04-14T03:53:13.803228Z"
    },
    "id": "Rc8GGyFRPxNC",
    "papermill": {
     "duration": 0.362577,
     "end_time": "2022-04-14T03:53:13.806034",
     "exception": false,
     "start_time": "2022-04-14T03:53:13.443457",
     "status": "completed"
    },
    "tags": []
   },
   "outputs": [],
   "source": [
    "reg = SVR()\n",
    "reg.fit(X_train, y_train)\n",
    "y_pred = reg.predict(X_test)"
   ]
  },
  {
   "cell_type": "code",
   "execution_count": 53,
   "id": "792c22a6",
   "metadata": {
    "execution": {
     "iopub.execute_input": "2022-04-14T03:53:14.005724Z",
     "iopub.status.busy": "2022-04-14T03:53:14.005159Z",
     "iopub.status.idle": "2022-04-14T03:53:14.011749Z",
     "shell.execute_reply": "2022-04-14T03:53:14.010761Z"
    },
    "id": "SUsYTT89D50c",
    "outputId": "4de30220-c20c-4e54-989b-867c4d2a5855",
    "papermill": {
     "duration": 0.107167,
     "end_time": "2022-04-14T03:53:14.013412",
     "exception": false,
     "start_time": "2022-04-14T03:53:13.906245",
     "status": "completed"
    },
    "tags": []
   },
   "outputs": [
    {
     "data": {
      "text/plain": [
       "0.8454356822445148"
      ]
     },
     "execution_count": 53,
     "metadata": {},
     "output_type": "execute_result"
    }
   ],
   "source": [
    "r2_score(y_test, y_pred)"
   ]
  },
  {
   "cell_type": "code",
   "execution_count": 54,
   "id": "f9bd525e",
   "metadata": {
    "execution": {
     "iopub.execute_input": "2022-04-14T03:53:14.214149Z",
     "iopub.status.busy": "2022-04-14T03:53:14.213660Z",
     "iopub.status.idle": "2022-04-14T03:53:14.278997Z",
     "shell.execute_reply": "2022-04-14T03:53:14.278294Z"
    },
    "id": "uCJAR3zuJ9XS",
    "papermill": {
     "duration": 0.16795,
     "end_time": "2022-04-14T03:53:14.281136",
     "exception": false,
     "start_time": "2022-04-14T03:53:14.113186",
     "status": "completed"
    },
    "tags": []
   },
   "outputs": [],
   "source": [
    "scores = cross_val_score(reg, X_test, y_test, cv=5,scoring= 'r2')"
   ]
  },
  {
   "cell_type": "code",
   "execution_count": 55,
   "id": "2c078ae7",
   "metadata": {
    "execution": {
     "iopub.execute_input": "2022-04-14T03:53:14.479682Z",
     "iopub.status.busy": "2022-04-14T03:53:14.479113Z",
     "iopub.status.idle": "2022-04-14T03:53:14.484494Z",
     "shell.execute_reply": "2022-04-14T03:53:14.483942Z"
    },
    "id": "ECP7EKvIPAA2",
    "outputId": "72253366-8572-430a-be2a-356ac1dca5cb",
    "papermill": {
     "duration": 0.10729,
     "end_time": "2022-04-14T03:53:14.486037",
     "exception": false,
     "start_time": "2022-04-14T03:53:14.378747",
     "status": "completed"
    },
    "tags": []
   },
   "outputs": [
    {
     "data": {
      "text/plain": [
       "array([0.73570637, 0.72296185, 0.71729491, 0.66394364, 0.75554708])"
      ]
     },
     "execution_count": 55,
     "metadata": {},
     "output_type": "execute_result"
    }
   ],
   "source": [
    "scores"
   ]
  },
  {
   "cell_type": "code",
   "execution_count": 56,
   "id": "61f2e2fe",
   "metadata": {
    "execution": {
     "iopub.execute_input": "2022-04-14T03:53:14.687208Z",
     "iopub.status.busy": "2022-04-14T03:53:14.686705Z",
     "iopub.status.idle": "2022-04-14T03:53:14.691165Z",
     "shell.execute_reply": "2022-04-14T03:53:14.690613Z"
    },
    "id": "CYy_Ca0lMoNg",
    "outputId": "e7b8d1e7-9342-40a0-f984-1f391a9f2fa0",
    "papermill": {
     "duration": 0.107388,
     "end_time": "2022-04-14T03:53:14.692855",
     "exception": false,
     "start_time": "2022-04-14T03:53:14.585467",
     "status": "completed"
    },
    "tags": []
   },
   "outputs": [
    {
     "name": "stdout",
     "output_type": "stream",
     "text": [
      "0.72 r2 accuracy with a standard deviation of 0.03\n"
     ]
    }
   ],
   "source": [
    "print(\"%0.2f r2 accuracy with a standard deviation of %0.2f\" % (scores.mean(), scores.std()))\n"
   ]
  },
  {
   "cell_type": "code",
   "execution_count": 57,
   "id": "239cf55f",
   "metadata": {
    "execution": {
     "iopub.execute_input": "2022-04-14T03:53:14.894573Z",
     "iopub.status.busy": "2022-04-14T03:53:14.894117Z",
     "iopub.status.idle": "2022-04-14T03:53:14.902286Z",
     "shell.execute_reply": "2022-04-14T03:53:14.900896Z"
    },
    "id": "u_KmmbnjCZcw",
    "outputId": "b49940a1-2ea0-4c63-e083-542180e26ea0",
    "papermill": {
     "duration": 0.111806,
     "end_time": "2022-04-14T03:53:14.904089",
     "exception": false,
     "start_time": "2022-04-14T03:53:14.792283",
     "status": "completed"
    },
    "tags": []
   },
   "outputs": [
    {
     "name": "stdout",
     "output_type": "stream",
     "text": [
      "Prediction of life expectancy:\n",
      "[62.44572793]\n"
     ]
    }
   ],
   "source": [
    "#____________________________________________SVR Predict 01____________________________________________\n",
    "\n",
    "print('Prediction of life expectancy:')\n",
    "temp_data = [[0,263,62,71.27962,1154,19.1,83,8.16,0.1,584.2592,0.479,10.1]]\n",
    "scaler.fit(temp_X_train)\n",
    "temp_data = scaler.transform(temp_data)\n",
    "abc = reg.predict(temp_data)\n",
    "print(abc)\n",
    "#the correct life expectancy is 65"
   ]
  },
  {
   "cell_type": "code",
   "execution_count": 58,
   "id": "d460ca4a",
   "metadata": {
    "execution": {
     "iopub.execute_input": "2022-04-14T03:53:15.103473Z",
     "iopub.status.busy": "2022-04-14T03:53:15.102751Z",
     "iopub.status.idle": "2022-04-14T03:53:15.110625Z",
     "shell.execute_reply": "2022-04-14T03:53:15.109379Z"
    },
    "id": "UEJ7LxT8DS12",
    "outputId": "e373f875-b920-43b8-f8d0-9e4744504493",
    "papermill": {
     "duration": 0.10886,
     "end_time": "2022-04-14T03:53:15.112133",
     "exception": false,
     "start_time": "2022-04-14T03:53:15.003273",
     "status": "completed"
    },
    "tags": []
   },
   "outputs": [
    {
     "name": "stdout",
     "output_type": "stream",
     "text": [
      "Prediction of life expectancy:\n",
      "[60.94084981]\n"
     ]
    }
   ],
   "source": [
    "#____________________________________________SVR Predict 02____________________________________________\n",
    "print('Prediction of life expectancy:')\n",
    "temp_data = [[0,281,77,56.76221682,2861,16.2,106,9.42,0.1,445.8932979,0.434,8.9]]\n",
    "scaler.fit(temp_X_train)\n",
    "temp_data = scaler.transform(temp_data)\n",
    "abc = reg.predict(temp_data)\n",
    "print(abc)\n",
    "#the correct life expectancy is 58.6"
   ]
  },
  {
   "cell_type": "code",
   "execution_count": 59,
   "id": "af43e285",
   "metadata": {
    "execution": {
     "iopub.execute_input": "2022-04-14T03:53:15.314259Z",
     "iopub.status.busy": "2022-04-14T03:53:15.313343Z",
     "iopub.status.idle": "2022-04-14T03:53:15.321532Z",
     "shell.execute_reply": "2022-04-14T03:53:15.320289Z"
    },
    "id": "XpE0OTDPDUsD",
    "outputId": "7b72d567-19e8-4a13-9f06-cb8048f37a0e",
    "papermill": {
     "duration": 0.111697,
     "end_time": "2022-04-14T03:53:15.323591",
     "exception": false,
     "start_time": "2022-04-14T03:53:15.211894",
     "status": "completed"
    },
    "tags": []
   },
   "outputs": [
    {
     "name": "stdout",
     "output_type": "stream",
     "text": [
      "Prediction of life expectancy:\n",
      "[58.83703843]\n"
     ]
    }
   ],
   "source": [
    "#____________________________________________SVR Predict 03____________________________________________\n",
    "print('Prediction of life expectancy:')\n",
    "temp_data = [[0,295,87,11.08905273,798,13.4,122,8.82,0.1,198.7285436,0.373,6.5]]\n",
    "scaler.fit(temp_X_train)\n",
    "abc =reg.predict(temp_data)\n",
    "temp_data = scaler.transform(temp_data)\n",
    "abc = reg.predict(temp_data)\n",
    "print(abc)\n",
    "#the correct life expectancy is 56.7"
   ]
  },
  {
   "cell_type": "markdown",
   "id": "b27c5e96",
   "metadata": {
    "id": "GRT-2_yuL7Wx",
    "papermill": {
     "duration": 0.09862,
     "end_time": "2022-04-14T03:53:15.522827",
     "exception": false,
     "start_time": "2022-04-14T03:53:15.424207",
     "status": "completed"
    },
    "tags": []
   },
   "source": [
    "# Neural Network\n"
   ]
  },
  {
   "cell_type": "code",
   "execution_count": 60,
   "id": "f64a0e3b",
   "metadata": {
    "execution": {
     "iopub.execute_input": "2022-04-14T03:53:15.726289Z",
     "iopub.status.busy": "2022-04-14T03:53:15.725908Z",
     "iopub.status.idle": "2022-04-14T03:53:15.738440Z",
     "shell.execute_reply": "2022-04-14T03:53:15.737733Z"
    },
    "id": "Olk-o5D0MAoH",
    "papermill": {
     "duration": 0.117466,
     "end_time": "2022-04-14T03:53:15.740914",
     "exception": false,
     "start_time": "2022-04-14T03:53:15.623448",
     "status": "completed"
    },
    "tags": []
   },
   "outputs": [],
   "source": [
    "import sklearn.neural_network as nn"
   ]
  },
  {
   "cell_type": "code",
   "execution_count": 61,
   "id": "322c9ff1",
   "metadata": {
    "execution": {
     "iopub.execute_input": "2022-04-14T03:53:15.947374Z",
     "iopub.status.busy": "2022-04-14T03:53:15.946817Z",
     "iopub.status.idle": "2022-04-14T03:53:15.952268Z",
     "shell.execute_reply": "2022-04-14T03:53:15.951338Z"
    },
    "id": "vvjp4CUiOyHF",
    "papermill": {
     "duration": 0.112259,
     "end_time": "2022-04-14T03:53:15.954569",
     "exception": false,
     "start_time": "2022-04-14T03:53:15.842310",
     "status": "completed"
    },
    "tags": []
   },
   "outputs": [],
   "source": [
    "X = hf_X\n",
    "y = yd\n",
    "\n",
    "X_train, X_test, y_train, y_test = train_test_split(X, y, test_size=0.2)\n"
   ]
  },
  {
   "cell_type": "code",
   "execution_count": 62,
   "id": "a88a9c8d",
   "metadata": {
    "execution": {
     "iopub.execute_input": "2022-04-14T03:53:16.157724Z",
     "iopub.status.busy": "2022-04-14T03:53:16.157212Z",
     "iopub.status.idle": "2022-04-14T03:53:16.162668Z",
     "shell.execute_reply": "2022-04-14T03:53:16.161919Z"
    },
    "id": "hu_bMmPuPlYR",
    "papermill": {
     "duration": 0.109906,
     "end_time": "2022-04-14T03:53:16.164377",
     "exception": false,
     "start_time": "2022-04-14T03:53:16.054471",
     "status": "completed"
    },
    "tags": []
   },
   "outputs": [],
   "source": [
    "#Normalization\n",
    "temp_X_train = X_train\n",
    "scaler.fit(X_train)\n",
    "X_train = scaler.transform(X_train)\n",
    "X_test = scaler.transform(X_test)\n",
    "\n"
   ]
  },
  {
   "cell_type": "code",
   "execution_count": 63,
   "id": "b3e4edbb",
   "metadata": {
    "execution": {
     "iopub.execute_input": "2022-04-14T03:53:16.368378Z",
     "iopub.status.busy": "2022-04-14T03:53:16.367935Z",
     "iopub.status.idle": "2022-04-14T03:54:03.151728Z",
     "shell.execute_reply": "2022-04-14T03:54:03.151064Z"
    },
    "id": "LSmUWUsIMC7E",
    "outputId": "c9f290ac-9a17-4c0b-c452-62a89dbb42b6",
    "papermill": {
     "duration": 47.015658,
     "end_time": "2022-04-14T03:54:03.280470",
     "exception": false,
     "start_time": "2022-04-14T03:53:16.264812",
     "status": "completed"
    },
    "tags": []
   },
   "outputs": [
    {
     "name": "stderr",
     "output_type": "stream",
     "text": [
      "/opt/conda/lib/python3.7/site-packages/sklearn/neural_network/_multilayer_perceptron.py:696: ConvergenceWarning: Stochastic Optimizer: Maximum iterations (200) reached and the optimization hasn't converged yet.\n",
      "  ConvergenceWarning,\n"
     ]
    }
   ],
   "source": [
    "reg = nn.MLPRegressor(hidden_layer_sizes=(1000,1000,5), activation='relu', alpha=0.01, random_state= 20,max_iter=200)\n",
    "\n",
    "reg.fit(X_train, y_train.ravel())\n",
    "y_pred = reg.predict(X_test)\n",
    "\n",
    "yu = y_pred.reshape(-1,1)"
   ]
  },
  {
   "cell_type": "code",
   "execution_count": 64,
   "id": "6c23d431",
   "metadata": {
    "execution": {
     "iopub.execute_input": "2022-04-14T03:54:03.487919Z",
     "iopub.status.busy": "2022-04-14T03:54:03.487660Z",
     "iopub.status.idle": "2022-04-14T03:54:03.495419Z",
     "shell.execute_reply": "2022-04-14T03:54:03.494414Z"
    },
    "id": "WUzZAbByME5b",
    "outputId": "27bfe0a2-1d63-4be3-d8fd-4c2a44b48631",
    "papermill": {
     "duration": 0.113476,
     "end_time": "2022-04-14T03:54:03.497080",
     "exception": false,
     "start_time": "2022-04-14T03:54:03.383604",
     "status": "completed"
    },
    "tags": []
   },
   "outputs": [
    {
     "data": {
      "text/plain": [
       "0.9068764426310356"
      ]
     },
     "execution_count": 64,
     "metadata": {},
     "output_type": "execute_result"
    }
   ],
   "source": [
    "r2_score(y_test, yu)"
   ]
  },
  {
   "cell_type": "code",
   "execution_count": 65,
   "id": "865176da",
   "metadata": {
    "execution": {
     "iopub.execute_input": "2022-04-14T03:54:03.702255Z",
     "iopub.status.busy": "2022-04-14T03:54:03.701714Z",
     "iopub.status.idle": "2022-04-14T03:54:56.781482Z",
     "shell.execute_reply": "2022-04-14T03:54:56.780826Z"
    },
    "id": "_RGVk4kgQJve",
    "outputId": "db27eb70-3ee4-4cc3-c779-120faeaeabac",
    "papermill": {
     "duration": 53.18668,
     "end_time": "2022-04-14T03:54:56.784884",
     "exception": false,
     "start_time": "2022-04-14T03:54:03.598204",
     "status": "completed"
    },
    "tags": []
   },
   "outputs": [
    {
     "name": "stderr",
     "output_type": "stream",
     "text": [
      "/opt/conda/lib/python3.7/site-packages/sklearn/neural_network/_multilayer_perceptron.py:696: ConvergenceWarning: Stochastic Optimizer: Maximum iterations (200) reached and the optimization hasn't converged yet.\n",
      "  ConvergenceWarning,\n",
      "/opt/conda/lib/python3.7/site-packages/sklearn/neural_network/_multilayer_perceptron.py:696: ConvergenceWarning: Stochastic Optimizer: Maximum iterations (200) reached and the optimization hasn't converged yet.\n",
      "  ConvergenceWarning,\n",
      "/opt/conda/lib/python3.7/site-packages/sklearn/neural_network/_multilayer_perceptron.py:696: ConvergenceWarning: Stochastic Optimizer: Maximum iterations (200) reached and the optimization hasn't converged yet.\n",
      "  ConvergenceWarning,\n",
      "/opt/conda/lib/python3.7/site-packages/sklearn/neural_network/_multilayer_perceptron.py:696: ConvergenceWarning: Stochastic Optimizer: Maximum iterations (200) reached and the optimization hasn't converged yet.\n",
      "  ConvergenceWarning,\n",
      "/opt/conda/lib/python3.7/site-packages/sklearn/neural_network/_multilayer_perceptron.py:696: ConvergenceWarning: Stochastic Optimizer: Maximum iterations (200) reached and the optimization hasn't converged yet.\n",
      "  ConvergenceWarning,\n"
     ]
    }
   ],
   "source": [
    "scores = cross_val_score(reg, X_test, y_test.ravel(), cv=5,scoring= 'r2')\n",
    "# maximum iteration reach the potimization, can not run sometimes"
   ]
  },
  {
   "cell_type": "code",
   "execution_count": 66,
   "id": "3f231f41",
   "metadata": {
    "execution": {
     "iopub.execute_input": "2022-04-14T03:54:57.034679Z",
     "iopub.status.busy": "2022-04-14T03:54:57.034424Z",
     "iopub.status.idle": "2022-04-14T03:54:57.040273Z",
     "shell.execute_reply": "2022-04-14T03:54:57.039382Z"
    },
    "id": "CWYpAk3EQJve",
    "outputId": "ac2a1984-8d07-4909-e329-7afe0f5e4ce7",
    "papermill": {
     "duration": 0.111927,
     "end_time": "2022-04-14T03:54:57.042637",
     "exception": false,
     "start_time": "2022-04-14T03:54:56.930710",
     "status": "completed"
    },
    "tags": []
   },
   "outputs": [
    {
     "data": {
      "text/plain": [
       "array([0.78334461, 0.87948915, 0.8032843 , 0.81259733, 0.82641839])"
      ]
     },
     "execution_count": 66,
     "metadata": {},
     "output_type": "execute_result"
    }
   ],
   "source": [
    "scores"
   ]
  },
  {
   "cell_type": "code",
   "execution_count": 67,
   "id": "8c8e1813",
   "metadata": {
    "execution": {
     "iopub.execute_input": "2022-04-14T03:54:57.351444Z",
     "iopub.status.busy": "2022-04-14T03:54:57.350941Z",
     "iopub.status.idle": "2022-04-14T03:54:57.355103Z",
     "shell.execute_reply": "2022-04-14T03:54:57.354533Z"
    },
    "id": "AzvneBUzQJve",
    "outputId": "115f5fad-5595-4b87-8f32-628bb3dc3722",
    "papermill": {
     "duration": 0.160005,
     "end_time": "2022-04-14T03:54:57.356912",
     "exception": false,
     "start_time": "2022-04-14T03:54:57.196907",
     "status": "completed"
    },
    "tags": []
   },
   "outputs": [
    {
     "name": "stdout",
     "output_type": "stream",
     "text": [
      "0.82 r2 accuracy with a standard deviation of 0.03\n"
     ]
    }
   ],
   "source": [
    "print(\"%0.2f r2 accuracy with a standard deviation of %0.2f\" % (scores.mean(), scores.std()))\n"
   ]
  },
  {
   "cell_type": "code",
   "execution_count": 68,
   "id": "65992fb2",
   "metadata": {
    "execution": {
     "iopub.execute_input": "2022-04-14T03:54:57.667781Z",
     "iopub.status.busy": "2022-04-14T03:54:57.667357Z",
     "iopub.status.idle": "2022-04-14T03:54:57.676226Z",
     "shell.execute_reply": "2022-04-14T03:54:57.675706Z"
    },
    "id": "ycaihsokQD5V",
    "outputId": "5e358ba4-3d53-4bba-e997-436d806b708d",
    "papermill": {
     "duration": 0.167916,
     "end_time": "2022-04-14T03:54:57.680065",
     "exception": false,
     "start_time": "2022-04-14T03:54:57.512149",
     "status": "completed"
    },
    "tags": []
   },
   "outputs": [
    {
     "name": "stdout",
     "output_type": "stream",
     "text": [
      "Prediction of life expectancy:\n",
      "[61.60910762]\n"
     ]
    }
   ],
   "source": [
    "#____________________________________________neural_network Predict 01____________________________________________\n",
    "print('Prediction of life expectancy:')\n",
    "temp_data = [[0,263,62,71.27962,1154,19.1,83,8.16,0.1,584.2592,0.479,10.1]]\n",
    "scaler.fit(temp_X_train)\n",
    "temp_data = scaler.transform(temp_data)\n",
    "abc = reg.predict(temp_data)\n",
    "print(abc)\n",
    "\n",
    "#the correct life expectancy is 65"
   ]
  },
  {
   "cell_type": "code",
   "execution_count": 69,
   "id": "893636e1",
   "metadata": {
    "execution": {
     "iopub.execute_input": "2022-04-14T03:54:58.011050Z",
     "iopub.status.busy": "2022-04-14T03:54:58.010792Z",
     "iopub.status.idle": "2022-04-14T03:54:58.018880Z",
     "shell.execute_reply": "2022-04-14T03:54:58.018370Z"
    },
    "id": "CiBkwCI5QF6w",
    "outputId": "69715db1-674c-4e19-ec1f-51a90db073ba",
    "papermill": {
     "duration": 0.167075,
     "end_time": "2022-04-14T03:54:58.021377",
     "exception": false,
     "start_time": "2022-04-14T03:54:57.854302",
     "status": "completed"
    },
    "tags": []
   },
   "outputs": [
    {
     "name": "stdout",
     "output_type": "stream",
     "text": [
      "Prediction of life expectancy:\n",
      "[59.91221482]\n"
     ]
    }
   ],
   "source": [
    "#____________________________________________neural_network Predict 02____________________________________________\n",
    "print('Prediction of life expectancy:')\n",
    "temp_data = [[0,281,77,56.76221682,2861,16.2,106,9.42,0.1,445.8932979,0.434,8.9]]\n",
    "scaler.fit(temp_X_train)\n",
    "temp_data = scaler.transform(temp_data)\n",
    "abc = reg.predict(temp_data)\n",
    "print(abc)\n",
    "#the correct life expectancy is 58.6"
   ]
  },
  {
   "cell_type": "code",
   "execution_count": 70,
   "id": "455b0b58",
   "metadata": {
    "execution": {
     "iopub.execute_input": "2022-04-14T03:54:58.257427Z",
     "iopub.status.busy": "2022-04-14T03:54:58.257202Z",
     "iopub.status.idle": "2022-04-14T03:54:58.264960Z",
     "shell.execute_reply": "2022-04-14T03:54:58.264383Z"
    },
    "id": "vlBmQX_CQIHp",
    "outputId": "bc6577ca-bb8b-4d90-b36a-a72c7c8051bc",
    "papermill": {
     "duration": 0.114495,
     "end_time": "2022-04-14T03:54:58.267681",
     "exception": false,
     "start_time": "2022-04-14T03:54:58.153186",
     "status": "completed"
    },
    "tags": []
   },
   "outputs": [
    {
     "name": "stdout",
     "output_type": "stream",
     "text": [
      "Prediction of life expectancy:\n",
      "[57.9354216]\n"
     ]
    }
   ],
   "source": [
    "#____________________________________________neural_network Predict 03____________________________________________\n",
    "print('Prediction of life expectancy:')\n",
    "temp_data = [[0,295,87,11.08905273,798,13.4,122,8.82,0.1,198.7285436,0.373,6.5]]\n",
    "scaler.fit(temp_X_train)\n",
    "abc =reg.predict(temp_data)\n",
    "temp_data = scaler.transform(temp_data)\n",
    "abc = reg.predict(temp_data)\n",
    "print(abc)\n",
    "#the correct life expectancy is 56.7"
   ]
  },
  {
   "cell_type": "markdown",
   "id": "abce98f9",
   "metadata": {
    "id": "LWKDxhtlb7cw",
    "papermill": {
     "duration": 0.104594,
     "end_time": "2022-04-14T03:54:58.499227",
     "exception": false,
     "start_time": "2022-04-14T03:54:58.394633",
     "status": "completed"
    },
    "tags": []
   },
   "source": [
    "# TREE"
   ]
  },
  {
   "cell_type": "markdown",
   "id": "b3333b65",
   "metadata": {
    "id": "yHpq7HHwYSBg",
    "papermill": {
     "duration": 0.103699,
     "end_time": "2022-04-14T03:54:58.706782",
     "exception": false,
     "start_time": "2022-04-14T03:54:58.603083",
     "status": "completed"
    },
    "tags": []
   },
   "source": [
    "Bagged Decision Tree\n"
   ]
  },
  {
   "cell_type": "code",
   "execution_count": 71,
   "id": "37ecd45d",
   "metadata": {
    "execution": {
     "iopub.execute_input": "2022-04-14T03:54:58.918530Z",
     "iopub.status.busy": "2022-04-14T03:54:58.918309Z",
     "iopub.status.idle": "2022-04-14T03:54:58.923895Z",
     "shell.execute_reply": "2022-04-14T03:54:58.922982Z"
    },
    "id": "74G5hYVpYVyS",
    "papermill": {
     "duration": 0.113757,
     "end_time": "2022-04-14T03:54:58.926105",
     "exception": false,
     "start_time": "2022-04-14T03:54:58.812348",
     "status": "completed"
    },
    "tags": []
   },
   "outputs": [],
   "source": [
    "X = hf_X\n",
    "\n",
    "y = yd\n",
    "\n",
    "X_train, X_test, y_train, y_test = train_test_split(X, y, test_size=0.2)"
   ]
  },
  {
   "cell_type": "code",
   "execution_count": 72,
   "id": "98f1a406",
   "metadata": {
    "execution": {
     "iopub.execute_input": "2022-04-14T03:54:59.243239Z",
     "iopub.status.busy": "2022-04-14T03:54:59.242674Z",
     "iopub.status.idle": "2022-04-14T03:54:59.310973Z",
     "shell.execute_reply": "2022-04-14T03:54:59.310075Z"
    },
    "id": "w1_ASGa0YbVI",
    "outputId": "5bbbf3ac-9cc8-4975-f360-192e3a06a158",
    "papermill": {
     "duration": 0.231042,
     "end_time": "2022-04-14T03:54:59.313634",
     "exception": false,
     "start_time": "2022-04-14T03:54:59.082592",
     "status": "completed"
    },
    "tags": []
   },
   "outputs": [
    {
     "name": "stderr",
     "output_type": "stream",
     "text": [
      "/opt/conda/lib/python3.7/site-packages/sklearn/ensemble/_bagging.py:429: DataConversionWarning: A column-vector y was passed when a 1d array was expected. Please change the shape of y to (n_samples, ), for example using ravel().\n",
      "  return column_or_1d(y, warn=True)\n"
     ]
    }
   ],
   "source": [
    "from sklearn.ensemble import BaggingRegressor\n",
    "reg = BaggingRegressor(random_state=20)\n",
    "reg.fit(X_train, y_train)\n",
    "y_pred = reg.predict(X_test)\n",
    "\n",
    "yu = y_pred.reshape(-1,1)"
   ]
  },
  {
   "cell_type": "code",
   "execution_count": 73,
   "id": "60f0cbc6",
   "metadata": {
    "execution": {
     "iopub.execute_input": "2022-04-14T03:54:59.522083Z",
     "iopub.status.busy": "2022-04-14T03:54:59.521844Z",
     "iopub.status.idle": "2022-04-14T03:54:59.525908Z",
     "shell.execute_reply": "2022-04-14T03:54:59.525277Z"
    },
    "id": "I6-FrCyPYcY9",
    "outputId": "9811055a-63bb-430f-c9bf-a4177dd62dcc",
    "papermill": {
     "duration": 0.11131,
     "end_time": "2022-04-14T03:54:59.528487",
     "exception": false,
     "start_time": "2022-04-14T03:54:59.417177",
     "status": "completed"
    },
    "tags": []
   },
   "outputs": [
    {
     "name": "stdout",
     "output_type": "stream",
     "text": [
      "0.926922427805152\n"
     ]
    }
   ],
   "source": [
    "print(r2_score(y_test,yu))"
   ]
  },
  {
   "cell_type": "code",
   "execution_count": 74,
   "id": "0bf2d4ca",
   "metadata": {
    "execution": {
     "iopub.execute_input": "2022-04-14T03:54:59.740399Z",
     "iopub.status.busy": "2022-04-14T03:54:59.739600Z",
     "iopub.status.idle": "2022-04-14T03:55:00.063574Z",
     "shell.execute_reply": "2022-04-14T03:55:00.062062Z"
    },
    "id": "wbY4hzjrQVEt",
    "papermill": {
     "duration": 0.43191,
     "end_time": "2022-04-14T03:55:00.066230",
     "exception": false,
     "start_time": "2022-04-14T03:54:59.634320",
     "status": "completed"
    },
    "tags": []
   },
   "outputs": [],
   "source": [
    "scores = cross_val_score(reg, X_test, y_test.ravel(), cv=10,scoring= 'r2')"
   ]
  },
  {
   "cell_type": "code",
   "execution_count": 75,
   "id": "98cfb017",
   "metadata": {
    "execution": {
     "iopub.execute_input": "2022-04-14T03:55:00.276927Z",
     "iopub.status.busy": "2022-04-14T03:55:00.276405Z",
     "iopub.status.idle": "2022-04-14T03:55:00.282496Z",
     "shell.execute_reply": "2022-04-14T03:55:00.281160Z"
    },
    "id": "ufHqN_CJQVEt",
    "outputId": "9bf4f38b-cd9a-4297-fa2d-9afed90e44f2",
    "papermill": {
     "duration": 0.113277,
     "end_time": "2022-04-14T03:55:00.284160",
     "exception": false,
     "start_time": "2022-04-14T03:55:00.170883",
     "status": "completed"
    },
    "tags": []
   },
   "outputs": [
    {
     "data": {
      "text/plain": [
       "array([0.90328958, 0.92364999, 0.84081111, 0.85608099, 0.93448817,\n",
       "       0.93051572, 0.83714161, 0.8972506 , 0.89439849, 0.77454928])"
      ]
     },
     "execution_count": 75,
     "metadata": {},
     "output_type": "execute_result"
    }
   ],
   "source": [
    "scores"
   ]
  },
  {
   "cell_type": "code",
   "execution_count": 76,
   "id": "50b82f5a",
   "metadata": {
    "execution": {
     "iopub.execute_input": "2022-04-14T03:55:00.495937Z",
     "iopub.status.busy": "2022-04-14T03:55:00.495419Z",
     "iopub.status.idle": "2022-04-14T03:55:00.500233Z",
     "shell.execute_reply": "2022-04-14T03:55:00.499669Z"
    },
    "id": "NrfjGfheQVEt",
    "outputId": "33339a7d-d97c-4ba8-bf13-823008d8fe4a",
    "papermill": {
     "duration": 0.113565,
     "end_time": "2022-04-14T03:55:00.502278",
     "exception": false,
     "start_time": "2022-04-14T03:55:00.388713",
     "status": "completed"
    },
    "tags": []
   },
   "outputs": [
    {
     "name": "stdout",
     "output_type": "stream",
     "text": [
      "0.88 r2 accuracy with a standard deviation of 0.05\n"
     ]
    }
   ],
   "source": [
    "print(\"%0.2f r2 accuracy with a standard deviation of %0.2f\" % (scores.mean(), scores.std()))\n"
   ]
  },
  {
   "cell_type": "code",
   "execution_count": 77,
   "id": "d2e47a47",
   "metadata": {
    "execution": {
     "iopub.execute_input": "2022-04-14T03:55:00.716259Z",
     "iopub.status.busy": "2022-04-14T03:55:00.715984Z",
     "iopub.status.idle": "2022-04-14T03:55:00.725704Z",
     "shell.execute_reply": "2022-04-14T03:55:00.725081Z"
    },
    "id": "ppNtSgsHQtmS",
    "outputId": "2ca7cf01-8582-4065-815a-c0f039afbc55",
    "papermill": {
     "duration": 0.118647,
     "end_time": "2022-04-14T03:55:00.727220",
     "exception": false,
     "start_time": "2022-04-14T03:55:00.608573",
     "status": "completed"
    },
    "tags": []
   },
   "outputs": [
    {
     "name": "stdout",
     "output_type": "stream",
     "text": [
      "Prediction of life expectancy:\n"
     ]
    },
    {
     "data": {
      "text/plain": [
       "array([60.4])"
      ]
     },
     "execution_count": 77,
     "metadata": {},
     "output_type": "execute_result"
    }
   ],
   "source": [
    "#____________________________________________Bagged Decision Tree Predict 01____________________________________________\n",
    "print('Prediction of life expectancy:')\n",
    "reg.predict([[0,263,62,71.27962,1154,19.1,83,8.16,0.1,584.2592,0.479,10.1]])\n",
    "\n",
    "\n",
    "#the correct life expectancy is 65"
   ]
  },
  {
   "cell_type": "code",
   "execution_count": 78,
   "id": "fee202e0",
   "metadata": {
    "execution": {
     "iopub.execute_input": "2022-04-14T03:55:00.963103Z",
     "iopub.status.busy": "2022-04-14T03:55:00.961842Z",
     "iopub.status.idle": "2022-04-14T03:55:00.973415Z",
     "shell.execute_reply": "2022-04-14T03:55:00.972447Z"
    },
    "id": "QyFkTErzQvUu",
    "outputId": "a9efa6ae-9d6d-4d54-b529-c3b96f6144a9",
    "papermill": {
     "duration": 0.142176,
     "end_time": "2022-04-14T03:55:00.975882",
     "exception": false,
     "start_time": "2022-04-14T03:55:00.833706",
     "status": "completed"
    },
    "tags": []
   },
   "outputs": [
    {
     "name": "stdout",
     "output_type": "stream",
     "text": [
      "Prediction of life expectancy:\n"
     ]
    },
    {
     "data": {
      "text/plain": [
       "array([58.9])"
      ]
     },
     "execution_count": 78,
     "metadata": {},
     "output_type": "execute_result"
    }
   ],
   "source": [
    "#____________________________________________Bagged Decision Tree Predict 02____________________________________________\n",
    "print('Prediction of life expectancy:')\n",
    "reg.predict([[0,281,77,56.76221682,2861,16.2,106,9.42,0.1,445.8932979,0.434,8.9]])\n",
    "\n",
    "\n",
    "#the correct life expectancy is 58.6"
   ]
  },
  {
   "cell_type": "code",
   "execution_count": 79,
   "id": "5f1711aa",
   "metadata": {
    "execution": {
     "iopub.execute_input": "2022-04-14T03:55:01.302604Z",
     "iopub.status.busy": "2022-04-14T03:55:01.302132Z",
     "iopub.status.idle": "2022-04-14T03:55:01.309573Z",
     "shell.execute_reply": "2022-04-14T03:55:01.308826Z"
    },
    "id": "EJO8f-oZQxbX",
    "outputId": "490d328f-3e5a-4483-c549-cb909c6f38db",
    "papermill": {
     "duration": 0.171425,
     "end_time": "2022-04-14T03:55:01.312321",
     "exception": false,
     "start_time": "2022-04-14T03:55:01.140896",
     "status": "completed"
    },
    "tags": []
   },
   "outputs": [
    {
     "name": "stdout",
     "output_type": "stream",
     "text": [
      "Prediction of life expectancy:\n"
     ]
    },
    {
     "data": {
      "text/plain": [
       "array([56.4])"
      ]
     },
     "execution_count": 79,
     "metadata": {},
     "output_type": "execute_result"
    }
   ],
   "source": [
    "#____________________________________________Bagged Decision Tree Predict 03____________________________________________\n",
    "print('Prediction of life expectancy:')\n",
    "reg.predict([[0,295,87,11.08905273,798,13.4,122,8.82,0.1,198.7285436,0.373,6.5]])\n",
    "\n",
    "#the correct life expectancy is 56.7"
   ]
  }
 ],
 "metadata": {
  "kernelspec": {
   "display_name": "Python 3",
   "language": "python",
   "name": "python3"
  },
  "language_info": {
   "codemirror_mode": {
    "name": "ipython",
    "version": 3
   },
   "file_extension": ".py",
   "mimetype": "text/x-python",
   "name": "python",
   "nbconvert_exporter": "python",
   "pygments_lexer": "ipython3",
   "version": "3.7.12"
  },
  "papermill": {
   "default_parameters": {},
   "duration": 142.522398,
   "end_time": "2022-04-14T03:55:02.396120",
   "environment_variables": {},
   "exception": null,
   "input_path": "__notebook__.ipynb",
   "output_path": "__notebook__.ipynb",
   "parameters": {},
   "start_time": "2022-04-14T03:52:39.873722",
   "version": "2.3.4"
  }
 },
 "nbformat": 4,
 "nbformat_minor": 5
}
